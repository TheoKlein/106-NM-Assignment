{
 "cells": [
  {
   "cell_type": "code",
   "execution_count": 1,
   "metadata": {},
   "outputs": [],
   "source": [
    "%matplotlib inline\n",
    "from IPython.display import display, Math\n",
    "from sympy import Symbol, Function, diff, sin, cos, N\n",
    "from sympy.solvers import solve\n",
    "from sympy.plotting import plot\n",
    "from mpmath import euler\n",
    "import pandas as pd\n",
    "\n",
    "# Some default values\n",
    "TOL = 0.0005\n",
    "MAX_ITER = 20\n",
    "MAX_PRECISION = 8\n",
    "\n",
    "def randomInitial(equation, num_range, sign, precision=MAX_PRECISION):\n",
    "    \"\"\"Generate initial value randomly.\n",
    "        \n",
    "    Args:\n",
    "        - equation: math equation\n",
    "        - num_range: the initial will between this range tuple\n",
    "        - sign:\n",
    "            - 0: generate positive number\n",
    "            - 1: generate negative number\n",
    "        - precision: round for floating number's precision\n",
    "        \n",
    "    Returns:\n",
    "        float: Random initial value.\n",
    "    \"\"\"\n",
    "    import random\n",
    "    while True:\n",
    "        n = random.uniform(num_range[0], num_range[1])\n",
    "        fx = equation.subs(x, n)\n",
    "        if sign == 0:\n",
    "            if fx > 0:\n",
    "                return N(n, precision)\n",
    "        elif sign == 1:\n",
    "            if fx < 0:\n",
    "                return N(n, precision)\n",
    "\n",
    "\n",
    "def bisection(equation, a, b, n=MAX_ITER, tol=TOL, precision=MAX_PRECISION, verbose=True):\n",
    "    \"\"\" Bisection Method\n",
    "    \n",
    "    Args:\n",
    "        - a: left endpoint\n",
    "        - b: right endpoint\n",
    "        - n: max iterations, default is 50\n",
    "        - tol: stop when the length of the search interval is less than tolerance,\n",
    "               default is 0.0005\n",
    "        - precision: round for floating number's precision, default is 8\n",
    "        - verbose: output some logs, default is True\n",
    "    \n",
    "    Returns:\n",
    "        float: Root of the equation.\n",
    "        list: Vaules during the Bisection Method.\n",
    "    \"\"\"\n",
    "    data = []\n",
    "    pn = 0\n",
    "    for step in range(n):\n",
    "        pn = a + (b - a) /2\n",
    "        fpn = N(equation.subs(x, pn), precision)\n",
    "        fan = N(equation.subs(x, a), precision)\n",
    "    \n",
    "        data.append([a, b, pn, fpn])\n",
    "        \n",
    "        if abs(fpn) < tol:\n",
    "            break\n",
    "        \n",
    "        if fpn * fan < 0:\n",
    "            b = pn\n",
    "        else:\n",
    "            a = pn\n",
    "            \n",
    "    if verbose:\n",
    "        print(\"root is found at x = {:f}\".format(pn))\n",
    "    return pn, data\n",
    "\n",
    "\n",
    "def falsePosition(equation, a, b, n=MAX_ITER, tol=TOL, precision=MAX_PRECISION, verbose=True):\n",
    "    \"\"\" False Position Method\n",
    "    \n",
    "    Args:\n",
    "        - a: left endpoint\n",
    "        - b: right endpoint\n",
    "        - n: max iterations, default is 50\n",
    "        - tol: stop when the length of the search interval is less than tolerance,\n",
    "               default is 0.0005\n",
    "        - precision: round for floating number's precision, default is 8\n",
    "        - verbose: output some logs, default is True\n",
    "    \n",
    "    Returns:\n",
    "        float: Root of the equation.\n",
    "        list: Vaules during the False Position Method.\n",
    "    \"\"\"\n",
    "    data = []\n",
    "    pn = 0\n",
    "    \n",
    "    for step in range(n):\n",
    "        fa = N(equation.subs(x, a), precision)\n",
    "        fb = N(equation.subs(x, b), precision)\n",
    "        pn = N((a - (fa * (b - a)) / (fb - fa)), precision)\n",
    "        fpn = N(equation.subs(x, pn), precision)\n",
    "        \n",
    "        data.append([a, b, pn, fpn])\n",
    "        \n",
    "        if abs(fpn) < tol:\n",
    "            break\n",
    "            \n",
    "        if fa * fpn < 0:\n",
    "            b = pn\n",
    "        else:\n",
    "            a = pn\n",
    "            \n",
    "    if verbose:\n",
    "        print(\"root is found at x = {:f}\".format(pn))\n",
    "    return pn, data\n",
    "\n",
    "\n",
    "def secant(equation, p0, p1, n=MAX_ITER, tol=TOL, precision=MAX_PRECISION, verbose=True):\n",
    "    \"\"\" Bisection Method\n",
    "    \n",
    "    Args:\n",
    "        - p0: left endpoint\n",
    "        - p1: right endpoint\n",
    "        - n: max iterations, default is 50\n",
    "        - tol: stop when the length of the search interval is less than tolerance,\n",
    "               default is 0.0005\n",
    "        - precision: round for floating number's precision, default is 8\n",
    "        - verbose: output some logs, default is True\n",
    "    \n",
    "    Returns:\n",
    "        float: Root of the equation.\n",
    "        list: Vaules during the Secant Method.\n",
    "    \"\"\"\n",
    "    data = []\n",
    "    pn = 0\n",
    "    \n",
    "    for step in range(n):\n",
    "        fp0 = N(equation.subs(x, p0), precision)\n",
    "        fp1 = N(equation.subs(x, p1), precision)\n",
    "        pn = N(p1 - (fp1 * (p1 - p0)) / (fp1 - fp0), precision)\n",
    "        fpn = N(equation.subs(x, pn), precision)\n",
    "        \n",
    "        data.append([pn, fpn])\n",
    "        \n",
    "        if abs(pn - p1) < tol:\n",
    "            break\n",
    "        \n",
    "        p0 = p1\n",
    "        p1 = pn\n",
    "        \n",
    "    if verbose:\n",
    "        print(\"root is found at x = {:f}\".format(pn))\n",
    "    return pn, data\n",
    "    \n",
    "\n",
    "def newton(equation, p0, n=MAX_ITER, tol=TOL, precision=MAX_PRECISION, verbose=True):\n",
    "    \"\"\" Newton's Method\n",
    "    \n",
    "    Args:\n",
    "        - p0: start point\n",
    "        - n: max iterations, default is 50\n",
    "        - tol: stop when the length of the search interval is less than tolerance,\n",
    "               default is 0.0005\n",
    "        - precision: round for floating number's precision, default is 8\n",
    "        - verbose: output some logs, default is True\n",
    "    \n",
    "    Returns:\n",
    "        float: Root of the equation.\n",
    "        list: Vaules during the Newton's Method.\n",
    "    \"\"\"\n",
    "    data = []\n",
    "    pn = 0\n",
    "    equation_prime = diff(equation, x)\n",
    "    \n",
    "    for step in range(n):\n",
    "        fp = N(equation.subs(x, p0), precision)\n",
    "        fpp = N(equation_prime.subs(x, p0), precision)\n",
    "        pn = N(p0 - (fp / fpp), precision)\n",
    "        fpn = N(equation.subs(x, pn), precision)\n",
    "        \n",
    "        data.append([pn, fpn])\n",
    "        \n",
    "        if abs(pn - p0) < tol:\n",
    "            break\n",
    "        \n",
    "        p0 = pn\n",
    "        \n",
    "        if step == n - 1 and verbose:\n",
    "            print('Reach the max iterations: {:d}, stop calculating.'.format(n))\n",
    "    if verbose:\n",
    "        print(\"root is found at x = {:f}\".format(pn))\n",
    "    return pn, data"
   ]
  },
  {
   "cell_type": "markdown",
   "metadata": {},
   "source": [
    "## 1. $f(x) = x^3 + 4x^2 - 10$ in the closed interval $[1, 2]$"
   ]
  },
  {
   "cell_type": "code",
   "execution_count": 2,
   "metadata": {},
   "outputs": [
    {
     "data": {
      "image/png": "[encoded data removed]",
      "text/plain": [
       "<Figure size 432x288 with 1 Axes>"
      ]
     },
     "metadata": {},
     "output_type": "display_data"
    },
    {
     "data": {
      "text/plain": [
       "<sympy.plotting.plot.Plot at 0x7f3b54103780>"
      ]
     },
     "execution_count": 2,
     "metadata": {},
     "output_type": "execute_result"
    }
   ],
   "source": [
    "x = Symbol('x')\n",
    "f = x**3 + 4 * x**2 - 10\n",
    "plot(f)"
   ]
  },
  {
   "cell_type": "markdown",
   "metadata": {},
   "source": [
    "### (a) Bisection Method"
   ]
  },
  {
   "cell_type": "code",
   "execution_count": 3,
   "metadata": {},
   "outputs": [
    {
     "name": "stdout",
     "output_type": "stream",
     "text": [
      "root is found at x = 1.365234\n"
     ]
    },
    {
     "data": {
      "text/html": [
       "<div>\n",
       "<style scoped>\n",
       "    .dataframe tbody tr th:only-of-type {\n",
       "        vertical-align: middle;\n",
       "    }\n",
       "\n",
       "    .dataframe tbody tr th {\n",
       "        vertical-align: top;\n",
       "    }\n",
       "\n",
       "    .dataframe thead th {\n",
       "        text-align: right;\n",
       "    }\n",
       "</style>\n",
       "<table border=\"1\" class=\"dataframe\">\n",
       "  <thead>\n",
       "    <tr style=\"text-align: right;\">\n",
       "      <th></th>\n",
       "      <th>an</th>\n",
       "      <th>bn</th>\n",
       "      <th>pn</th>\n",
       "      <th>f(pn)</th>\n",
       "    </tr>\n",
       "  </thead>\n",
       "  <tbody>\n",
       "    <tr>\n",
       "      <th>1</th>\n",
       "      <td>1.000000</td>\n",
       "      <td>2.000000</td>\n",
       "      <td>1.500000</td>\n",
       "      <td>2.3750000</td>\n",
       "    </tr>\n",
       "    <tr>\n",
       "      <th>2</th>\n",
       "      <td>1.000000</td>\n",
       "      <td>1.500000</td>\n",
       "      <td>1.250000</td>\n",
       "      <td>-1.7968750</td>\n",
       "    </tr>\n",
       "    <tr>\n",
       "      <th>3</th>\n",
       "      <td>1.250000</td>\n",
       "      <td>1.500000</td>\n",
       "      <td>1.375000</td>\n",
       "      <td>0.16210938</td>\n",
       "    </tr>\n",
       "    <tr>\n",
       "      <th>4</th>\n",
       "      <td>1.250000</td>\n",
       "      <td>1.375000</td>\n",
       "      <td>1.312500</td>\n",
       "      <td>-0.84838867</td>\n",
       "    </tr>\n",
       "    <tr>\n",
       "      <th>5</th>\n",
       "      <td>1.312500</td>\n",
       "      <td>1.375000</td>\n",
       "      <td>1.343750</td>\n",
       "      <td>-0.35098267</td>\n",
       "    </tr>\n",
       "    <tr>\n",
       "      <th>6</th>\n",
       "      <td>1.343750</td>\n",
       "      <td>1.375000</td>\n",
       "      <td>1.359375</td>\n",
       "      <td>-0.096408844</td>\n",
       "    </tr>\n",
       "    <tr>\n",
       "      <th>7</th>\n",
       "      <td>1.359375</td>\n",
       "      <td>1.375000</td>\n",
       "      <td>1.367188</td>\n",
       "      <td>0.032355785</td>\n",
       "    </tr>\n",
       "    <tr>\n",
       "      <th>8</th>\n",
       "      <td>1.359375</td>\n",
       "      <td>1.367188</td>\n",
       "      <td>1.363281</td>\n",
       "      <td>-0.032149971</td>\n",
       "    </tr>\n",
       "    <tr>\n",
       "      <th>9</th>\n",
       "      <td>1.363281</td>\n",
       "      <td>1.367188</td>\n",
       "      <td>1.365234</td>\n",
       "      <td>7.2024763e-5</td>\n",
       "    </tr>\n",
       "  </tbody>\n",
       "</table>\n",
       "</div>"
      ],
      "text/plain": [
       "         an        bn        pn         f(pn)\n",
       "1  1.000000  2.000000  1.500000     2.3750000\n",
       "2  1.000000  1.500000  1.250000    -1.7968750\n",
       "3  1.250000  1.500000  1.375000    0.16210938\n",
       "4  1.250000  1.375000  1.312500   -0.84838867\n",
       "5  1.312500  1.375000  1.343750   -0.35098267\n",
       "6  1.343750  1.375000  1.359375  -0.096408844\n",
       "7  1.359375  1.375000  1.367188   0.032355785\n",
       "8  1.359375  1.367188  1.363281  -0.032149971\n",
       "9  1.363281  1.367188  1.365234  7.2024763e-5"
      ]
     },
     "execution_count": 3,
     "metadata": {},
     "output_type": "execute_result"
    }
   ],
   "source": [
    "root, data = bisection(f, 1, 2)\n",
    "table = pd.DataFrame(data, columns=['an', 'bn', 'pn', 'f(pn)'])\n",
    "table.index += 1\n",
    "table"
   ]
  },
  {
   "cell_type": "markdown",
   "metadata": {},
   "source": [
    "### (b) False Position Method"
   ]
  },
  {
   "cell_type": "code",
   "execution_count": 4,
   "metadata": {},
   "outputs": [
    {
     "name": "stdout",
     "output_type": "stream",
     "text": [
      "root is found at x = 1.3652033\n"
     ]
    },
    {
     "data": {
      "text/html": [
       "<div>\n",
       "<style scoped>\n",
       "    .dataframe tbody tr th:only-of-type {\n",
       "        vertical-align: middle;\n",
       "    }\n",
       "\n",
       "    .dataframe tbody tr th {\n",
       "        vertical-align: top;\n",
       "    }\n",
       "\n",
       "    .dataframe thead th {\n",
       "        text-align: right;\n",
       "    }\n",
       "</style>\n",
       "<table border=\"1\" class=\"dataframe\">\n",
       "  <thead>\n",
       "    <tr style=\"text-align: right;\">\n",
       "      <th></th>\n",
       "      <th>an</th>\n",
       "      <th>bn</th>\n",
       "      <th>pn</th>\n",
       "      <th>f(pn)</th>\n",
       "    </tr>\n",
       "  </thead>\n",
       "  <tbody>\n",
       "    <tr>\n",
       "      <th>1</th>\n",
       "      <td>1</td>\n",
       "      <td>2</td>\n",
       "      <td>1.2631579</td>\n",
       "      <td>-1.6022744</td>\n",
       "    </tr>\n",
       "    <tr>\n",
       "      <th>2</th>\n",
       "      <td>1.2631579</td>\n",
       "      <td>2</td>\n",
       "      <td>1.3388278</td>\n",
       "      <td>-0.43036474</td>\n",
       "    </tr>\n",
       "    <tr>\n",
       "      <th>3</th>\n",
       "      <td>1.3388278</td>\n",
       "      <td>2</td>\n",
       "      <td>1.3585463</td>\n",
       "      <td>-0.11000878</td>\n",
       "    </tr>\n",
       "    <tr>\n",
       "      <th>4</th>\n",
       "      <td>1.3585463</td>\n",
       "      <td>2</td>\n",
       "      <td>1.3635474</td>\n",
       "      <td>-0.027762078</td>\n",
       "    </tr>\n",
       "    <tr>\n",
       "      <th>5</th>\n",
       "      <td>1.3635474</td>\n",
       "      <td>2</td>\n",
       "      <td>1.3648070</td>\n",
       "      <td>-0.0069834143</td>\n",
       "    </tr>\n",
       "    <tr>\n",
       "      <th>6</th>\n",
       "      <td>1.3648070</td>\n",
       "      <td>2</td>\n",
       "      <td>1.3651237</td>\n",
       "      <td>-0.0017551854</td>\n",
       "    </tr>\n",
       "    <tr>\n",
       "      <th>7</th>\n",
       "      <td>1.3651237</td>\n",
       "      <td>2</td>\n",
       "      <td>1.3652033</td>\n",
       "      <td>-0.00044105202</td>\n",
       "    </tr>\n",
       "  </tbody>\n",
       "</table>\n",
       "</div>"
      ],
      "text/plain": [
       "          an  bn         pn           f(pn)\n",
       "1          1   2  1.2631579      -1.6022744\n",
       "2  1.2631579   2  1.3388278     -0.43036474\n",
       "3  1.3388278   2  1.3585463     -0.11000878\n",
       "4  1.3585463   2  1.3635474    -0.027762078\n",
       "5  1.3635474   2  1.3648070   -0.0069834143\n",
       "6  1.3648070   2  1.3651237   -0.0017551854\n",
       "7  1.3651237   2  1.3652033  -0.00044105202"
      ]
     },
     "execution_count": 4,
     "metadata": {},
     "output_type": "execute_result"
    }
   ],
   "source": [
    "root, data = falsePosition(f, 1, 2)\n",
    "table = pd.DataFrame(data, columns=['an', 'bn', 'pn', 'f(pn)'])\n",
    "table.index += 1\n",
    "table"
   ]
  },
  {
   "cell_type": "markdown",
   "metadata": {},
   "source": [
    "### (c) Secant Method"
   ]
  },
  {
   "cell_type": "code",
   "execution_count": 5,
   "metadata": {},
   "outputs": [
    {
     "name": "stdout",
     "output_type": "stream",
     "text": [
      "root is found at x = 1.3652300\n"
     ]
    },
    {
     "data": {
      "text/html": [
       "<div>\n",
       "<style scoped>\n",
       "    .dataframe tbody tr th:only-of-type {\n",
       "        vertical-align: middle;\n",
       "    }\n",
       "\n",
       "    .dataframe tbody tr th {\n",
       "        vertical-align: top;\n",
       "    }\n",
       "\n",
       "    .dataframe thead th {\n",
       "        text-align: right;\n",
       "    }\n",
       "</style>\n",
       "<table border=\"1\" class=\"dataframe\">\n",
       "  <thead>\n",
       "    <tr style=\"text-align: right;\">\n",
       "      <th></th>\n",
       "      <th>pn</th>\n",
       "      <th>f(pn)</th>\n",
       "    </tr>\n",
       "  </thead>\n",
       "  <tbody>\n",
       "    <tr>\n",
       "      <th>2</th>\n",
       "      <td>1.2631579</td>\n",
       "      <td>-1.6022744</td>\n",
       "    </tr>\n",
       "    <tr>\n",
       "      <th>3</th>\n",
       "      <td>1.3388278</td>\n",
       "      <td>-0.43036474</td>\n",
       "    </tr>\n",
       "    <tr>\n",
       "      <th>4</th>\n",
       "      <td>1.3666164</td>\n",
       "      <td>0.022909418</td>\n",
       "    </tr>\n",
       "    <tr>\n",
       "      <th>5</th>\n",
       "      <td>1.3652119</td>\n",
       "      <td>-0.00029907376</td>\n",
       "    </tr>\n",
       "    <tr>\n",
       "      <th>6</th>\n",
       "      <td>1.3652300</td>\n",
       "      <td>-2.0116568e-7</td>\n",
       "    </tr>\n",
       "  </tbody>\n",
       "</table>\n",
       "</div>"
      ],
      "text/plain": [
       "          pn           f(pn)\n",
       "2  1.2631579      -1.6022744\n",
       "3  1.3388278     -0.43036474\n",
       "4  1.3666164     0.022909418\n",
       "5  1.3652119  -0.00029907376\n",
       "6  1.3652300   -2.0116568e-7"
      ]
     },
     "execution_count": 5,
     "metadata": {},
     "output_type": "execute_result"
    }
   ],
   "source": [
    "root, data = secant(f, 1, 2)\n",
    "table = pd.DataFrame(data, columns=['pn', 'f(pn)'])\n",
    "table.index += 2\n",
    "table"
   ]
  },
  {
   "cell_type": "markdown",
   "metadata": {},
   "source": [
    "### (d) Newton's Method"
   ]
  },
  {
   "cell_type": "code",
   "execution_count": 6,
   "metadata": {},
   "outputs": [
    {
     "name": "stdout",
     "output_type": "stream",
     "text": [
      "root is found at x = 1.3652300\n"
     ]
    },
    {
     "data": {
      "text/html": [
       "<div>\n",
       "<style scoped>\n",
       "    .dataframe tbody tr th:only-of-type {\n",
       "        vertical-align: middle;\n",
       "    }\n",
       "\n",
       "    .dataframe tbody tr th {\n",
       "        vertical-align: top;\n",
       "    }\n",
       "\n",
       "    .dataframe thead th {\n",
       "        text-align: right;\n",
       "    }\n",
       "</style>\n",
       "<table border=\"1\" class=\"dataframe\">\n",
       "  <thead>\n",
       "    <tr style=\"text-align: right;\">\n",
       "      <th></th>\n",
       "      <th>pn</th>\n",
       "      <th>f(pn)</th>\n",
       "    </tr>\n",
       "  </thead>\n",
       "  <tbody>\n",
       "    <tr>\n",
       "      <th>1</th>\n",
       "      <td>1.4545455</td>\n",
       "      <td>1.5401953</td>\n",
       "    </tr>\n",
       "    <tr>\n",
       "      <th>2</th>\n",
       "      <td>1.3689004</td>\n",
       "      <td>0.060719699</td>\n",
       "    </tr>\n",
       "    <tr>\n",
       "      <th>3</th>\n",
       "      <td>1.3652366</td>\n",
       "      <td>0.00010878593</td>\n",
       "    </tr>\n",
       "    <tr>\n",
       "      <th>4</th>\n",
       "      <td>1.3652300</td>\n",
       "      <td>-1.4901161e-8</td>\n",
       "    </tr>\n",
       "  </tbody>\n",
       "</table>\n",
       "</div>"
      ],
      "text/plain": [
       "          pn          f(pn)\n",
       "1  1.4545455      1.5401953\n",
       "2  1.3689004    0.060719699\n",
       "3  1.3652366  0.00010878593\n",
       "4  1.3652300  -1.4901161e-8"
      ]
     },
     "execution_count": 6,
     "metadata": {},
     "output_type": "execute_result"
    }
   ],
   "source": [
    "root, data = newton(f, 1)\n",
    "table = pd.DataFrame(data, columns=['pn', 'f(pn)'])\n",
    "table.index += 1\n",
    "table"
   ]
  },
  {
   "cell_type": "markdown",
   "metadata": {},
   "source": [
    "## 2. $f(x) = e^x - 2cosx$ in the closed interval $[0, 2]$"
   ]
  },
  {
   "cell_type": "code",
   "execution_count": 7,
   "metadata": {},
   "outputs": [
    {
     "data": {
      "image/png": "[encoded data removed]",
      "text/plain": [
       "<Figure size 432x288 with 1 Axes>"
      ]
     },
     "metadata": {},
     "output_type": "display_data"
    },
    {
     "data": {
      "text/plain": [
       "<sympy.plotting.plot.Plot at 0x7f3b29ce5e48>"
      ]
     },
     "execution_count": 7,
     "metadata": {},
     "output_type": "execute_result"
    }
   ],
   "source": [
    "f = euler**x - 2 * cos(x)\n",
    "plot(f)"
   ]
  },
  {
   "cell_type": "markdown",
   "metadata": {},
   "source": [
    "### (a) Bisection Method"
   ]
  },
  {
   "cell_type": "code",
   "execution_count": 8,
   "metadata": {},
   "outputs": [
    {
     "name": "stdout",
     "output_type": "stream",
     "text": [
      "root is found at x = 1.327148\n"
     ]
    },
    {
     "data": {
      "text/html": [
       "<div>\n",
       "<style scoped>\n",
       "    .dataframe tbody tr th:only-of-type {\n",
       "        vertical-align: middle;\n",
       "    }\n",
       "\n",
       "    .dataframe tbody tr th {\n",
       "        vertical-align: top;\n",
       "    }\n",
       "\n",
       "    .dataframe thead th {\n",
       "        text-align: right;\n",
       "    }\n",
       "</style>\n",
       "<table border=\"1\" class=\"dataframe\">\n",
       "  <thead>\n",
       "    <tr style=\"text-align: right;\">\n",
       "      <th></th>\n",
       "      <th>an</th>\n",
       "      <th>bn</th>\n",
       "      <th>pn</th>\n",
       "      <th>f(pn)</th>\n",
       "    </tr>\n",
       "  </thead>\n",
       "  <tbody>\n",
       "    <tr>\n",
       "      <th>1</th>\n",
       "      <td>0.000000</td>\n",
       "      <td>2.000000</td>\n",
       "      <td>1.000000</td>\n",
       "      <td>-0.50338895</td>\n",
       "    </tr>\n",
       "    <tr>\n",
       "      <th>2</th>\n",
       "      <td>1.000000</td>\n",
       "      <td>2.000000</td>\n",
       "      <td>1.500000</td>\n",
       "      <td>0.29706353</td>\n",
       "    </tr>\n",
       "    <tr>\n",
       "      <th>3</th>\n",
       "      <td>1.000000</td>\n",
       "      <td>1.500000</td>\n",
       "      <td>1.250000</td>\n",
       "      <td>-0.12752350</td>\n",
       "    </tr>\n",
       "    <tr>\n",
       "      <th>4</th>\n",
       "      <td>1.250000</td>\n",
       "      <td>1.500000</td>\n",
       "      <td>1.375000</td>\n",
       "      <td>0.080625501</td>\n",
       "    </tr>\n",
       "    <tr>\n",
       "      <th>5</th>\n",
       "      <td>1.250000</td>\n",
       "      <td>1.375000</td>\n",
       "      <td>1.312500</td>\n",
       "      <td>-0.024733230</td>\n",
       "    </tr>\n",
       "    <tr>\n",
       "      <th>6</th>\n",
       "      <td>1.312500</td>\n",
       "      <td>1.375000</td>\n",
       "      <td>1.343750</td>\n",
       "      <td>0.027655863</td>\n",
       "    </tr>\n",
       "    <tr>\n",
       "      <th>7</th>\n",
       "      <td>1.312500</td>\n",
       "      <td>1.343750</td>\n",
       "      <td>1.328125</td>\n",
       "      <td>0.0013848834</td>\n",
       "    </tr>\n",
       "    <tr>\n",
       "      <th>8</th>\n",
       "      <td>1.312500</td>\n",
       "      <td>1.328125</td>\n",
       "      <td>1.320312</td>\n",
       "      <td>-0.011693763</td>\n",
       "    </tr>\n",
       "    <tr>\n",
       "      <th>9</th>\n",
       "      <td>1.320312</td>\n",
       "      <td>1.328125</td>\n",
       "      <td>1.324219</td>\n",
       "      <td>-0.0051592773</td>\n",
       "    </tr>\n",
       "    <tr>\n",
       "      <th>10</th>\n",
       "      <td>1.324219</td>\n",
       "      <td>1.328125</td>\n",
       "      <td>1.326172</td>\n",
       "      <td>-0.0018883987</td>\n",
       "    </tr>\n",
       "    <tr>\n",
       "      <th>11</th>\n",
       "      <td>1.326172</td>\n",
       "      <td>1.328125</td>\n",
       "      <td>1.327148</td>\n",
       "      <td>-0.00025205717</td>\n",
       "    </tr>\n",
       "  </tbody>\n",
       "</table>\n",
       "</div>"
      ],
      "text/plain": [
       "          an        bn        pn           f(pn)\n",
       "1   0.000000  2.000000  1.000000     -0.50338895\n",
       "2   1.000000  2.000000  1.500000      0.29706353\n",
       "3   1.000000  1.500000  1.250000     -0.12752350\n",
       "4   1.250000  1.500000  1.375000     0.080625501\n",
       "5   1.250000  1.375000  1.312500    -0.024733230\n",
       "6   1.312500  1.375000  1.343750     0.027655863\n",
       "7   1.312500  1.343750  1.328125    0.0013848834\n",
       "8   1.312500  1.328125  1.320312    -0.011693763\n",
       "9   1.320312  1.328125  1.324219   -0.0051592773\n",
       "10  1.324219  1.328125  1.326172   -0.0018883987\n",
       "11  1.326172  1.328125  1.327148  -0.00025205717"
      ]
     },
     "execution_count": 8,
     "metadata": {},
     "output_type": "execute_result"
    }
   ],
   "source": [
    "root, data = bisection(f, 0, 2)\n",
    "table = pd.DataFrame(data, columns=['an', 'bn', 'pn', 'f(pn)'])\n",
    "table.index += 1\n",
    "table"
   ]
  },
  {
   "cell_type": "markdown",
   "metadata": {},
   "source": [
    "### (b) False Position Method"
   ]
  },
  {
   "cell_type": "code",
   "execution_count": 9,
   "metadata": {},
   "outputs": [
    {
     "name": "stdout",
     "output_type": "stream",
     "text": [
      "root is found at x = 1.3272542\n"
     ]
    },
    {
     "data": {
      "text/html": [
       "<div>\n",
       "<style scoped>\n",
       "    .dataframe tbody tr th:only-of-type {\n",
       "        vertical-align: middle;\n",
       "    }\n",
       "\n",
       "    .dataframe tbody tr th {\n",
       "        vertical-align: top;\n",
       "    }\n",
       "\n",
       "    .dataframe thead th {\n",
       "        text-align: right;\n",
       "    }\n",
       "</style>\n",
       "<table border=\"1\" class=\"dataframe\">\n",
       "  <thead>\n",
       "    <tr style=\"text-align: right;\">\n",
       "      <th></th>\n",
       "      <th>an</th>\n",
       "      <th>bn</th>\n",
       "      <th>pn</th>\n",
       "      <th>f(pn)</th>\n",
       "    </tr>\n",
       "  </thead>\n",
       "  <tbody>\n",
       "    <tr>\n",
       "      <th>1</th>\n",
       "      <td>0</td>\n",
       "      <td>2</td>\n",
       "      <td>0.92358635</td>\n",
       "      <td>-0.60395553</td>\n",
       "    </tr>\n",
       "    <tr>\n",
       "      <th>2</th>\n",
       "      <td>0.92358635</td>\n",
       "      <td>2</td>\n",
       "      <td>1.2909968</td>\n",
       "      <td>-0.060413038</td>\n",
       "    </tr>\n",
       "    <tr>\n",
       "      <th>3</th>\n",
       "      <td>1.2909968</td>\n",
       "      <td>2</td>\n",
       "      <td>1.3259373</td>\n",
       "      <td>-0.0022813838</td>\n",
       "    </tr>\n",
       "    <tr>\n",
       "      <th>4</th>\n",
       "      <td>1.3259373</td>\n",
       "      <td>2</td>\n",
       "      <td>1.3272542</td>\n",
       "      <td>-7.4847378e-5</td>\n",
       "    </tr>\n",
       "  </tbody>\n",
       "</table>\n",
       "</div>"
      ],
      "text/plain": [
       "           an  bn          pn          f(pn)\n",
       "1           0   2  0.92358635    -0.60395553\n",
       "2  0.92358635   2   1.2909968   -0.060413038\n",
       "3   1.2909968   2   1.3259373  -0.0022813838\n",
       "4   1.3259373   2   1.3272542  -7.4847378e-5"
      ]
     },
     "execution_count": 9,
     "metadata": {},
     "output_type": "execute_result"
    }
   ],
   "source": [
    "root, data = falsePosition(f, 0, 2)\n",
    "table = pd.DataFrame(data, columns=['an', 'bn', 'pn', 'f(pn)'])\n",
    "table.index += 1\n",
    "table"
   ]
  },
  {
   "cell_type": "markdown",
   "metadata": {},
   "source": [
    "### (c) Secant Method"
   ]
  },
  {
   "cell_type": "code",
   "execution_count": 10,
   "metadata": {},
   "outputs": [
    {
     "name": "stdout",
     "output_type": "stream",
     "text": [
      "root is found at x = 1.3272988\n"
     ]
    },
    {
     "data": {
      "text/html": [
       "<div>\n",
       "<style scoped>\n",
       "    .dataframe tbody tr th:only-of-type {\n",
       "        vertical-align: middle;\n",
       "    }\n",
       "\n",
       "    .dataframe tbody tr th {\n",
       "        vertical-align: top;\n",
       "    }\n",
       "\n",
       "    .dataframe thead th {\n",
       "        text-align: right;\n",
       "    }\n",
       "</style>\n",
       "<table border=\"1\" class=\"dataframe\">\n",
       "  <thead>\n",
       "    <tr style=\"text-align: right;\">\n",
       "      <th></th>\n",
       "      <th>pn</th>\n",
       "      <th>f(pn)</th>\n",
       "    </tr>\n",
       "  </thead>\n",
       "  <tbody>\n",
       "    <tr>\n",
       "      <th>2</th>\n",
       "      <td>0.92358635</td>\n",
       "      <td>-0.60395553</td>\n",
       "    </tr>\n",
       "    <tr>\n",
       "      <th>3</th>\n",
       "      <td>1.2909968</td>\n",
       "      <td>-0.060413038</td>\n",
       "    </tr>\n",
       "    <tr>\n",
       "      <th>4</th>\n",
       "      <td>1.3318333</td>\n",
       "      <td>0.0076062397</td>\n",
       "    </tr>\n",
       "    <tr>\n",
       "      <th>5</th>\n",
       "      <td>1.3272668</td>\n",
       "      <td>-5.3762708e-5</td>\n",
       "    </tr>\n",
       "    <tr>\n",
       "      <th>6</th>\n",
       "      <td>1.3272988</td>\n",
       "      <td>-4.5709608e-8</td>\n",
       "    </tr>\n",
       "  </tbody>\n",
       "</table>\n",
       "</div>"
      ],
      "text/plain": [
       "           pn          f(pn)\n",
       "2  0.92358635    -0.60395553\n",
       "3   1.2909968   -0.060413038\n",
       "4   1.3318333   0.0076062397\n",
       "5   1.3272668  -5.3762708e-5\n",
       "6   1.3272988  -4.5709608e-8"
      ]
     },
     "execution_count": 10,
     "metadata": {},
     "output_type": "execute_result"
    }
   ],
   "source": [
    "root, data = secant(f, 0, 2)\n",
    "table = pd.DataFrame(data, columns=['pn', 'f(pn)'])\n",
    "table.index += 2\n",
    "table"
   ]
  },
  {
   "cell_type": "markdown",
   "metadata": {},
   "source": [
    "### (d) Newton's Method"
   ]
  },
  {
   "cell_type": "code",
   "execution_count": 11,
   "metadata": {},
   "outputs": [
    {
     "name": "stdout",
     "output_type": "stream",
     "text": [
      "root is found at x = 1.3272989\n"
     ]
    },
    {
     "data": {
      "text/html": [
       "<div>\n",
       "<style scoped>\n",
       "    .dataframe tbody tr th:only-of-type {\n",
       "        vertical-align: middle;\n",
       "    }\n",
       "\n",
       "    .dataframe tbody tr th {\n",
       "        vertical-align: top;\n",
       "    }\n",
       "\n",
       "    .dataframe thead th {\n",
       "        text-align: right;\n",
       "    }\n",
       "</style>\n",
       "<table border=\"1\" class=\"dataframe\">\n",
       "  <thead>\n",
       "    <tr style=\"text-align: right;\">\n",
       "      <th></th>\n",
       "      <th>pn</th>\n",
       "      <th>f(pn)</th>\n",
       "    </tr>\n",
       "  </thead>\n",
       "  <tbody>\n",
       "    <tr>\n",
       "      <th>1</th>\n",
       "      <td>1.2873915</td>\n",
       "      <td>-0.066364056</td>\n",
       "    </tr>\n",
       "    <tr>\n",
       "      <th>2</th>\n",
       "      <td>1.3276278</td>\n",
       "      <td>0.00055140471</td>\n",
       "    </tr>\n",
       "    <tr>\n",
       "      <th>3</th>\n",
       "      <td>1.3272989</td>\n",
       "      <td>3.5521020e-8</td>\n",
       "    </tr>\n",
       "  </tbody>\n",
       "</table>\n",
       "</div>"
      ],
      "text/plain": [
       "          pn          f(pn)\n",
       "1  1.2873915   -0.066364056\n",
       "2  1.3276278  0.00055140471\n",
       "3  1.3272989   3.5521020e-8"
      ]
     },
     "execution_count": 11,
     "metadata": {},
     "output_type": "execute_result"
    }
   ],
   "source": [
    "root, data = newton(f, 2)\n",
    "table = pd.DataFrame(data, columns=['pn', 'f(pn)'])\n",
    "table.index += 1\n",
    "table"
   ]
  },
  {
   "cell_type": "markdown",
   "metadata": {},
   "source": [
    "## 3. $f(x) = 4xcos(2x) - (x-2)^2$ has four roots in $[0, 8]$"
   ]
  },
  {
   "cell_type": "code",
   "execution_count": 12,
   "metadata": {},
   "outputs": [
    {
     "data": {
      "image/png": "[encoded data removed]",
      "text/plain": [
       "<Figure size 432x288 with 1 Axes>"
      ]
     },
     "metadata": {},
     "output_type": "display_data"
    },
    {
     "data": {
      "text/plain": [
       "<sympy.plotting.plot.Plot at 0x7f3b29bd4cc0>"
      ]
     },
     "execution_count": 12,
     "metadata": {},
     "output_type": "execute_result"
    }
   ],
   "source": [
    "f = 4 * cos(2 * x) - (x - 2)**2\n",
    "plot(f)"
   ]
  },
  {
   "cell_type": "markdown",
   "metadata": {},
   "source": [
    "### Generate initial value randomly"
   ]
  },
  {
   "cell_type": "code",
   "execution_count": 13,
   "metadata": {},
   "outputs": [
    {
     "data": {
      "text/latex": [
       "$$a = 3.1600197$$"
      ],
      "text/plain": [
       "<IPython.core.display.Math object>"
      ]
     },
     "metadata": {},
     "output_type": "display_data"
    },
    {
     "data": {
      "text/latex": [
       "$$b = 6.8709130$$"
      ],
      "text/plain": [
       "<IPython.core.display.Math object>"
      ]
     },
     "metadata": {},
     "output_type": "display_data"
    },
    {
     "data": {
      "text/latex": [
       "$$f(a) = 2.6516382 > 0$$"
      ],
      "text/plain": [
       "<IPython.core.display.Math object>"
      ]
     },
     "metadata": {},
     "output_type": "display_data"
    },
    {
     "data": {
      "text/latex": [
       "$$f(b) = -22.185303 < 0$$"
      ],
      "text/plain": [
       "<IPython.core.display.Math object>"
      ]
     },
     "metadata": {},
     "output_type": "display_data"
    }
   ],
   "source": [
    "a = randomInitial(f, (0, 8), 0)\n",
    "b = randomInitial(f, (0, 8), 1)\n",
    "display(Math('a = {}'.format(a)))\n",
    "display(Math('b = {}'.format(b)))\n",
    "display(Math('f(a) = {} > 0'.format(f.subs(x, a))))\n",
    "display(Math('f(b) = {} < 0'.format(f.subs(x, b))))"
   ]
  },
  {
   "cell_type": "markdown",
   "metadata": {},
   "source": [
    "### (a) Bisection Method"
   ]
  },
  {
   "cell_type": "code",
   "execution_count": 14,
   "metadata": {},
   "outputs": [
    {
     "name": "stdout",
     "output_type": "stream",
     "text": [
      "root is found at x = 3.5866229\n"
     ]
    },
    {
     "data": {
      "text/html": [
       "<div>\n",
       "<style scoped>\n",
       "    .dataframe tbody tr th:only-of-type {\n",
       "        vertical-align: middle;\n",
       "    }\n",
       "\n",
       "    .dataframe tbody tr th {\n",
       "        vertical-align: top;\n",
       "    }\n",
       "\n",
       "    .dataframe thead th {\n",
       "        text-align: right;\n",
       "    }\n",
       "</style>\n",
       "<table border=\"1\" class=\"dataframe\">\n",
       "  <thead>\n",
       "    <tr style=\"text-align: right;\">\n",
       "      <th></th>\n",
       "      <th>an</th>\n",
       "      <th>bn</th>\n",
       "      <th>pn</th>\n",
       "      <th>f(pn)</th>\n",
       "    </tr>\n",
       "  </thead>\n",
       "  <tbody>\n",
       "    <tr>\n",
       "      <th>1</th>\n",
       "      <td>3.1600197</td>\n",
       "      <td>6.8709130</td>\n",
       "      <td>5.0154664</td>\n",
       "      <td>-12.380416</td>\n",
       "    </tr>\n",
       "    <tr>\n",
       "      <th>2</th>\n",
       "      <td>3.1600197</td>\n",
       "      <td>5.0154664</td>\n",
       "      <td>4.0877430</td>\n",
       "      <td>-5.6226480</td>\n",
       "    </tr>\n",
       "    <tr>\n",
       "      <th>3</th>\n",
       "      <td>3.1600197</td>\n",
       "      <td>4.0877430</td>\n",
       "      <td>3.6238814</td>\n",
       "      <td>-0.35793384</td>\n",
       "    </tr>\n",
       "    <tr>\n",
       "      <th>4</th>\n",
       "      <td>3.1600197</td>\n",
       "      <td>3.6238814</td>\n",
       "      <td>3.3919505</td>\n",
       "      <td>1.5714305</td>\n",
       "    </tr>\n",
       "    <tr>\n",
       "      <th>5</th>\n",
       "      <td>3.3919505</td>\n",
       "      <td>3.6238814</td>\n",
       "      <td>3.5079159</td>\n",
       "      <td>0.69981699</td>\n",
       "    </tr>\n",
       "    <tr>\n",
       "      <th>6</th>\n",
       "      <td>3.5079159</td>\n",
       "      <td>3.6238814</td>\n",
       "      <td>3.5658987</td>\n",
       "      <td>0.19206256</td>\n",
       "    </tr>\n",
       "    <tr>\n",
       "      <th>7</th>\n",
       "      <td>3.5658987</td>\n",
       "      <td>3.6238814</td>\n",
       "      <td>3.5948900</td>\n",
       "      <td>-0.077951413</td>\n",
       "    </tr>\n",
       "    <tr>\n",
       "      <th>8</th>\n",
       "      <td>3.5658987</td>\n",
       "      <td>3.5948900</td>\n",
       "      <td>3.5803943</td>\n",
       "      <td>0.058339790</td>\n",
       "    </tr>\n",
       "    <tr>\n",
       "      <th>9</th>\n",
       "      <td>3.5803943</td>\n",
       "      <td>3.5948900</td>\n",
       "      <td>3.5876422</td>\n",
       "      <td>-0.0094894618</td>\n",
       "    </tr>\n",
       "    <tr>\n",
       "      <th>10</th>\n",
       "      <td>3.5803943</td>\n",
       "      <td>3.5876422</td>\n",
       "      <td>3.5840182</td>\n",
       "      <td>0.024504863</td>\n",
       "    </tr>\n",
       "    <tr>\n",
       "      <th>11</th>\n",
       "      <td>3.5840182</td>\n",
       "      <td>3.5876422</td>\n",
       "      <td>3.5858302</td>\n",
       "      <td>0.0075275637</td>\n",
       "    </tr>\n",
       "    <tr>\n",
       "      <th>12</th>\n",
       "      <td>3.5858302</td>\n",
       "      <td>3.5876422</td>\n",
       "      <td>3.5867362</td>\n",
       "      <td>-0.00097601488</td>\n",
       "    </tr>\n",
       "    <tr>\n",
       "      <th>13</th>\n",
       "      <td>3.5858302</td>\n",
       "      <td>3.5867362</td>\n",
       "      <td>3.5862832</td>\n",
       "      <td>0.0032770112</td>\n",
       "    </tr>\n",
       "    <tr>\n",
       "      <th>14</th>\n",
       "      <td>3.5862832</td>\n",
       "      <td>3.5867362</td>\n",
       "      <td>3.5865097</td>\n",
       "      <td>0.0011508279</td>\n",
       "    </tr>\n",
       "    <tr>\n",
       "      <th>15</th>\n",
       "      <td>3.5865097</td>\n",
       "      <td>3.5867362</td>\n",
       "      <td>3.5866229</td>\n",
       "      <td>8.7484717e-5</td>\n",
       "    </tr>\n",
       "  </tbody>\n",
       "</table>\n",
       "</div>"
      ],
      "text/plain": [
       "           an         bn         pn           f(pn)\n",
       "1   3.1600197  6.8709130  5.0154664      -12.380416\n",
       "2   3.1600197  5.0154664  4.0877430      -5.6226480\n",
       "3   3.1600197  4.0877430  3.6238814     -0.35793384\n",
       "4   3.1600197  3.6238814  3.3919505       1.5714305\n",
       "5   3.3919505  3.6238814  3.5079159      0.69981699\n",
       "6   3.5079159  3.6238814  3.5658987      0.19206256\n",
       "7   3.5658987  3.6238814  3.5948900    -0.077951413\n",
       "8   3.5658987  3.5948900  3.5803943     0.058339790\n",
       "9   3.5803943  3.5948900  3.5876422   -0.0094894618\n",
       "10  3.5803943  3.5876422  3.5840182     0.024504863\n",
       "11  3.5840182  3.5876422  3.5858302    0.0075275637\n",
       "12  3.5858302  3.5876422  3.5867362  -0.00097601488\n",
       "13  3.5858302  3.5867362  3.5862832    0.0032770112\n",
       "14  3.5862832  3.5867362  3.5865097    0.0011508279\n",
       "15  3.5865097  3.5867362  3.5866229    8.7484717e-5"
      ]
     },
     "execution_count": 14,
     "metadata": {},
     "output_type": "execute_result"
    }
   ],
   "source": [
    "root, data = bisection(f, a, b)\n",
    "table = pd.DataFrame(data, columns=['an', 'bn', 'pn', 'f(pn)'])\n",
    "table.index += 1\n",
    "table"
   ]
  },
  {
   "cell_type": "markdown",
   "metadata": {},
   "source": [
    "### (b) False Position Method"
   ]
  },
  {
   "cell_type": "code",
   "execution_count": 15,
   "metadata": {},
   "outputs": [
    {
     "name": "stdout",
     "output_type": "stream",
     "text": [
      "root is found at x = 3.5866307\n"
     ]
    },
    {
     "data": {
      "text/html": [
       "<div>\n",
       "<style scoped>\n",
       "    .dataframe tbody tr th:only-of-type {\n",
       "        vertical-align: middle;\n",
       "    }\n",
       "\n",
       "    .dataframe tbody tr th {\n",
       "        vertical-align: top;\n",
       "    }\n",
       "\n",
       "    .dataframe thead th {\n",
       "        text-align: right;\n",
       "    }\n",
       "</style>\n",
       "<table border=\"1\" class=\"dataframe\">\n",
       "  <thead>\n",
       "    <tr style=\"text-align: right;\">\n",
       "      <th></th>\n",
       "      <th>an</th>\n",
       "      <th>bn</th>\n",
       "      <th>pn</th>\n",
       "      <th>f(pn)</th>\n",
       "    </tr>\n",
       "  </thead>\n",
       "  <tbody>\n",
       "    <tr>\n",
       "      <th>1</th>\n",
       "      <td>3.1600197</td>\n",
       "      <td>6.8709130</td>\n",
       "      <td>3.5562016</td>\n",
       "      <td>0.28004740</td>\n",
       "    </tr>\n",
       "    <tr>\n",
       "      <th>2</th>\n",
       "      <td>3.5562016</td>\n",
       "      <td>6.8709130</td>\n",
       "      <td>3.5975220</td>\n",
       "      <td>-0.10296712</td>\n",
       "    </tr>\n",
       "    <tr>\n",
       "      <th>3</th>\n",
       "      <td>3.5562016</td>\n",
       "      <td>3.5975220</td>\n",
       "      <td>3.5864137</td>\n",
       "      <td>0.0020523779</td>\n",
       "    </tr>\n",
       "    <tr>\n",
       "      <th>4</th>\n",
       "      <td>3.5864137</td>\n",
       "      <td>3.5975220</td>\n",
       "      <td>3.5866307</td>\n",
       "      <td>1.4163554e-5</td>\n",
       "    </tr>\n",
       "  </tbody>\n",
       "</table>\n",
       "</div>"
      ],
      "text/plain": [
       "          an         bn         pn         f(pn)\n",
       "1  3.1600197  6.8709130  3.5562016    0.28004740\n",
       "2  3.5562016  6.8709130  3.5975220   -0.10296712\n",
       "3  3.5562016  3.5975220  3.5864137  0.0020523779\n",
       "4  3.5864137  3.5975220  3.5866307  1.4163554e-5"
      ]
     },
     "execution_count": 15,
     "metadata": {},
     "output_type": "execute_result"
    }
   ],
   "source": [
    "root, data = falsePosition(f, a, b)\n",
    "table = pd.DataFrame(data, columns=['an', 'bn', 'pn', 'f(pn)'])\n",
    "table.index += 1\n",
    "table"
   ]
  },
  {
   "cell_type": "markdown",
   "metadata": {},
   "source": [
    "### (c) Secant Method"
   ]
  },
  {
   "cell_type": "code",
   "execution_count": 16,
   "metadata": {},
   "outputs": [
    {
     "name": "stdout",
     "output_type": "stream",
     "text": [
      "root is found at x = 3.5866307\n"
     ]
    },
    {
     "data": {
      "text/html": [
       "<div>\n",
       "<style scoped>\n",
       "    .dataframe tbody tr th:only-of-type {\n",
       "        vertical-align: middle;\n",
       "    }\n",
       "\n",
       "    .dataframe tbody tr th {\n",
       "        vertical-align: top;\n",
       "    }\n",
       "\n",
       "    .dataframe thead th {\n",
       "        text-align: right;\n",
       "    }\n",
       "</style>\n",
       "<table border=\"1\" class=\"dataframe\">\n",
       "  <thead>\n",
       "    <tr style=\"text-align: right;\">\n",
       "      <th></th>\n",
       "      <th>pn</th>\n",
       "      <th>f(pn)</th>\n",
       "    </tr>\n",
       "  </thead>\n",
       "  <tbody>\n",
       "    <tr>\n",
       "      <th>2</th>\n",
       "      <td>3.5562016</td>\n",
       "      <td>0.28004743</td>\n",
       "    </tr>\n",
       "    <tr>\n",
       "      <th>3</th>\n",
       "      <td>3.5975220</td>\n",
       "      <td>-0.10296715</td>\n",
       "    </tr>\n",
       "    <tr>\n",
       "      <th>4</th>\n",
       "      <td>3.5864137</td>\n",
       "      <td>0.0020523779</td>\n",
       "    </tr>\n",
       "    <tr>\n",
       "      <th>5</th>\n",
       "      <td>3.5866307</td>\n",
       "      <td>1.4163554e-5</td>\n",
       "    </tr>\n",
       "  </tbody>\n",
       "</table>\n",
       "</div>"
      ],
      "text/plain": [
       "          pn         f(pn)\n",
       "2  3.5562016    0.28004743\n",
       "3  3.5975220   -0.10296715\n",
       "4  3.5864137  0.0020523779\n",
       "5  3.5866307  1.4163554e-5"
      ]
     },
     "execution_count": 16,
     "metadata": {},
     "output_type": "execute_result"
    }
   ],
   "source": [
    "root, data = secant(f, a, b)\n",
    "table = pd.DataFrame(data, columns=['pn', 'f(pn)'])\n",
    "table.index += 2\n",
    "table"
   ]
  },
  {
   "cell_type": "markdown",
   "metadata": {},
   "source": [
    "### (d) Newton's Method"
   ]
  },
  {
   "cell_type": "code",
   "execution_count": 17,
   "metadata": {},
   "outputs": [
    {
     "name": "stdout",
     "output_type": "stream",
     "text": [
      "Reach the max iterations: 20, stop calculating.\n",
      "root is found at x = 7.0408086\n"
     ]
    },
    {
     "data": {
      "text/html": [
       "<div>\n",
       "<style scoped>\n",
       "    .dataframe tbody tr th:only-of-type {\n",
       "        vertical-align: middle;\n",
       "    }\n",
       "\n",
       "    .dataframe tbody tr th {\n",
       "        vertical-align: top;\n",
       "    }\n",
       "\n",
       "    .dataframe thead th {\n",
       "        text-align: right;\n",
       "    }\n",
       "</style>\n",
       "<table border=\"1\" class=\"dataframe\">\n",
       "  <thead>\n",
       "    <tr style=\"text-align: right;\">\n",
       "      <th></th>\n",
       "      <th>pn</th>\n",
       "      <th>f(pn)</th>\n",
       "    </tr>\n",
       "  </thead>\n",
       "  <tbody>\n",
       "    <tr>\n",
       "      <th>1</th>\n",
       "      <td>5.5754019</td>\n",
       "      <td>-12.165071</td>\n",
       "    </tr>\n",
       "    <tr>\n",
       "      <th>2</th>\n",
       "      <td>21.730773</td>\n",
       "      <td>-385.83361</td>\n",
       "    </tr>\n",
       "    <tr>\n",
       "      <th>3</th>\n",
       "      <td>10.856488</td>\n",
       "      <td>-82.283612</td>\n",
       "    </tr>\n",
       "    <tr>\n",
       "      <th>4</th>\n",
       "      <td>6.7236619</td>\n",
       "      <td>-19.767317</td>\n",
       "    </tr>\n",
       "    <tr>\n",
       "      <th>5</th>\n",
       "      <td>5.4579939</td>\n",
       "      <td>-12.275732</td>\n",
       "    </tr>\n",
       "    <tr>\n",
       "      <th>6</th>\n",
       "      <td>17.053208</td>\n",
       "      <td>-230.19894</td>\n",
       "    </tr>\n",
       "    <tr>\n",
       "      <th>7</th>\n",
       "      <td>10.200843</td>\n",
       "      <td>-67.179162</td>\n",
       "    </tr>\n",
       "    <tr>\n",
       "      <th>8</th>\n",
       "      <td>7.4476315</td>\n",
       "      <td>-32.426849</td>\n",
       "    </tr>\n",
       "    <tr>\n",
       "      <th>9</th>\n",
       "      <td>5.5064194</td>\n",
       "      <td>-12.225922</td>\n",
       "    </tr>\n",
       "    <tr>\n",
       "      <th>10</th>\n",
       "      <td>17.906325</td>\n",
       "      <td>-254.25298</td>\n",
       "    </tr>\n",
       "    <tr>\n",
       "      <th>11</th>\n",
       "      <td>7.4034451</td>\n",
       "      <td>-31.680296</td>\n",
       "    </tr>\n",
       "    <tr>\n",
       "      <th>12</th>\n",
       "      <td>5.5485007</td>\n",
       "      <td>-12.186844</td>\n",
       "    </tr>\n",
       "    <tr>\n",
       "      <th>13</th>\n",
       "      <td>19.688271</td>\n",
       "      <td>-313.30068</td>\n",
       "    </tr>\n",
       "    <tr>\n",
       "      <th>14</th>\n",
       "      <td>12.457884</td>\n",
       "      <td>-105.46111</td>\n",
       "    </tr>\n",
       "    <tr>\n",
       "      <th>15</th>\n",
       "      <td>6.9632746</td>\n",
       "      <td>-23.797838</td>\n",
       "    </tr>\n",
       "    <tr>\n",
       "      <th>16</th>\n",
       "      <td>5.6225335</td>\n",
       "      <td>-12.135099</td>\n",
       "    </tr>\n",
       "    <tr>\n",
       "      <th>17</th>\n",
       "      <td>29.546537</td>\n",
       "      <td>-762.11936</td>\n",
       "    </tr>\n",
       "    <tr>\n",
       "      <th>18</th>\n",
       "      <td>16.757501</td>\n",
       "      <td>-219.80004</td>\n",
       "    </tr>\n",
       "    <tr>\n",
       "      <th>19</th>\n",
       "      <td>10.723085</td>\n",
       "      <td>-79.512757</td>\n",
       "    </tr>\n",
       "    <tr>\n",
       "      <th>20</th>\n",
       "      <td>7.0408086</td>\n",
       "      <td>-25.187667</td>\n",
       "    </tr>\n",
       "  </tbody>\n",
       "</table>\n",
       "</div>"
      ],
      "text/plain": [
       "           pn       f(pn)\n",
       "1   5.5754019  -12.165071\n",
       "2   21.730773  -385.83361\n",
       "3   10.856488  -82.283612\n",
       "4   6.7236619  -19.767317\n",
       "5   5.4579939  -12.275732\n",
       "6   17.053208  -230.19894\n",
       "7   10.200843  -67.179162\n",
       "8   7.4476315  -32.426849\n",
       "9   5.5064194  -12.225922\n",
       "10  17.906325  -254.25298\n",
       "11  7.4034451  -31.680296\n",
       "12  5.5485007  -12.186844\n",
       "13  19.688271  -313.30068\n",
       "14  12.457884  -105.46111\n",
       "15  6.9632746  -23.797838\n",
       "16  5.6225335  -12.135099\n",
       "17  29.546537  -762.11936\n",
       "18  16.757501  -219.80004\n",
       "19  10.723085  -79.512757\n",
       "20  7.0408086  -25.187667"
      ]
     },
     "execution_count": 17,
     "metadata": {},
     "output_type": "execute_result"
    }
   ],
   "source": [
    "root, data = newton(f, b)\n",
    "table = pd.DataFrame(data, columns=['pn', 'f(pn)'])\n",
    "table.index += 1\n",
    "table"
   ]
  },
  {
   "cell_type": "markdown",
   "metadata": {},
   "source": [
    "## 4. $f(x) = x^5 - 4.5x^4 + 4.55x^3 + 2.675x^2 -3.3x-1.3375$"
   ]
  },
  {
   "cell_type": "code",
   "execution_count": 18,
   "metadata": {},
   "outputs": [
    {
     "data": {
      "image/png": "[encoded data removed]",
      "text/plain": [
       "<Figure size 432x288 with 1 Axes>"
      ]
     },
     "metadata": {},
     "output_type": "display_data"
    },
    {
     "data": {
      "text/plain": [
       "<sympy.plotting.plot.Plot at 0x7f3b29c6f9b0>"
      ]
     },
     "execution_count": 18,
     "metadata": {},
     "output_type": "execute_result"
    }
   ],
   "source": [
    "f = x**5 - 4.5*x**4 + 4.55*x**3 + 2.675*x**2 - 3.3*x - 1.3375\n",
    "plot(f)"
   ]
  },
  {
   "cell_type": "markdown",
   "metadata": {},
   "source": [
    "### (a) Secant Method using $p_{0} = -0.5,p_{1}=-0.4975,N=20$ and $TOL=10^{-5}$"
   ]
  },
  {
   "cell_type": "code",
   "execution_count": 19,
   "metadata": {},
   "outputs": [
    {
     "name": "stdout",
     "output_type": "stream",
     "text": [
      "root is found at x = -0.58581401\n"
     ]
    },
    {
     "data": {
      "text/html": [
       "<div>\n",
       "<style scoped>\n",
       "    .dataframe tbody tr th:only-of-type {\n",
       "        vertical-align: middle;\n",
       "    }\n",
       "\n",
       "    .dataframe tbody tr th {\n",
       "        vertical-align: top;\n",
       "    }\n",
       "\n",
       "    .dataframe thead th {\n",
       "        text-align: right;\n",
       "    }\n",
       "</style>\n",
       "<table border=\"1\" class=\"dataframe\">\n",
       "  <thead>\n",
       "    <tr style=\"text-align: right;\">\n",
       "      <th></th>\n",
       "      <th>pn</th>\n",
       "      <th>f(pn)</th>\n",
       "    </tr>\n",
       "  </thead>\n",
       "  <tbody>\n",
       "    <tr>\n",
       "      <th>2</th>\n",
       "      <td>2.8030791</td>\n",
       "      <td>5.8801494</td>\n",
       "    </tr>\n",
       "    <tr>\n",
       "      <th>3</th>\n",
       "      <td>-0.55455800</td>\n",
       "      <td>0.061165649</td>\n",
       "    </tr>\n",
       "    <tr>\n",
       "      <th>4</th>\n",
       "      <td>-0.58985146</td>\n",
       "      <td>-0.010195116</td>\n",
       "    </tr>\n",
       "    <tr>\n",
       "      <th>5</th>\n",
       "      <td>-0.58480918</td>\n",
       "      <td>0.0024529591</td>\n",
       "    </tr>\n",
       "    <tr>\n",
       "      <th>6</th>\n",
       "      <td>-0.58578707</td>\n",
       "      <td>6.6188269e-5</td>\n",
       "    </tr>\n",
       "    <tr>\n",
       "      <th>7</th>\n",
       "      <td>-0.58581419</td>\n",
       "      <td>-4.5023626e-7</td>\n",
       "    </tr>\n",
       "    <tr>\n",
       "      <th>8</th>\n",
       "      <td>-0.58581401</td>\n",
       "      <td>2.7939695e-10</td>\n",
       "    </tr>\n",
       "  </tbody>\n",
       "</table>\n",
       "</div>"
      ],
      "text/plain": [
       "            pn          f(pn)\n",
       "2    2.8030791      5.8801494\n",
       "3  -0.55455800    0.061165649\n",
       "4  -0.58985146   -0.010195116\n",
       "5  -0.58480918   0.0024529591\n",
       "6  -0.58578707   6.6188269e-5\n",
       "7  -0.58581419  -4.5023626e-7\n",
       "8  -0.58581401  2.7939695e-10"
      ]
     },
     "execution_count": 19,
     "metadata": {},
     "output_type": "execute_result"
    }
   ],
   "source": [
    "root, data = secant(f, -0.5, -0.4975, tol=10**-5)\n",
    "table = pd.DataFrame(data, columns=['pn', 'f(pn)'])\n",
    "table.index += 2\n",
    "table"
   ]
  },
  {
   "cell_type": "markdown",
   "metadata": {},
   "source": [
    "### (b) Newton's Method using $p_{0}=-0.4975,N=20$ and $TOL=10^{-5}$"
   ]
  },
  {
   "cell_type": "code",
   "execution_count": 20,
   "metadata": {},
   "outputs": [
    {
     "name": "stdout",
     "output_type": "stream",
     "text": [
      "root is found at x = 2.4891164\n"
     ]
    },
    {
     "data": {
      "text/html": [
       "<div>\n",
       "<style scoped>\n",
       "    .dataframe tbody tr th:only-of-type {\n",
       "        vertical-align: middle;\n",
       "    }\n",
       "\n",
       "    .dataframe tbody tr th {\n",
       "        vertical-align: top;\n",
       "    }\n",
       "\n",
       "    .dataframe thead th {\n",
       "        text-align: right;\n",
       "    }\n",
       "</style>\n",
       "<table border=\"1\" class=\"dataframe\">\n",
       "  <thead>\n",
       "    <tr style=\"text-align: right;\">\n",
       "      <th></th>\n",
       "      <th>pn</th>\n",
       "      <th>f(pn)</th>\n",
       "    </tr>\n",
       "  </thead>\n",
       "  <tbody>\n",
       "    <tr>\n",
       "      <th>1</th>\n",
       "      <td>2.9097745</td>\n",
       "      <td>9.8070279</td>\n",
       "    </tr>\n",
       "    <tr>\n",
       "      <th>2</th>\n",
       "      <td>2.6807210</td>\n",
       "      <td>2.7403269</td>\n",
       "    </tr>\n",
       "    <tr>\n",
       "      <th>3</th>\n",
       "      <td>2.5476161</td>\n",
       "      <td>0.60748870</td>\n",
       "    </tr>\n",
       "    <tr>\n",
       "      <th>4</th>\n",
       "      <td>2.4966420</td>\n",
       "      <td>0.068539981</td>\n",
       "    </tr>\n",
       "    <tr>\n",
       "      <th>5</th>\n",
       "      <td>2.4892622</td>\n",
       "      <td>0.0013026537</td>\n",
       "    </tr>\n",
       "    <tr>\n",
       "      <th>6</th>\n",
       "      <td>2.4891164</td>\n",
       "      <td>4.3679027e-7</td>\n",
       "    </tr>\n",
       "    <tr>\n",
       "      <th>7</th>\n",
       "      <td>2.4891164</td>\n",
       "      <td>-6.4261281e-8</td>\n",
       "    </tr>\n",
       "  </tbody>\n",
       "</table>\n",
       "</div>"
      ],
      "text/plain": [
       "          pn          f(pn)\n",
       "1  2.9097745      9.8070279\n",
       "2  2.6807210      2.7403269\n",
       "3  2.5476161     0.60748870\n",
       "4  2.4966420    0.068539981\n",
       "5  2.4892622   0.0013026537\n",
       "6  2.4891164   4.3679027e-7\n",
       "7  2.4891164  -6.4261281e-8"
      ]
     },
     "execution_count": 20,
     "metadata": {},
     "output_type": "execute_result"
    }
   ],
   "source": [
    "root, data = newton(f, 0.4975, tol=10**-5)\n",
    "table = pd.DataFrame(data, columns=['pn', 'f(pn)'])\n",
    "table.index += 1\n",
    "table"
   ]
  },
  {
   "cell_type": "markdown",
   "metadata": {},
   "source": [
    "## 5. Compare the Secant Method and Newton's Method for finding a root of each function below.\n",
    "### (a) $F(x)=x^3-3x+1$, $p_{0}=2$"
   ]
  },
  {
   "cell_type": "code",
   "execution_count": 21,
   "metadata": {},
   "outputs": [
    {
     "data": {
      "image/png": "[encoded data removed]",
      "text/plain": [
       "<Figure size 432x288 with 1 Axes>"
      ]
     },
     "metadata": {},
     "output_type": "display_data"
    },
    {
     "data": {
      "text/plain": [
       "<sympy.plotting.plot.Plot at 0x7f3b29a627b8>"
      ]
     },
     "execution_count": 21,
     "metadata": {},
     "output_type": "execute_result"
    }
   ],
   "source": [
    "f = x**3 - 3 * x + 1\n",
    "plot(f)"
   ]
  },
  {
   "cell_type": "markdown",
   "metadata": {},
   "source": [
    "#### Newton's Method"
   ]
  },
  {
   "cell_type": "code",
   "execution_count": 22,
   "metadata": {},
   "outputs": [
    {
     "name": "stdout",
     "output_type": "stream",
     "text": [
      "root is found at x = 1.5320890\n"
     ]
    },
    {
     "data": {
      "text/html": [
       "<div>\n",
       "<style scoped>\n",
       "    .dataframe tbody tr th:only-of-type {\n",
       "        vertical-align: middle;\n",
       "    }\n",
       "\n",
       "    .dataframe tbody tr th {\n",
       "        vertical-align: top;\n",
       "    }\n",
       "\n",
       "    .dataframe thead th {\n",
       "        text-align: right;\n",
       "    }\n",
       "</style>\n",
       "<table border=\"1\" class=\"dataframe\">\n",
       "  <thead>\n",
       "    <tr style=\"text-align: right;\">\n",
       "      <th></th>\n",
       "      <th>pn</th>\n",
       "      <th>f(pn)</th>\n",
       "    </tr>\n",
       "  </thead>\n",
       "  <tbody>\n",
       "    <tr>\n",
       "      <th>1</th>\n",
       "      <td>1.6666667</td>\n",
       "      <td>0.62962963</td>\n",
       "    </tr>\n",
       "    <tr>\n",
       "      <th>2</th>\n",
       "      <td>1.5486111</td>\n",
       "      <td>0.068040214</td>\n",
       "    </tr>\n",
       "    <tr>\n",
       "      <th>3</th>\n",
       "      <td>1.5323902</td>\n",
       "      <td>0.0012181401</td>\n",
       "    </tr>\n",
       "    <tr>\n",
       "      <th>4</th>\n",
       "      <td>1.5320890</td>\n",
       "      <td>4.1723251e-7</td>\n",
       "    </tr>\n",
       "  </tbody>\n",
       "</table>\n",
       "</div>"
      ],
      "text/plain": [
       "          pn         f(pn)\n",
       "1  1.6666667    0.62962963\n",
       "2  1.5486111   0.068040214\n",
       "3  1.5323902  0.0012181401\n",
       "4  1.5320890  4.1723251e-7"
      ]
     },
     "execution_count": 22,
     "metadata": {},
     "output_type": "execute_result"
    }
   ],
   "source": [
    "root, data = newton(f, 2)\n",
    "table = pd.DataFrame(data, columns=['pn', 'f(pn)'])\n",
    "table.index += 1\n",
    "table"
   ]
  },
  {
   "cell_type": "markdown",
   "metadata": {},
   "source": [
    "#### Secant Method"
   ]
  },
  {
   "cell_type": "code",
   "execution_count": 23,
   "metadata": {},
   "outputs": [
    {
     "name": "stdout",
     "output_type": "stream",
     "text": [
      "root is found at x = 1.5320909\n"
     ]
    },
    {
     "data": {
      "text/html": [
       "<div>\n",
       "<style scoped>\n",
       "    .dataframe tbody tr th:only-of-type {\n",
       "        vertical-align: middle;\n",
       "    }\n",
       "\n",
       "    .dataframe tbody tr th {\n",
       "        vertical-align: top;\n",
       "    }\n",
       "\n",
       "    .dataframe thead th {\n",
       "        text-align: right;\n",
       "    }\n",
       "</style>\n",
       "<table border=\"1\" class=\"dataframe\">\n",
       "  <thead>\n",
       "    <tr style=\"text-align: right;\">\n",
       "      <th></th>\n",
       "      <th>pn</th>\n",
       "      <th>f(pn)</th>\n",
       "    </tr>\n",
       "  </thead>\n",
       "  <tbody>\n",
       "    <tr>\n",
       "      <th>2</th>\n",
       "      <td>1.5781250</td>\n",
       "      <td>0.19591141</td>\n",
       "    </tr>\n",
       "    <tr>\n",
       "      <th>3</th>\n",
       "      <td>1.5381305</td>\n",
       "      <td>0.024587721</td>\n",
       "    </tr>\n",
       "    <tr>\n",
       "      <th>4</th>\n",
       "      <td>1.5323907</td>\n",
       "      <td>0.0012203082</td>\n",
       "    </tr>\n",
       "    <tr>\n",
       "      <th>5</th>\n",
       "      <td>1.5320909</td>\n",
       "      <td>8.3297491e-6</td>\n",
       "    </tr>\n",
       "  </tbody>\n",
       "</table>\n",
       "</div>"
      ],
      "text/plain": [
       "          pn         f(pn)\n",
       "2  1.5781250    0.19591141\n",
       "3  1.5381305   0.024587721\n",
       "4  1.5323907  0.0012203082\n",
       "5  1.5320909  8.3297491e-6"
      ]
     },
     "execution_count": 23,
     "metadata": {},
     "output_type": "execute_result"
    }
   ],
   "source": [
    "root, data = secant(f, 2, data[0][0])\n",
    "table = pd.DataFrame(data, columns=['pn', 'f(pn)'])\n",
    "table.index += 2\n",
    "table"
   ]
  },
  {
   "cell_type": "markdown",
   "metadata": {},
   "source": [
    "### (b) $F(x)=x^3-2sinx$, $p_{0}=0.5$"
   ]
  },
  {
   "cell_type": "code",
   "execution_count": 24,
   "metadata": {},
   "outputs": [
    {
     "data": {
      "image/png": "[encoded data removed]",
      "text/plain": [
       "<Figure size 432x288 with 1 Axes>"
      ]
     },
     "metadata": {},
     "output_type": "display_data"
    },
    {
     "data": {
      "text/plain": [
       "<sympy.plotting.plot.Plot at 0x7f3b299a2c88>"
      ]
     },
     "execution_count": 24,
     "metadata": {},
     "output_type": "execute_result"
    }
   ],
   "source": [
    "f = x**3 - 2 * sin(x)\n",
    "plot(f)"
   ]
  },
  {
   "cell_type": "markdown",
   "metadata": {},
   "source": [
    "#### Newton's Method"
   ]
  },
  {
   "cell_type": "code",
   "execution_count": 25,
   "metadata": {},
   "outputs": [
    {
     "name": "stdout",
     "output_type": "stream",
     "text": [
      "root is found at x = 0.000000000036379788\n"
     ]
    },
    {
     "data": {
      "text/html": [
       "<div>\n",
       "<style scoped>\n",
       "    .dataframe tbody tr th:only-of-type {\n",
       "        vertical-align: middle;\n",
       "    }\n",
       "\n",
       "    .dataframe tbody tr th {\n",
       "        vertical-align: top;\n",
       "    }\n",
       "\n",
       "    .dataframe thead th {\n",
       "        text-align: right;\n",
       "    }\n",
       "</style>\n",
       "<table border=\"1\" class=\"dataframe\">\n",
       "  <thead>\n",
       "    <tr style=\"text-align: right;\">\n",
       "      <th></th>\n",
       "      <th>pn</th>\n",
       "      <th>f(pn)</th>\n",
       "    </tr>\n",
       "  </thead>\n",
       "  <tbody>\n",
       "    <tr>\n",
       "      <th>1</th>\n",
       "      <td>-0.32956626</td>\n",
       "      <td>0.61146985</td>\n",
       "    </tr>\n",
       "    <tr>\n",
       "      <th>2</th>\n",
       "      <td>0.060769224</td>\n",
       "      <td>-0.12123924</td>\n",
       "    </tr>\n",
       "    <tr>\n",
       "      <th>3</th>\n",
       "      <td>-0.00030141784</td>\n",
       "      <td>0.00060283564</td>\n",
       "    </tr>\n",
       "    <tr>\n",
       "      <th>4</th>\n",
       "      <td>3.6379788e-11</td>\n",
       "      <td>-7.2759576e-11</td>\n",
       "    </tr>\n",
       "  </tbody>\n",
       "</table>\n",
       "</div>"
      ],
      "text/plain": [
       "               pn           f(pn)\n",
       "1     -0.32956626      0.61146985\n",
       "2     0.060769224     -0.12123924\n",
       "3  -0.00030141784   0.00060283564\n",
       "4   3.6379788e-11  -7.2759576e-11"
      ]
     },
     "execution_count": 25,
     "metadata": {},
     "output_type": "execute_result"
    }
   ],
   "source": [
    "root, data = newton(f, 0.5)\n",
    "table = pd.DataFrame(data, columns=['pn', 'f(pn)'])\n",
    "table.index += 1\n",
    "table"
   ]
  },
  {
   "cell_type": "markdown",
   "metadata": {},
   "source": [
    "#### Secant Method"
   ]
  },
  {
   "cell_type": "code",
   "execution_count": 26,
   "metadata": {},
   "outputs": [
    {
     "name": "stdout",
     "output_type": "stream",
     "text": [
      "root is found at x = 0.00000000000036770587\n"
     ]
    },
    {
     "data": {
      "text/html": [
       "<div>\n",
       "<style scoped>\n",
       "    .dataframe tbody tr th:only-of-type {\n",
       "        vertical-align: middle;\n",
       "    }\n",
       "\n",
       "    .dataframe tbody tr th {\n",
       "        vertical-align: top;\n",
       "    }\n",
       "\n",
       "    .dataframe thead th {\n",
       "        text-align: right;\n",
       "    }\n",
       "</style>\n",
       "<table border=\"1\" class=\"dataframe\">\n",
       "  <thead>\n",
       "    <tr style=\"text-align: right;\">\n",
       "      <th></th>\n",
       "      <th>pn</th>\n",
       "      <th>f(pn)</th>\n",
       "    </tr>\n",
       "  </thead>\n",
       "  <tbody>\n",
       "    <tr>\n",
       "      <th>2</th>\n",
       "      <td>-0.58530703</td>\n",
       "      <td>0.90439365</td>\n",
       "    </tr>\n",
       "    <tr>\n",
       "      <th>3</th>\n",
       "      <td>0.20428508</td>\n",
       "      <td>-0.39720902</td>\n",
       "    </tr>\n",
       "    <tr>\n",
       "      <th>4</th>\n",
       "      <td>-0.036674093</td>\n",
       "      <td>0.073282420</td>\n",
       "    </tr>\n",
       "    <tr>\n",
       "      <th>5</th>\n",
       "      <td>0.00085702864</td>\n",
       "      <td>-0.0017140565</td>\n",
       "    </tr>\n",
       "    <tr>\n",
       "      <th>6</th>\n",
       "      <td>-7.5114986e-7</td>\n",
       "      <td>1.5022997e-6</td>\n",
       "    </tr>\n",
       "    <tr>\n",
       "      <th>7</th>\n",
       "      <td>3.6770587e-13</td>\n",
       "      <td>-7.3541173e-13</td>\n",
       "    </tr>\n",
       "  </tbody>\n",
       "</table>\n",
       "</div>"
      ],
      "text/plain": [
       "              pn           f(pn)\n",
       "2    -0.58530703      0.90439365\n",
       "3     0.20428508     -0.39720902\n",
       "4   -0.036674093     0.073282420\n",
       "5  0.00085702864   -0.0017140565\n",
       "6  -7.5114986e-7    1.5022997e-6\n",
       "7  3.6770587e-13  -7.3541173e-13"
      ]
     },
     "execution_count": 26,
     "metadata": {},
     "output_type": "execute_result"
    }
   ],
   "source": [
    "root, data = secant(f, 2, data[0][0])\n",
    "table = pd.DataFrame(data, columns=['pn', 'f(pn)'])\n",
    "table.index += 2\n",
    "table"
   ]
  },
  {
   "cell_type": "markdown",
   "metadata": {},
   "source": [
    "## 6. $f(x)=x^5-9x^4-x^3+17x^2-8x-8$"
   ]
  },
  {
   "cell_type": "code",
   "execution_count": 27,
   "metadata": {},
   "outputs": [
    {
     "data": {
      "image/png": "[encoded data removed]",
      "text/plain": [
       "<Figure size 432x288 with 1 Axes>"
      ]
     },
     "metadata": {},
     "output_type": "display_data"
    },
    {
     "data": {
      "text/plain": [
       "<sympy.plotting.plot.Plot at 0x7f3b29a14b70>"
      ]
     },
     "execution_count": 27,
     "metadata": {},
     "output_type": "execute_result"
    }
   ],
   "source": [
    "f = x**5-9*x**4-x**3+17*x**2-8*x-8\n",
    "plot(f)"
   ]
  },
  {
   "cell_type": "markdown",
   "metadata": {},
   "source": [
    "### Newton's Method using $p_{0}=0$"
   ]
  },
  {
   "cell_type": "code",
   "execution_count": 28,
   "metadata": {},
   "outputs": [
    {
     "name": "stdout",
     "output_type": "stream",
     "text": [
      "Reach the max iterations: 20, stop calculating.\n",
      "root is found at x = 1.0000000\n"
     ]
    },
    {
     "data": {
      "text/html": [
       "<div>\n",
       "<style scoped>\n",
       "    .dataframe tbody tr th:only-of-type {\n",
       "        vertical-align: middle;\n",
       "    }\n",
       "\n",
       "    .dataframe tbody tr th {\n",
       "        vertical-align: top;\n",
       "    }\n",
       "\n",
       "    .dataframe thead th {\n",
       "        text-align: right;\n",
       "    }\n",
       "</style>\n",
       "<table border=\"1\" class=\"dataframe\">\n",
       "  <thead>\n",
       "    <tr style=\"text-align: right;\">\n",
       "      <th></th>\n",
       "      <th>pn</th>\n",
       "      <th>f(pn)</th>\n",
       "    </tr>\n",
       "  </thead>\n",
       "  <tbody>\n",
       "    <tr>\n",
       "      <th>1</th>\n",
       "      <td>-1.0000000</td>\n",
       "      <td>8.0000000</td>\n",
       "    </tr>\n",
       "    <tr>\n",
       "      <th>2</th>\n",
       "      <td>1.0000000</td>\n",
       "      <td>-8.0000000</td>\n",
       "    </tr>\n",
       "    <tr>\n",
       "      <th>3</th>\n",
       "      <td>0</td>\n",
       "      <td>-8.0000000</td>\n",
       "    </tr>\n",
       "    <tr>\n",
       "      <th>4</th>\n",
       "      <td>-1.0000000</td>\n",
       "      <td>8.0000000</td>\n",
       "    </tr>\n",
       "    <tr>\n",
       "      <th>5</th>\n",
       "      <td>1.0000000</td>\n",
       "      <td>-8.0000000</td>\n",
       "    </tr>\n",
       "    <tr>\n",
       "      <th>6</th>\n",
       "      <td>0</td>\n",
       "      <td>-8.0000000</td>\n",
       "    </tr>\n",
       "    <tr>\n",
       "      <th>7</th>\n",
       "      <td>-1.0000000</td>\n",
       "      <td>8.0000000</td>\n",
       "    </tr>\n",
       "    <tr>\n",
       "      <th>8</th>\n",
       "      <td>1.0000000</td>\n",
       "      <td>-8.0000000</td>\n",
       "    </tr>\n",
       "    <tr>\n",
       "      <th>9</th>\n",
       "      <td>0</td>\n",
       "      <td>-8.0000000</td>\n",
       "    </tr>\n",
       "    <tr>\n",
       "      <th>10</th>\n",
       "      <td>-1.0000000</td>\n",
       "      <td>8.0000000</td>\n",
       "    </tr>\n",
       "    <tr>\n",
       "      <th>11</th>\n",
       "      <td>1.0000000</td>\n",
       "      <td>-8.0000000</td>\n",
       "    </tr>\n",
       "    <tr>\n",
       "      <th>12</th>\n",
       "      <td>0</td>\n",
       "      <td>-8.0000000</td>\n",
       "    </tr>\n",
       "    <tr>\n",
       "      <th>13</th>\n",
       "      <td>-1.0000000</td>\n",
       "      <td>8.0000000</td>\n",
       "    </tr>\n",
       "    <tr>\n",
       "      <th>14</th>\n",
       "      <td>1.0000000</td>\n",
       "      <td>-8.0000000</td>\n",
       "    </tr>\n",
       "    <tr>\n",
       "      <th>15</th>\n",
       "      <td>0</td>\n",
       "      <td>-8.0000000</td>\n",
       "    </tr>\n",
       "    <tr>\n",
       "      <th>16</th>\n",
       "      <td>-1.0000000</td>\n",
       "      <td>8.0000000</td>\n",
       "    </tr>\n",
       "    <tr>\n",
       "      <th>17</th>\n",
       "      <td>1.0000000</td>\n",
       "      <td>-8.0000000</td>\n",
       "    </tr>\n",
       "    <tr>\n",
       "      <th>18</th>\n",
       "      <td>0</td>\n",
       "      <td>-8.0000000</td>\n",
       "    </tr>\n",
       "    <tr>\n",
       "      <th>19</th>\n",
       "      <td>-1.0000000</td>\n",
       "      <td>8.0000000</td>\n",
       "    </tr>\n",
       "    <tr>\n",
       "      <th>20</th>\n",
       "      <td>1.0000000</td>\n",
       "      <td>-8.0000000</td>\n",
       "    </tr>\n",
       "  </tbody>\n",
       "</table>\n",
       "</div>"
      ],
      "text/plain": [
       "            pn       f(pn)\n",
       "1   -1.0000000   8.0000000\n",
       "2    1.0000000  -8.0000000\n",
       "3            0  -8.0000000\n",
       "4   -1.0000000   8.0000000\n",
       "5    1.0000000  -8.0000000\n",
       "6            0  -8.0000000\n",
       "7   -1.0000000   8.0000000\n",
       "8    1.0000000  -8.0000000\n",
       "9            0  -8.0000000\n",
       "10  -1.0000000   8.0000000\n",
       "11   1.0000000  -8.0000000\n",
       "12           0  -8.0000000\n",
       "13  -1.0000000   8.0000000\n",
       "14   1.0000000  -8.0000000\n",
       "15           0  -8.0000000\n",
       "16  -1.0000000   8.0000000\n",
       "17   1.0000000  -8.0000000\n",
       "18           0  -8.0000000\n",
       "19  -1.0000000   8.0000000\n",
       "20   1.0000000  -8.0000000"
      ]
     },
     "execution_count": 28,
     "metadata": {},
     "output_type": "execute_result"
    }
   ],
   "source": [
    "root, data = newton(f, 0)\n",
    "table = pd.DataFrame(data, columns=['pn', 'f(pn)'])\n",
    "table.index += 1\n",
    "table"
   ]
  }
 ],
 "metadata": {
  "kernelspec": {
   "display_name": "Python 3",
   "language": "python",
   "name": "python3"
  },
  "language_info": {
   "codemirror_mode": {
    "name": "ipython",
    "version": 3
   },
   "file_extension": ".py",
   "mimetype": "text/x-python",
   "name": "python",
   "nbconvert_exporter": "python",
   "pygments_lexer": "ipython3",
   "version": "3.6.4"
  }
 },
 "nbformat": 4,
 "nbformat_minor": 2
}
