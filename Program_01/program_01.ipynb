{
 "cells": [
  {
   "cell_type": "code",
   "execution_count": 1,
   "metadata": {},
   "outputs": [],
   "source": [
    "%matplotlib inline\n",
    "from IPython.display import display, Math\n",
    "from sympy import Symbol, Function, diff, sin, cos, N, E\n",
    "from sympy.solvers import solve\n",
    "from sympy.plotting import plot\n",
    "import pandas as pd\n",
    "\n",
    "# Some default values\n",
    "TOL = 0.0005\n",
    "MAX_ITER = 20\n",
    "MAX_PRECISION = 8\n",
    "\n",
    "def randomInitial(equation, num_range, sign, precision=MAX_PRECISION):\n",
    "    \"\"\"Generate initial value randomly.\n",
    "        \n",
    "    Args:\n",
    "        - equation: math equation\n",
    "        - num_range: the initial will between this range tuple\n",
    "        - sign:\n",
    "            - 0: generate positive number\n",
    "            - 1: generate negative number\n",
    "        - precision: round for floating number's precision\n",
    "        \n",
    "    Returns:\n",
    "        float: Random initial value.\n",
    "    \"\"\"\n",
    "    import random\n",
    "    while True:\n",
    "        n = random.uniform(num_range[0], num_range[1])\n",
    "        fx = equation.subs(x, n)\n",
    "        if sign == 0:\n",
    "            if fx > 0:\n",
    "                return N(n, precision)\n",
    "        elif sign == 1:\n",
    "            if fx < 0:\n",
    "                return N(n, precision)\n",
    "\n",
    "\n",
    "def bisection(equation, a, b, n=MAX_ITER, tol=TOL, precision=MAX_PRECISION, verbose=True):\n",
    "    \"\"\" Bisection Method\n",
    "    \n",
    "    Args:\n",
    "        - a: left endpoint\n",
    "        - b: right endpoint\n",
    "        - n: max iterations, default is 50\n",
    "        - tol: stop when the length of the search interval is less than tolerance,\n",
    "               default is 0.0005\n",
    "        - precision: round for floating number's precision, default is 8\n",
    "        - verbose: output some logs, default is True\n",
    "    \n",
    "    Returns:\n",
    "        float: Root of the equation.\n",
    "        list: Vaules during the Bisection Method.\n",
    "    \"\"\"\n",
    "    data = []\n",
    "    pn = 0\n",
    "    for step in range(n):\n",
    "        pn = a + (b - a) /2\n",
    "        fpn = N(equation.subs(x, pn), precision)\n",
    "        fan = N(equation.subs(x, a), precision)\n",
    "    \n",
    "        data.append([a, b, pn, fpn])\n",
    "        \n",
    "        if abs(fpn) < tol:\n",
    "            break\n",
    "        \n",
    "        if fpn * fan < 0:\n",
    "            b = pn\n",
    "        else:\n",
    "            a = pn\n",
    "            \n",
    "    if verbose:\n",
    "        print(\"root is found at x = {:f}\".format(pn))\n",
    "    return pn, data\n",
    "\n",
    "\n",
    "def falsePosition(equation, a, b, n=MAX_ITER, tol=TOL, precision=MAX_PRECISION, verbose=True):\n",
    "    \"\"\" False Position Method\n",
    "    \n",
    "    Args:\n",
    "        - a: left endpoint\n",
    "        - b: right endpoint\n",
    "        - n: max iterations, default is 50\n",
    "        - tol: stop when the length of the search interval is less than tolerance,\n",
    "               default is 0.0005\n",
    "        - precision: round for floating number's precision, default is 8\n",
    "        - verbose: output some logs, default is True\n",
    "    \n",
    "    Returns:\n",
    "        float: Root of the equation.\n",
    "        list: Vaules during the False Position Method.\n",
    "    \"\"\"\n",
    "    data = []\n",
    "    pn = 0\n",
    "    \n",
    "    for step in range(n):\n",
    "        fa = N(equation.subs(x, a), precision)\n",
    "        fb = N(equation.subs(x, b), precision)\n",
    "        pn = N((a - (fa * (b - a)) / (fb - fa)), precision)\n",
    "        fpn = N(equation.subs(x, pn), precision)\n",
    "        \n",
    "        data.append([a, b, pn, fpn])\n",
    "        \n",
    "        if abs(fpn) < tol:\n",
    "            break\n",
    "            \n",
    "        if fa * fpn < 0:\n",
    "            b = pn\n",
    "        else:\n",
    "            a = pn\n",
    "            \n",
    "    if verbose:\n",
    "        print(\"root is found at x = {:f}\".format(pn))\n",
    "    return pn, data\n",
    "\n",
    "\n",
    "def secant(equation, p0, p1, n=MAX_ITER, tol=TOL, precision=MAX_PRECISION, verbose=True):\n",
    "    \"\"\" Bisection Method\n",
    "    \n",
    "    Args:\n",
    "        - p0: left endpoint\n",
    "        - p1: right endpoint\n",
    "        - n: max iterations, default is 50\n",
    "        - tol: stop when the length of the search interval is less than tolerance,\n",
    "               default is 0.0005\n",
    "        - precision: round for floating number's precision, default is 8\n",
    "        - verbose: output some logs, default is True\n",
    "    \n",
    "    Returns:\n",
    "        float: Root of the equation.\n",
    "        list: Vaules during the Secant Method.\n",
    "    \"\"\"\n",
    "    data = []\n",
    "    pn = 0\n",
    "    \n",
    "    for step in range(n):\n",
    "        fp0 = N(equation.subs(x, p0), precision)\n",
    "        fp1 = N(equation.subs(x, p1), precision)\n",
    "        pn = N(p1 - (fp1 * (p1 - p0)) / (fp1 - fp0), precision)\n",
    "        fpn = N(equation.subs(x, pn), precision)\n",
    "        \n",
    "        data.append([pn, fpn])\n",
    "        \n",
    "        if abs(pn - p1) < tol:\n",
    "            break\n",
    "        \n",
    "        p0 = p1\n",
    "        p1 = pn\n",
    "        \n",
    "    if verbose:\n",
    "        print(\"root is found at x = {:f}\".format(pn))\n",
    "    return pn, data\n",
    "    \n",
    "\n",
    "def newton(equation, p0, n=MAX_ITER, tol=TOL, precision=MAX_PRECISION, verbose=True):\n",
    "    \"\"\" Newton's Method\n",
    "    \n",
    "    Args:\n",
    "        - p0: start point\n",
    "        - n: max iterations, default is 50\n",
    "        - tol: stop when the length of the search interval is less than tolerance,\n",
    "               default is 0.0005\n",
    "        - precision: round for floating number's precision, default is 8\n",
    "        - verbose: output some logs, default is True\n",
    "    \n",
    "    Returns:\n",
    "        float: Root of the equation.\n",
    "        list: Vaules during the Newton's Method.\n",
    "    \"\"\"\n",
    "    data = []\n",
    "    pn = 0\n",
    "    equation_prime = diff(equation, x)\n",
    "    \n",
    "    for step in range(n):\n",
    "        fp = N(equation.subs(x, p0), precision)\n",
    "        fpp = N(equation_prime.subs(x, p0), precision)\n",
    "        pn = N(p0 - (fp / fpp), precision)\n",
    "        fpn = N(equation.subs(x, pn), precision)\n",
    "        \n",
    "        data.append([pn, fpn])\n",
    "        \n",
    "        if abs(pn - p0) < tol:\n",
    "            break\n",
    "        \n",
    "        p0 = pn\n",
    "        \n",
    "        if step == n - 1 and verbose:\n",
    "            print('Reach the max iterations: {:d}, stop calculating.'.format(n))\n",
    "    if verbose:\n",
    "        print(\"root is found at x = {:f}\".format(pn))\n",
    "    return pn, data"
   ]
  },
  {
   "cell_type": "markdown",
   "metadata": {},
   "source": [
    "## 1. $f(x) = x^3 + 4x^2 - 10$ in the closed interval $[1, 2]$"
   ]
  },
  {
   "cell_type": "code",
   "execution_count": 2,
   "metadata": {},
   "outputs": [
    {
     "data": {
      "image/png": "[encoded data removed]",
      "text/plain": [
       "<Figure size 432x288 with 1 Axes>"
      ]
     },
     "metadata": {},
     "output_type": "display_data"
    },
    {
     "data": {
      "text/plain": [
       "<sympy.plotting.plot.Plot at 0x7f5b1086a940>"
      ]
     },
     "execution_count": 2,
     "metadata": {},
     "output_type": "execute_result"
    }
   ],
   "source": [
    "x = Symbol('x')\n",
    "f = x**3 + 4 * x**2 - 10\n",
    "plot(f)"
   ]
  },
  {
   "cell_type": "markdown",
   "metadata": {},
   "source": [
    "### (a) Bisection Method"
   ]
  },
  {
   "cell_type": "code",
   "execution_count": 3,
   "metadata": {},
   "outputs": [
    {
     "name": "stdout",
     "output_type": "stream",
     "text": [
      "root is found at x = 1.365234\n"
     ]
    },
    {
     "data": {
      "text/html": [
       "<div>\n",
       "<style scoped>\n",
       "    .dataframe tbody tr th:only-of-type {\n",
       "        vertical-align: middle;\n",
       "    }\n",
       "\n",
       "    .dataframe tbody tr th {\n",
       "        vertical-align: top;\n",
       "    }\n",
       "\n",
       "    .dataframe thead th {\n",
       "        text-align: right;\n",
       "    }\n",
       "</style>\n",
       "<table border=\"1\" class=\"dataframe\">\n",
       "  <thead>\n",
       "    <tr style=\"text-align: right;\">\n",
       "      <th></th>\n",
       "      <th>$a_{n}$</th>\n",
       "      <th>$b_{n}$</th>\n",
       "      <th>$p_{n}$</th>\n",
       "      <th>$f(pn)$</th>\n",
       "    </tr>\n",
       "  </thead>\n",
       "  <tbody>\n",
       "    <tr>\n",
       "      <th>1</th>\n",
       "      <td>1.000000</td>\n",
       "      <td>2.000000</td>\n",
       "      <td>1.500000</td>\n",
       "      <td>2.3750000</td>\n",
       "    </tr>\n",
       "    <tr>\n",
       "      <th>2</th>\n",
       "      <td>1.000000</td>\n",
       "      <td>1.500000</td>\n",
       "      <td>1.250000</td>\n",
       "      <td>-1.7968750</td>\n",
       "    </tr>\n",
       "    <tr>\n",
       "      <th>3</th>\n",
       "      <td>1.250000</td>\n",
       "      <td>1.500000</td>\n",
       "      <td>1.375000</td>\n",
       "      <td>0.16210938</td>\n",
       "    </tr>\n",
       "    <tr>\n",
       "      <th>4</th>\n",
       "      <td>1.250000</td>\n",
       "      <td>1.375000</td>\n",
       "      <td>1.312500</td>\n",
       "      <td>-0.84838867</td>\n",
       "    </tr>\n",
       "    <tr>\n",
       "      <th>5</th>\n",
       "      <td>1.312500</td>\n",
       "      <td>1.375000</td>\n",
       "      <td>1.343750</td>\n",
       "      <td>-0.35098267</td>\n",
       "    </tr>\n",
       "    <tr>\n",
       "      <th>6</th>\n",
       "      <td>1.343750</td>\n",
       "      <td>1.375000</td>\n",
       "      <td>1.359375</td>\n",
       "      <td>-0.096408844</td>\n",
       "    </tr>\n",
       "    <tr>\n",
       "      <th>7</th>\n",
       "      <td>1.359375</td>\n",
       "      <td>1.375000</td>\n",
       "      <td>1.367188</td>\n",
       "      <td>0.032355785</td>\n",
       "    </tr>\n",
       "    <tr>\n",
       "      <th>8</th>\n",
       "      <td>1.359375</td>\n",
       "      <td>1.367188</td>\n",
       "      <td>1.363281</td>\n",
       "      <td>-0.032149971</td>\n",
       "    </tr>\n",
       "    <tr>\n",
       "      <th>9</th>\n",
       "      <td>1.363281</td>\n",
       "      <td>1.367188</td>\n",
       "      <td>1.365234</td>\n",
       "      <td>7.2024763e-5</td>\n",
       "    </tr>\n",
       "  </tbody>\n",
       "</table>\n",
       "</div>"
      ],
      "text/plain": [
       "    $a_{n}$   $b_{n}$   $p_{n}$       $f(pn)$\n",
       "1  1.000000  2.000000  1.500000     2.3750000\n",
       "2  1.000000  1.500000  1.250000    -1.7968750\n",
       "3  1.250000  1.500000  1.375000    0.16210938\n",
       "4  1.250000  1.375000  1.312500   -0.84838867\n",
       "5  1.312500  1.375000  1.343750   -0.35098267\n",
       "6  1.343750  1.375000  1.359375  -0.096408844\n",
       "7  1.359375  1.375000  1.367188   0.032355785\n",
       "8  1.359375  1.367188  1.363281  -0.032149971\n",
       "9  1.363281  1.367188  1.365234  7.2024763e-5"
      ]
     },
     "execution_count": 3,
     "metadata": {},
     "output_type": "execute_result"
    }
   ],
   "source": [
    "root, data = bisection(f, 1, 2)\n",
    "table = pd.DataFrame(data, columns=['$a_{n}$', '$b_{n}$', '$p_{n}$', '$f(pn)$'])\n",
    "table.index += 1\n",
    "table"
   ]
  },
  {
   "cell_type": "markdown",
   "metadata": {},
   "source": [
    "### (b) False Position Method"
   ]
  },
  {
   "cell_type": "code",
   "execution_count": 4,
   "metadata": {},
   "outputs": [
    {
     "name": "stdout",
     "output_type": "stream",
     "text": [
      "root is found at x = 1.3652033\n"
     ]
    },
    {
     "data": {
      "text/html": [
       "<div>\n",
       "<style scoped>\n",
       "    .dataframe tbody tr th:only-of-type {\n",
       "        vertical-align: middle;\n",
       "    }\n",
       "\n",
       "    .dataframe tbody tr th {\n",
       "        vertical-align: top;\n",
       "    }\n",
       "\n",
       "    .dataframe thead th {\n",
       "        text-align: right;\n",
       "    }\n",
       "</style>\n",
       "<table border=\"1\" class=\"dataframe\">\n",
       "  <thead>\n",
       "    <tr style=\"text-align: right;\">\n",
       "      <th></th>\n",
       "      <th>$a_{n}$</th>\n",
       "      <th>$b_{n}$</th>\n",
       "      <th>$p_{n}$</th>\n",
       "      <th>$f(pn)$</th>\n",
       "    </tr>\n",
       "  </thead>\n",
       "  <tbody>\n",
       "    <tr>\n",
       "      <th>1</th>\n",
       "      <td>1</td>\n",
       "      <td>2</td>\n",
       "      <td>1.2631579</td>\n",
       "      <td>-1.6022744</td>\n",
       "    </tr>\n",
       "    <tr>\n",
       "      <th>2</th>\n",
       "      <td>1.2631579</td>\n",
       "      <td>2</td>\n",
       "      <td>1.3388278</td>\n",
       "      <td>-0.43036474</td>\n",
       "    </tr>\n",
       "    <tr>\n",
       "      <th>3</th>\n",
       "      <td>1.3388278</td>\n",
       "      <td>2</td>\n",
       "      <td>1.3585463</td>\n",
       "      <td>-0.11000878</td>\n",
       "    </tr>\n",
       "    <tr>\n",
       "      <th>4</th>\n",
       "      <td>1.3585463</td>\n",
       "      <td>2</td>\n",
       "      <td>1.3635474</td>\n",
       "      <td>-0.027762078</td>\n",
       "    </tr>\n",
       "    <tr>\n",
       "      <th>5</th>\n",
       "      <td>1.3635474</td>\n",
       "      <td>2</td>\n",
       "      <td>1.3648070</td>\n",
       "      <td>-0.0069834143</td>\n",
       "    </tr>\n",
       "    <tr>\n",
       "      <th>6</th>\n",
       "      <td>1.3648070</td>\n",
       "      <td>2</td>\n",
       "      <td>1.3651237</td>\n",
       "      <td>-0.0017551854</td>\n",
       "    </tr>\n",
       "    <tr>\n",
       "      <th>7</th>\n",
       "      <td>1.3651237</td>\n",
       "      <td>2</td>\n",
       "      <td>1.3652033</td>\n",
       "      <td>-0.00044105202</td>\n",
       "    </tr>\n",
       "  </tbody>\n",
       "</table>\n",
       "</div>"
      ],
      "text/plain": [
       "     $a_{n}$  $b_{n}$    $p_{n}$         $f(pn)$\n",
       "1          1        2  1.2631579      -1.6022744\n",
       "2  1.2631579        2  1.3388278     -0.43036474\n",
       "3  1.3388278        2  1.3585463     -0.11000878\n",
       "4  1.3585463        2  1.3635474    -0.027762078\n",
       "5  1.3635474        2  1.3648070   -0.0069834143\n",
       "6  1.3648070        2  1.3651237   -0.0017551854\n",
       "7  1.3651237        2  1.3652033  -0.00044105202"
      ]
     },
     "execution_count": 4,
     "metadata": {},
     "output_type": "execute_result"
    }
   ],
   "source": [
    "root, data = falsePosition(f, 1, 2)\n",
    "table = pd.DataFrame(data, columns=['$a_{n}$', '$b_{n}$', '$p_{n}$', '$f(pn)$'])\n",
    "table.index += 1\n",
    "table"
   ]
  },
  {
   "cell_type": "markdown",
   "metadata": {},
   "source": [
    "### (c) Secant Method"
   ]
  },
  {
   "cell_type": "code",
   "execution_count": 5,
   "metadata": {},
   "outputs": [
    {
     "name": "stdout",
     "output_type": "stream",
     "text": [
      "root is found at x = 1.3652300\n"
     ]
    },
    {
     "data": {
      "text/html": [
       "<div>\n",
       "<style scoped>\n",
       "    .dataframe tbody tr th:only-of-type {\n",
       "        vertical-align: middle;\n",
       "    }\n",
       "\n",
       "    .dataframe tbody tr th {\n",
       "        vertical-align: top;\n",
       "    }\n",
       "\n",
       "    .dataframe thead th {\n",
       "        text-align: right;\n",
       "    }\n",
       "</style>\n",
       "<table border=\"1\" class=\"dataframe\">\n",
       "  <thead>\n",
       "    <tr style=\"text-align: right;\">\n",
       "      <th></th>\n",
       "      <th>$p_{n}$</th>\n",
       "      <th>$f(p_{n})$</th>\n",
       "    </tr>\n",
       "  </thead>\n",
       "  <tbody>\n",
       "    <tr>\n",
       "      <th>2</th>\n",
       "      <td>1.2631579</td>\n",
       "      <td>-1.6022744</td>\n",
       "    </tr>\n",
       "    <tr>\n",
       "      <th>3</th>\n",
       "      <td>1.3388278</td>\n",
       "      <td>-0.43036474</td>\n",
       "    </tr>\n",
       "    <tr>\n",
       "      <th>4</th>\n",
       "      <td>1.3666164</td>\n",
       "      <td>0.022909418</td>\n",
       "    </tr>\n",
       "    <tr>\n",
       "      <th>5</th>\n",
       "      <td>1.3652119</td>\n",
       "      <td>-0.00029907376</td>\n",
       "    </tr>\n",
       "    <tr>\n",
       "      <th>6</th>\n",
       "      <td>1.3652300</td>\n",
       "      <td>-2.0116568e-7</td>\n",
       "    </tr>\n",
       "  </tbody>\n",
       "</table>\n",
       "</div>"
      ],
      "text/plain": [
       "     $p_{n}$      $f(p_{n})$\n",
       "2  1.2631579      -1.6022744\n",
       "3  1.3388278     -0.43036474\n",
       "4  1.3666164     0.022909418\n",
       "5  1.3652119  -0.00029907376\n",
       "6  1.3652300   -2.0116568e-7"
      ]
     },
     "execution_count": 5,
     "metadata": {},
     "output_type": "execute_result"
    }
   ],
   "source": [
    "root, data = secant(f, 1, 2)\n",
    "table = pd.DataFrame(data, columns=['$p_{n}$', '$f(p_{n})$'])\n",
    "table.index += 2\n",
    "table"
   ]
  },
  {
   "cell_type": "markdown",
   "metadata": {},
   "source": [
    "### (d) Newton's Method"
   ]
  },
  {
   "cell_type": "code",
   "execution_count": 6,
   "metadata": {},
   "outputs": [
    {
     "name": "stdout",
     "output_type": "stream",
     "text": [
      "root is found at x = 1.3652300\n"
     ]
    },
    {
     "data": {
      "text/html": [
       "<div>\n",
       "<style scoped>\n",
       "    .dataframe tbody tr th:only-of-type {\n",
       "        vertical-align: middle;\n",
       "    }\n",
       "\n",
       "    .dataframe tbody tr th {\n",
       "        vertical-align: top;\n",
       "    }\n",
       "\n",
       "    .dataframe thead th {\n",
       "        text-align: right;\n",
       "    }\n",
       "</style>\n",
       "<table border=\"1\" class=\"dataframe\">\n",
       "  <thead>\n",
       "    <tr style=\"text-align: right;\">\n",
       "      <th></th>\n",
       "      <th>$p_{n}$</th>\n",
       "      <th>$f(p_{n})$</th>\n",
       "    </tr>\n",
       "  </thead>\n",
       "  <tbody>\n",
       "    <tr>\n",
       "      <th>1</th>\n",
       "      <td>1.4545455</td>\n",
       "      <td>1.5401953</td>\n",
       "    </tr>\n",
       "    <tr>\n",
       "      <th>2</th>\n",
       "      <td>1.3689004</td>\n",
       "      <td>0.060719699</td>\n",
       "    </tr>\n",
       "    <tr>\n",
       "      <th>3</th>\n",
       "      <td>1.3652366</td>\n",
       "      <td>0.00010878593</td>\n",
       "    </tr>\n",
       "    <tr>\n",
       "      <th>4</th>\n",
       "      <td>1.3652300</td>\n",
       "      <td>-1.4901161e-8</td>\n",
       "    </tr>\n",
       "  </tbody>\n",
       "</table>\n",
       "</div>"
      ],
      "text/plain": [
       "     $p_{n}$     $f(p_{n})$\n",
       "1  1.4545455      1.5401953\n",
       "2  1.3689004    0.060719699\n",
       "3  1.3652366  0.00010878593\n",
       "4  1.3652300  -1.4901161e-8"
      ]
     },
     "execution_count": 6,
     "metadata": {},
     "output_type": "execute_result"
    }
   ],
   "source": [
    "root, data = newton(f, 1)\n",
    "table = pd.DataFrame(data, columns=['$p_{n}$', '$f(p_{n})$'])\n",
    "table.index += 1\n",
    "table"
   ]
  },
  {
   "cell_type": "markdown",
   "metadata": {},
   "source": [
    "## 2. $f(x) = e^x - 2cosx$ in the closed interval $[0, 2]$"
   ]
  },
  {
   "cell_type": "code",
   "execution_count": 7,
   "metadata": {},
   "outputs": [
    {
     "data": {
      "image/png": "[encoded data removed]",
      "text/plain": [
       "<Figure size 432x288 with 1 Axes>"
      ]
     },
     "metadata": {},
     "output_type": "display_data"
    },
    {
     "data": {
      "text/plain": [
       "<sympy.plotting.plot.Plot at 0x7f5b1086ad68>"
      ]
     },
     "execution_count": 7,
     "metadata": {},
     "output_type": "execute_result"
    }
   ],
   "source": [
    "f = E**x - 2 * cos(x)\n",
    "plot(f)"
   ]
  },
  {
   "cell_type": "markdown",
   "metadata": {},
   "source": [
    "### (a) Bisection Method"
   ]
  },
  {
   "cell_type": "code",
   "execution_count": 8,
   "metadata": {},
   "outputs": [
    {
     "name": "stdout",
     "output_type": "stream",
     "text": [
      "root is found at x = 0.539795\n"
     ]
    },
    {
     "data": {
      "text/html": [
       "<div>\n",
       "<style scoped>\n",
       "    .dataframe tbody tr th:only-of-type {\n",
       "        vertical-align: middle;\n",
       "    }\n",
       "\n",
       "    .dataframe tbody tr th {\n",
       "        vertical-align: top;\n",
       "    }\n",
       "\n",
       "    .dataframe thead th {\n",
       "        text-align: right;\n",
       "    }\n",
       "</style>\n",
       "<table border=\"1\" class=\"dataframe\">\n",
       "  <thead>\n",
       "    <tr style=\"text-align: right;\">\n",
       "      <th></th>\n",
       "      <th>$a_{n}$</th>\n",
       "      <th>$b_{n}$</th>\n",
       "      <th>$p_{n}$</th>\n",
       "      <th>$f(pn)$</th>\n",
       "    </tr>\n",
       "  </thead>\n",
       "  <tbody>\n",
       "    <tr>\n",
       "      <th>1</th>\n",
       "      <td>0.000000</td>\n",
       "      <td>2.000000</td>\n",
       "      <td>1.000000</td>\n",
       "      <td>1.6376772</td>\n",
       "    </tr>\n",
       "    <tr>\n",
       "      <th>2</th>\n",
       "      <td>0.000000</td>\n",
       "      <td>1.000000</td>\n",
       "      <td>0.500000</td>\n",
       "      <td>-0.10644385</td>\n",
       "    </tr>\n",
       "    <tr>\n",
       "      <th>3</th>\n",
       "      <td>0.500000</td>\n",
       "      <td>1.000000</td>\n",
       "      <td>0.750000</td>\n",
       "      <td>0.65362228</td>\n",
       "    </tr>\n",
       "    <tr>\n",
       "      <th>4</th>\n",
       "      <td>0.500000</td>\n",
       "      <td>0.750000</td>\n",
       "      <td>0.625000</td>\n",
       "      <td>0.24631972</td>\n",
       "    </tr>\n",
       "    <tr>\n",
       "      <th>5</th>\n",
       "      <td>0.500000</td>\n",
       "      <td>0.625000</td>\n",
       "      <td>0.562500</td>\n",
       "      <td>0.063205658</td>\n",
       "    </tr>\n",
       "    <tr>\n",
       "      <th>6</th>\n",
       "      <td>0.500000</td>\n",
       "      <td>0.562500</td>\n",
       "      <td>0.531250</td>\n",
       "      <td>-0.023291658</td>\n",
       "    </tr>\n",
       "    <tr>\n",
       "      <th>7</th>\n",
       "      <td>0.531250</td>\n",
       "      <td>0.562500</td>\n",
       "      <td>0.546875</td>\n",
       "      <td>0.019537548</td>\n",
       "    </tr>\n",
       "    <tr>\n",
       "      <th>8</th>\n",
       "      <td>0.531250</td>\n",
       "      <td>0.546875</td>\n",
       "      <td>0.539062</td>\n",
       "      <td>-0.0019817541</td>\n",
       "    </tr>\n",
       "    <tr>\n",
       "      <th>9</th>\n",
       "      <td>0.539062</td>\n",
       "      <td>0.546875</td>\n",
       "      <td>0.542969</td>\n",
       "      <td>0.0087517017</td>\n",
       "    </tr>\n",
       "    <tr>\n",
       "      <th>10</th>\n",
       "      <td>0.539062</td>\n",
       "      <td>0.542969</td>\n",
       "      <td>0.541016</td>\n",
       "      <td>0.0033784275</td>\n",
       "    </tr>\n",
       "    <tr>\n",
       "      <th>11</th>\n",
       "      <td>0.539062</td>\n",
       "      <td>0.541016</td>\n",
       "      <td>0.540039</td>\n",
       "      <td>0.00069670047</td>\n",
       "    </tr>\n",
       "    <tr>\n",
       "      <th>12</th>\n",
       "      <td>0.539062</td>\n",
       "      <td>0.540039</td>\n",
       "      <td>0.539551</td>\n",
       "      <td>-0.00064293584</td>\n",
       "    </tr>\n",
       "    <tr>\n",
       "      <th>13</th>\n",
       "      <td>0.539551</td>\n",
       "      <td>0.540039</td>\n",
       "      <td>0.539795</td>\n",
       "      <td>2.6780054e-5</td>\n",
       "    </tr>\n",
       "  </tbody>\n",
       "</table>\n",
       "</div>"
      ],
      "text/plain": [
       "     $a_{n}$   $b_{n}$   $p_{n}$         $f(pn)$\n",
       "1   0.000000  2.000000  1.000000       1.6376772\n",
       "2   0.000000  1.000000  0.500000     -0.10644385\n",
       "3   0.500000  1.000000  0.750000      0.65362228\n",
       "4   0.500000  0.750000  0.625000      0.24631972\n",
       "5   0.500000  0.625000  0.562500     0.063205658\n",
       "6   0.500000  0.562500  0.531250    -0.023291658\n",
       "7   0.531250  0.562500  0.546875     0.019537548\n",
       "8   0.531250  0.546875  0.539062   -0.0019817541\n",
       "9   0.539062  0.546875  0.542969    0.0087517017\n",
       "10  0.539062  0.542969  0.541016    0.0033784275\n",
       "11  0.539062  0.541016  0.540039   0.00069670047\n",
       "12  0.539062  0.540039  0.539551  -0.00064293584\n",
       "13  0.539551  0.540039  0.539795    2.6780054e-5"
      ]
     },
     "execution_count": 8,
     "metadata": {},
     "output_type": "execute_result"
    }
   ],
   "source": [
    "root, data = bisection(f, 0, 2)\n",
    "table = pd.DataFrame(data, columns=['$a_{n}$', '$b_{n}$', '$p_{n}$', '$f(pn)$'])\n",
    "table.index += 1\n",
    "table"
   ]
  },
  {
   "cell_type": "markdown",
   "metadata": {},
   "source": [
    "### (b) False Position Method"
   ]
  },
  {
   "cell_type": "code",
   "execution_count": 9,
   "metadata": {},
   "outputs": [
    {
     "name": "stdout",
     "output_type": "stream",
     "text": [
      "root is found at x = 0.53965613\n"
     ]
    },
    {
     "data": {
      "text/html": [
       "<div>\n",
       "<style scoped>\n",
       "    .dataframe tbody tr th:only-of-type {\n",
       "        vertical-align: middle;\n",
       "    }\n",
       "\n",
       "    .dataframe tbody tr th {\n",
       "        vertical-align: top;\n",
       "    }\n",
       "\n",
       "    .dataframe thead th {\n",
       "        text-align: right;\n",
       "    }\n",
       "</style>\n",
       "<table border=\"1\" class=\"dataframe\">\n",
       "  <thead>\n",
       "    <tr style=\"text-align: right;\">\n",
       "      <th></th>\n",
       "      <th>$a_{n}$</th>\n",
       "      <th>$b_{n}$</th>\n",
       "      <th>$p_{n}$</th>\n",
       "      <th>$f(pn)$</th>\n",
       "    </tr>\n",
       "  </thead>\n",
       "  <tbody>\n",
       "    <tr>\n",
       "      <th>1</th>\n",
       "      <td>0</td>\n",
       "      <td>2</td>\n",
       "      <td>0.21688799</td>\n",
       "      <td>-0.71093876</td>\n",
       "    </tr>\n",
       "    <tr>\n",
       "      <th>2</th>\n",
       "      <td>0.21688799</td>\n",
       "      <td>2</td>\n",
       "      <td>0.35880945</td>\n",
       "      <td>-0.44100714</td>\n",
       "    </tr>\n",
       "    <tr>\n",
       "      <th>3</th>\n",
       "      <td>0.35880945</td>\n",
       "      <td>2</td>\n",
       "      <td>0.44236370</td>\n",
       "      <td>-0.25110299</td>\n",
       "    </tr>\n",
       "    <tr>\n",
       "      <th>4</th>\n",
       "      <td>0.44236370</td>\n",
       "      <td>2</td>\n",
       "      <td>0.48852827</td>\n",
       "      <td>-0.13613341</td>\n",
       "    </tr>\n",
       "    <tr>\n",
       "      <th>5</th>\n",
       "      <td>0.48852827</td>\n",
       "      <td>2</td>\n",
       "      <td>0.51314834</td>\n",
       "      <td>-0.071864115</td>\n",
       "    </tr>\n",
       "    <tr>\n",
       "      <th>6</th>\n",
       "      <td>0.51314834</td>\n",
       "      <td>2</td>\n",
       "      <td>0.52603252</td>\n",
       "      <td>-0.037406750</td>\n",
       "    </tr>\n",
       "    <tr>\n",
       "      <th>7</th>\n",
       "      <td>0.52603252</td>\n",
       "      <td>2</td>\n",
       "      <td>0.53270863</td>\n",
       "      <td>-0.019328890</td>\n",
       "    </tr>\n",
       "    <tr>\n",
       "      <th>8</th>\n",
       "      <td>0.53270863</td>\n",
       "      <td>2</td>\n",
       "      <td>0.53615023</td>\n",
       "      <td>-0.0099499319</td>\n",
       "    </tr>\n",
       "    <tr>\n",
       "      <th>9</th>\n",
       "      <td>0.53615023</td>\n",
       "      <td>2</td>\n",
       "      <td>0.53791972</td>\n",
       "      <td>-0.0051119532</td>\n",
       "    </tr>\n",
       "    <tr>\n",
       "      <th>10</th>\n",
       "      <td>0.53791972</td>\n",
       "      <td>2</td>\n",
       "      <td>0.53882826</td>\n",
       "      <td>-0.0026237275</td>\n",
       "    </tr>\n",
       "    <tr>\n",
       "      <th>11</th>\n",
       "      <td>0.53882826</td>\n",
       "      <td>2</td>\n",
       "      <td>0.53929442</td>\n",
       "      <td>-0.0013459474</td>\n",
       "    </tr>\n",
       "    <tr>\n",
       "      <th>12</th>\n",
       "      <td>0.53929442</td>\n",
       "      <td>2</td>\n",
       "      <td>0.53953352</td>\n",
       "      <td>-0.00069027580</td>\n",
       "    </tr>\n",
       "    <tr>\n",
       "      <th>13</th>\n",
       "      <td>0.53953352</td>\n",
       "      <td>2</td>\n",
       "      <td>0.53965613</td>\n",
       "      <td>-0.00035396405</td>\n",
       "    </tr>\n",
       "  </tbody>\n",
       "</table>\n",
       "</div>"
      ],
      "text/plain": [
       "       $a_{n}$  $b_{n}$     $p_{n}$         $f(pn)$\n",
       "1            0        2  0.21688799     -0.71093876\n",
       "2   0.21688799        2  0.35880945     -0.44100714\n",
       "3   0.35880945        2  0.44236370     -0.25110299\n",
       "4   0.44236370        2  0.48852827     -0.13613341\n",
       "5   0.48852827        2  0.51314834    -0.071864115\n",
       "6   0.51314834        2  0.52603252    -0.037406750\n",
       "7   0.52603252        2  0.53270863    -0.019328890\n",
       "8   0.53270863        2  0.53615023   -0.0099499319\n",
       "9   0.53615023        2  0.53791972   -0.0051119532\n",
       "10  0.53791972        2  0.53882826   -0.0026237275\n",
       "11  0.53882826        2  0.53929442   -0.0013459474\n",
       "12  0.53929442        2  0.53953352  -0.00069027580\n",
       "13  0.53953352        2  0.53965613  -0.00035396405"
      ]
     },
     "execution_count": 9,
     "metadata": {},
     "output_type": "execute_result"
    }
   ],
   "source": [
    "root, data = falsePosition(f, 0, 2)\n",
    "table = pd.DataFrame(data, columns=['$a_{n}$', '$b_{n}$', '$p_{n}$', '$f(pn)$'])\n",
    "table.index += 1\n",
    "table"
   ]
  },
  {
   "cell_type": "markdown",
   "metadata": {},
   "source": [
    "### (c) Secant Method"
   ]
  },
  {
   "cell_type": "code",
   "execution_count": 10,
   "metadata": {},
   "outputs": [
    {
     "name": "stdout",
     "output_type": "stream",
     "text": [
      "root is found at x = 0.53978591\n"
     ]
    },
    {
     "data": {
      "text/html": [
       "<div>\n",
       "<style scoped>\n",
       "    .dataframe tbody tr th:only-of-type {\n",
       "        vertical-align: middle;\n",
       "    }\n",
       "\n",
       "    .dataframe tbody tr th {\n",
       "        vertical-align: top;\n",
       "    }\n",
       "\n",
       "    .dataframe thead th {\n",
       "        text-align: right;\n",
       "    }\n",
       "</style>\n",
       "<table border=\"1\" class=\"dataframe\">\n",
       "  <thead>\n",
       "    <tr style=\"text-align: right;\">\n",
       "      <th></th>\n",
       "      <th>$p_{n}$</th>\n",
       "      <th>$f(p_{n})$</th>\n",
       "    </tr>\n",
       "  </thead>\n",
       "  <tbody>\n",
       "    <tr>\n",
       "      <th>2</th>\n",
       "      <td>0.21688799</td>\n",
       "      <td>-0.71093876</td>\n",
       "    </tr>\n",
       "    <tr>\n",
       "      <th>3</th>\n",
       "      <td>0.35880945</td>\n",
       "      <td>-0.44100714</td>\n",
       "    </tr>\n",
       "    <tr>\n",
       "      <th>4</th>\n",
       "      <td>0.59067698</td>\n",
       "      <td>0.14408242</td>\n",
       "    </tr>\n",
       "    <tr>\n",
       "      <th>5</th>\n",
       "      <td>0.53357797</td>\n",
       "      <td>-0.016963603</td>\n",
       "    </tr>\n",
       "    <tr>\n",
       "      <th>6</th>\n",
       "      <td>0.53959243</td>\n",
       "      <td>-0.00052869134</td>\n",
       "    </tr>\n",
       "    <tr>\n",
       "      <th>7</th>\n",
       "      <td>0.53978591</td>\n",
       "      <td>2.0600855e-6</td>\n",
       "    </tr>\n",
       "  </tbody>\n",
       "</table>\n",
       "</div>"
      ],
      "text/plain": [
       "      $p_{n}$      $f(p_{n})$\n",
       "2  0.21688799     -0.71093876\n",
       "3  0.35880945     -0.44100714\n",
       "4  0.59067698      0.14408242\n",
       "5  0.53357797    -0.016963603\n",
       "6  0.53959243  -0.00052869134\n",
       "7  0.53978591    2.0600855e-6"
      ]
     },
     "execution_count": 10,
     "metadata": {},
     "output_type": "execute_result"
    }
   ],
   "source": [
    "root, data = secant(f, 0, 2)\n",
    "table = pd.DataFrame(data, columns=['$p_{n}$', '$f(p_{n})$'])\n",
    "table.index += 2\n",
    "table"
   ]
  },
  {
   "cell_type": "markdown",
   "metadata": {},
   "source": [
    "### (d) Newton's Method"
   ]
  },
  {
   "cell_type": "code",
   "execution_count": 11,
   "metadata": {},
   "outputs": [
    {
     "name": "stdout",
     "output_type": "stream",
     "text": [
      "root is found at x = 0.53978516\n"
     ]
    },
    {
     "data": {
      "text/html": [
       "<div>\n",
       "<style scoped>\n",
       "    .dataframe tbody tr th:only-of-type {\n",
       "        vertical-align: middle;\n",
       "    }\n",
       "\n",
       "    .dataframe tbody tr th {\n",
       "        vertical-align: top;\n",
       "    }\n",
       "\n",
       "    .dataframe thead th {\n",
       "        text-align: right;\n",
       "    }\n",
       "</style>\n",
       "<table border=\"1\" class=\"dataframe\">\n",
       "  <thead>\n",
       "    <tr style=\"text-align: right;\">\n",
       "      <th></th>\n",
       "      <th>$p_{n}$</th>\n",
       "      <th>$f(p_{n})$</th>\n",
       "    </tr>\n",
       "  </thead>\n",
       "  <tbody>\n",
       "    <tr>\n",
       "      <th>1</th>\n",
       "      <td>1.1071176</td>\n",
       "      <td>2.1311417</td>\n",
       "    </tr>\n",
       "    <tr>\n",
       "      <th>2</th>\n",
       "      <td>0.66446239</td>\n",
       "      <td>0.36894861</td>\n",
       "    </tr>\n",
       "    <tr>\n",
       "      <th>3</th>\n",
       "      <td>0.54832093</td>\n",
       "      <td>0.023543300</td>\n",
       "    </tr>\n",
       "    <tr>\n",
       "      <th>4</th>\n",
       "      <td>0.53983029</td>\n",
       "      <td>0.00012382306</td>\n",
       "    </tr>\n",
       "    <tr>\n",
       "      <th>5</th>\n",
       "      <td>0.53978516</td>\n",
       "      <td>3.7252903e-9</td>\n",
       "    </tr>\n",
       "  </tbody>\n",
       "</table>\n",
       "</div>"
      ],
      "text/plain": [
       "      $p_{n}$     $f(p_{n})$\n",
       "1   1.1071176      2.1311417\n",
       "2  0.66446239     0.36894861\n",
       "3  0.54832093    0.023543300\n",
       "4  0.53983029  0.00012382306\n",
       "5  0.53978516   3.7252903e-9"
      ]
     },
     "execution_count": 11,
     "metadata": {},
     "output_type": "execute_result"
    }
   ],
   "source": [
    "root, data = newton(f, 2)\n",
    "table = pd.DataFrame(data, columns=['$p_{n}$', '$f(p_{n})$'])\n",
    "table.index += 1\n",
    "table"
   ]
  },
  {
   "cell_type": "markdown",
   "metadata": {},
   "source": [
    "## 3. $f(x) = 4xcos(2x) - (x-2)^2$ has four roots in $[0, 8]$"
   ]
  },
  {
   "cell_type": "code",
   "execution_count": 12,
   "metadata": {},
   "outputs": [
    {
     "data": {
      "image/png": "[encoded data removed]",
      "text/plain": [
       "<Figure size 432x288 with 1 Axes>"
      ]
     },
     "metadata": {},
     "output_type": "display_data"
    },
    {
     "data": {
      "text/plain": [
       "<sympy.plotting.plot.Plot at 0x7f5ae733f400>"
      ]
     },
     "execution_count": 12,
     "metadata": {},
     "output_type": "execute_result"
    }
   ],
   "source": [
    "f = 4 * cos(2 * x) - (x - 2)**2\n",
    "plot(f)"
   ]
  },
  {
   "cell_type": "markdown",
   "metadata": {},
   "source": [
    "### Generate initial value randomly"
   ]
  },
  {
   "cell_type": "code",
   "execution_count": 13,
   "metadata": {},
   "outputs": [
    {
     "data": {
      "text/latex": [
       "$$a = 3.3798609$$"
      ],
      "text/plain": [
       "<IPython.core.display.Math object>"
      ]
     },
     "metadata": {},
     "output_type": "display_data"
    },
    {
     "data": {
      "text/latex": [
       "$$b = 7.6346620$$"
      ],
      "text/plain": [
       "<IPython.core.display.Math object>"
      ]
     },
     "metadata": {},
     "output_type": "display_data"
    },
    {
     "data": {
      "text/latex": [
       "$$f(a) = 1.6503398 > 0$$"
      ],
      "text/plain": [
       "<IPython.core.display.Math object>"
      ]
     },
     "metadata": {},
     "output_type": "display_data"
    },
    {
     "data": {
      "text/latex": [
       "$$f(b) = -35.370737 < 0$$"
      ],
      "text/plain": [
       "<IPython.core.display.Math object>"
      ]
     },
     "metadata": {},
     "output_type": "display_data"
    }
   ],
   "source": [
    "a = randomInitial(f, (0, 8), 0)\n",
    "b = randomInitial(f, (0, 8), 1)\n",
    "display(Math('a = {}'.format(a)))\n",
    "display(Math('b = {}'.format(b)))\n",
    "display(Math('f(a) = {} > 0'.format(f.subs(x, a))))\n",
    "display(Math('f(b) = {} < 0'.format(f.subs(x, b))))"
   ]
  },
  {
   "cell_type": "markdown",
   "metadata": {},
   "source": [
    "### (a) Bisection Method"
   ]
  },
  {
   "cell_type": "code",
   "execution_count": 14,
   "metadata": {},
   "outputs": [
    {
     "name": "stdout",
     "output_type": "stream",
     "text": [
      "root is found at x = 3.5866410\n"
     ]
    },
    {
     "data": {
      "text/html": [
       "<div>\n",
       "<style scoped>\n",
       "    .dataframe tbody tr th:only-of-type {\n",
       "        vertical-align: middle;\n",
       "    }\n",
       "\n",
       "    .dataframe tbody tr th {\n",
       "        vertical-align: top;\n",
       "    }\n",
       "\n",
       "    .dataframe thead th {\n",
       "        text-align: right;\n",
       "    }\n",
       "</style>\n",
       "<table border=\"1\" class=\"dataframe\">\n",
       "  <thead>\n",
       "    <tr style=\"text-align: right;\">\n",
       "      <th></th>\n",
       "      <th>$a_{n}$</th>\n",
       "      <th>$b_{n}$</th>\n",
       "      <th>$p_{n}$</th>\n",
       "      <th>$f(pn)$</th>\n",
       "    </tr>\n",
       "  </thead>\n",
       "  <tbody>\n",
       "    <tr>\n",
       "      <th>1</th>\n",
       "      <td>3.3798609</td>\n",
       "      <td>7.6346620</td>\n",
       "      <td>5.5072614</td>\n",
       "      <td>-12.225093</td>\n",
       "    </tr>\n",
       "    <tr>\n",
       "      <th>2</th>\n",
       "      <td>3.3798609</td>\n",
       "      <td>5.5072614</td>\n",
       "      <td>4.4435612</td>\n",
       "      <td>-9.4066378</td>\n",
       "    </tr>\n",
       "    <tr>\n",
       "      <th>3</th>\n",
       "      <td>3.3798609</td>\n",
       "      <td>4.4435612</td>\n",
       "      <td>3.9117110</td>\n",
       "      <td>-3.5324198</td>\n",
       "    </tr>\n",
       "    <tr>\n",
       "      <th>4</th>\n",
       "      <td>3.3798609</td>\n",
       "      <td>3.9117110</td>\n",
       "      <td>3.6457860</td>\n",
       "      <td>-0.57570625</td>\n",
       "    </tr>\n",
       "    <tr>\n",
       "      <th>5</th>\n",
       "      <td>3.3798609</td>\n",
       "      <td>3.6457860</td>\n",
       "      <td>3.5128234</td>\n",
       "      <td>0.65859142</td>\n",
       "    </tr>\n",
       "    <tr>\n",
       "      <th>6</th>\n",
       "      <td>3.5128234</td>\n",
       "      <td>3.6457860</td>\n",
       "      <td>3.5793047</td>\n",
       "      <td>0.068481870</td>\n",
       "    </tr>\n",
       "    <tr>\n",
       "      <th>7</th>\n",
       "      <td>3.5793047</td>\n",
       "      <td>3.6457860</td>\n",
       "      <td>3.6125453</td>\n",
       "      <td>-0.24730932</td>\n",
       "    </tr>\n",
       "    <tr>\n",
       "      <th>8</th>\n",
       "      <td>3.5793047</td>\n",
       "      <td>3.6125453</td>\n",
       "      <td>3.5959250</td>\n",
       "      <td>-0.087778982</td>\n",
       "    </tr>\n",
       "    <tr>\n",
       "      <th>9</th>\n",
       "      <td>3.5793047</td>\n",
       "      <td>3.5959250</td>\n",
       "      <td>3.5876149</td>\n",
       "      <td>-0.0092326514</td>\n",
       "    </tr>\n",
       "    <tr>\n",
       "      <th>10</th>\n",
       "      <td>3.5793047</td>\n",
       "      <td>3.5876149</td>\n",
       "      <td>3.5834598</td>\n",
       "      <td>0.029729497</td>\n",
       "    </tr>\n",
       "    <tr>\n",
       "      <th>11</th>\n",
       "      <td>3.5834598</td>\n",
       "      <td>3.5876149</td>\n",
       "      <td>3.5855373</td>\n",
       "      <td>0.010274515</td>\n",
       "    </tr>\n",
       "    <tr>\n",
       "      <th>12</th>\n",
       "      <td>3.5855373</td>\n",
       "      <td>3.5876149</td>\n",
       "      <td>3.5865761</td>\n",
       "      <td>0.00052746013</td>\n",
       "    </tr>\n",
       "    <tr>\n",
       "      <th>13</th>\n",
       "      <td>3.5865761</td>\n",
       "      <td>3.5876149</td>\n",
       "      <td>3.5870955</td>\n",
       "      <td>-0.0043509863</td>\n",
       "    </tr>\n",
       "    <tr>\n",
       "      <th>14</th>\n",
       "      <td>3.5865761</td>\n",
       "      <td>3.5870955</td>\n",
       "      <td>3.5868358</td>\n",
       "      <td>-0.0019113570</td>\n",
       "    </tr>\n",
       "    <tr>\n",
       "      <th>15</th>\n",
       "      <td>3.5865761</td>\n",
       "      <td>3.5868358</td>\n",
       "      <td>3.5867059</td>\n",
       "      <td>-0.00069186464</td>\n",
       "    </tr>\n",
       "    <tr>\n",
       "      <th>16</th>\n",
       "      <td>3.5865761</td>\n",
       "      <td>3.5867059</td>\n",
       "      <td>3.5866410</td>\n",
       "      <td>-8.2176179e-5</td>\n",
       "    </tr>\n",
       "  </tbody>\n",
       "</table>\n",
       "</div>"
      ],
      "text/plain": [
       "      $a_{n}$    $b_{n}$    $p_{n}$         $f(pn)$\n",
       "1   3.3798609  7.6346620  5.5072614      -12.225093\n",
       "2   3.3798609  5.5072614  4.4435612      -9.4066378\n",
       "3   3.3798609  4.4435612  3.9117110      -3.5324198\n",
       "4   3.3798609  3.9117110  3.6457860     -0.57570625\n",
       "5   3.3798609  3.6457860  3.5128234      0.65859142\n",
       "6   3.5128234  3.6457860  3.5793047     0.068481870\n",
       "7   3.5793047  3.6457860  3.6125453     -0.24730932\n",
       "8   3.5793047  3.6125453  3.5959250    -0.087778982\n",
       "9   3.5793047  3.5959250  3.5876149   -0.0092326514\n",
       "10  3.5793047  3.5876149  3.5834598     0.029729497\n",
       "11  3.5834598  3.5876149  3.5855373     0.010274515\n",
       "12  3.5855373  3.5876149  3.5865761   0.00052746013\n",
       "13  3.5865761  3.5876149  3.5870955   -0.0043509863\n",
       "14  3.5865761  3.5870955  3.5868358   -0.0019113570\n",
       "15  3.5865761  3.5868358  3.5867059  -0.00069186464\n",
       "16  3.5865761  3.5867059  3.5866410   -8.2176179e-5"
      ]
     },
     "execution_count": 14,
     "metadata": {},
     "output_type": "execute_result"
    }
   ],
   "source": [
    "root, data = bisection(f, a, b)\n",
    "table = pd.DataFrame(data, columns=['$a_{n}$', '$b_{n}$', '$p_{n}$', '$f(pn)$'])\n",
    "table.index += 1\n",
    "table"
   ]
  },
  {
   "cell_type": "markdown",
   "metadata": {},
   "source": [
    "### (b) False Position Method"
   ]
  },
  {
   "cell_type": "code",
   "execution_count": 15,
   "metadata": {},
   "outputs": [
    {
     "name": "stdout",
     "output_type": "stream",
     "text": [
      "root is found at x = 3.5866203\n"
     ]
    },
    {
     "data": {
      "text/html": [
       "<div>\n",
       "<style scoped>\n",
       "    .dataframe tbody tr th:only-of-type {\n",
       "        vertical-align: middle;\n",
       "    }\n",
       "\n",
       "    .dataframe tbody tr th {\n",
       "        vertical-align: top;\n",
       "    }\n",
       "\n",
       "    .dataframe thead th {\n",
       "        text-align: right;\n",
       "    }\n",
       "</style>\n",
       "<table border=\"1\" class=\"dataframe\">\n",
       "  <thead>\n",
       "    <tr style=\"text-align: right;\">\n",
       "      <th></th>\n",
       "      <th>$a_{n}$</th>\n",
       "      <th>$b_{n}$</th>\n",
       "      <th>$p_{n}$</th>\n",
       "      <th>$f(pn)$</th>\n",
       "    </tr>\n",
       "  </thead>\n",
       "  <tbody>\n",
       "    <tr>\n",
       "      <th>1</th>\n",
       "      <td>3.3798609</td>\n",
       "      <td>7.6346620</td>\n",
       "      <td>3.5695331</td>\n",
       "      <td>0.15878051</td>\n",
       "    </tr>\n",
       "    <tr>\n",
       "      <th>2</th>\n",
       "      <td>3.5695331</td>\n",
       "      <td>7.6346620</td>\n",
       "      <td>3.5877000</td>\n",
       "      <td>-0.010033339</td>\n",
       "    </tr>\n",
       "    <tr>\n",
       "      <th>3</th>\n",
       "      <td>3.5695331</td>\n",
       "      <td>3.5877000</td>\n",
       "      <td>3.5866203</td>\n",
       "      <td>0.00011256710</td>\n",
       "    </tr>\n",
       "  </tbody>\n",
       "</table>\n",
       "</div>"
      ],
      "text/plain": [
       "     $a_{n}$    $b_{n}$    $p_{n}$        $f(pn)$\n",
       "1  3.3798609  7.6346620  3.5695331     0.15878051\n",
       "2  3.5695331  7.6346620  3.5877000   -0.010033339\n",
       "3  3.5695331  3.5877000  3.5866203  0.00011256710"
      ]
     },
     "execution_count": 15,
     "metadata": {},
     "output_type": "execute_result"
    }
   ],
   "source": [
    "root, data = falsePosition(f, a, b)\n",
    "table = pd.DataFrame(data, columns=['$a_{n}$', '$b_{n}$', '$p_{n}$', '$f(pn)$'])\n",
    "table.index += 1\n",
    "table"
   ]
  },
  {
   "cell_type": "markdown",
   "metadata": {},
   "source": [
    "### (c) Secant Method"
   ]
  },
  {
   "cell_type": "code",
   "execution_count": 16,
   "metadata": {},
   "outputs": [
    {
     "name": "stdout",
     "output_type": "stream",
     "text": [
      "root is found at x = 3.5866322\n"
     ]
    },
    {
     "data": {
      "text/html": [
       "<div>\n",
       "<style scoped>\n",
       "    .dataframe tbody tr th:only-of-type {\n",
       "        vertical-align: middle;\n",
       "    }\n",
       "\n",
       "    .dataframe tbody tr th {\n",
       "        vertical-align: top;\n",
       "    }\n",
       "\n",
       "    .dataframe thead th {\n",
       "        text-align: right;\n",
       "    }\n",
       "</style>\n",
       "<table border=\"1\" class=\"dataframe\">\n",
       "  <thead>\n",
       "    <tr style=\"text-align: right;\">\n",
       "      <th></th>\n",
       "      <th>$p_{n}$</th>\n",
       "      <th>$f(p_{n})$</th>\n",
       "    </tr>\n",
       "  </thead>\n",
       "  <tbody>\n",
       "    <tr>\n",
       "      <th>2</th>\n",
       "      <td>3.5695331</td>\n",
       "      <td>0.15878047</td>\n",
       "    </tr>\n",
       "    <tr>\n",
       "      <th>3</th>\n",
       "      <td>3.5877000</td>\n",
       "      <td>-0.010033339</td>\n",
       "    </tr>\n",
       "    <tr>\n",
       "      <th>4</th>\n",
       "      <td>3.5866203</td>\n",
       "      <td>0.00011256710</td>\n",
       "    </tr>\n",
       "    <tr>\n",
       "      <th>5</th>\n",
       "      <td>3.5866322</td>\n",
       "      <td>6.7055225e-8</td>\n",
       "    </tr>\n",
       "  </tbody>\n",
       "</table>\n",
       "</div>"
      ],
      "text/plain": [
       "     $p_{n}$     $f(p_{n})$\n",
       "2  3.5695331     0.15878047\n",
       "3  3.5877000   -0.010033339\n",
       "4  3.5866203  0.00011256710\n",
       "5  3.5866322   6.7055225e-8"
      ]
     },
     "execution_count": 16,
     "metadata": {},
     "output_type": "execute_result"
    }
   ],
   "source": [
    "root, data = secant(f, a, b)\n",
    "table = pd.DataFrame(data, columns=['$p_{n}$', '$f(p_{n})$'])\n",
    "table.index += 2\n",
    "table"
   ]
  },
  {
   "cell_type": "markdown",
   "metadata": {},
   "source": [
    "### (d) Newton's Method"
   ]
  },
  {
   "cell_type": "code",
   "execution_count": 17,
   "metadata": {},
   "outputs": [
    {
     "name": "stdout",
     "output_type": "stream",
     "text": [
      "root is found at x = 3.5866324\n"
     ]
    },
    {
     "data": {
      "text/html": [
       "<div>\n",
       "<style scoped>\n",
       "    .dataframe tbody tr th:only-of-type {\n",
       "        vertical-align: middle;\n",
       "    }\n",
       "\n",
       "    .dataframe tbody tr th {\n",
       "        vertical-align: top;\n",
       "    }\n",
       "\n",
       "    .dataframe thead th {\n",
       "        text-align: right;\n",
       "    }\n",
       "</style>\n",
       "<table border=\"1\" class=\"dataframe\">\n",
       "  <thead>\n",
       "    <tr style=\"text-align: right;\">\n",
       "      <th></th>\n",
       "      <th>$p_{n}$</th>\n",
       "      <th>$f(p_{n})$</th>\n",
       "    </tr>\n",
       "  </thead>\n",
       "  <tbody>\n",
       "    <tr>\n",
       "      <th>1</th>\n",
       "      <td>5.2230736</td>\n",
       "      <td>-12.476998</td>\n",
       "    </tr>\n",
       "    <tr>\n",
       "      <th>2</th>\n",
       "      <td>38.367498</td>\n",
       "      <td>-1321.6673</td>\n",
       "    </tr>\n",
       "    <tr>\n",
       "      <th>3</th>\n",
       "      <td>21.952721</td>\n",
       "      <td>-394.12289</td>\n",
       "    </tr>\n",
       "    <tr>\n",
       "      <th>4</th>\n",
       "      <td>11.921906</td>\n",
       "      <td>-97.331615</td>\n",
       "    </tr>\n",
       "    <tr>\n",
       "      <th>5</th>\n",
       "      <td>3.9173363</td>\n",
       "      <td>-3.5989475</td>\n",
       "    </tr>\n",
       "    <tr>\n",
       "      <th>6</th>\n",
       "      <td>3.6131960</td>\n",
       "      <td>-0.25361986</td>\n",
       "    </tr>\n",
       "    <tr>\n",
       "      <th>7</th>\n",
       "      <td>3.5870549</td>\n",
       "      <td>-0.0039698556</td>\n",
       "    </tr>\n",
       "    <tr>\n",
       "      <th>8</th>\n",
       "      <td>3.5866324</td>\n",
       "      <td>-1.0877848e-6</td>\n",
       "    </tr>\n",
       "  </tbody>\n",
       "</table>\n",
       "</div>"
      ],
      "text/plain": [
       "     $p_{n}$     $f(p_{n})$\n",
       "1  5.2230736     -12.476998\n",
       "2  38.367498     -1321.6673\n",
       "3  21.952721     -394.12289\n",
       "4  11.921906     -97.331615\n",
       "5  3.9173363     -3.5989475\n",
       "6  3.6131960    -0.25361986\n",
       "7  3.5870549  -0.0039698556\n",
       "8  3.5866324  -1.0877848e-6"
      ]
     },
     "execution_count": 17,
     "metadata": {},
     "output_type": "execute_result"
    }
   ],
   "source": [
    "root, data = newton(f, b)\n",
    "table = pd.DataFrame(data, columns=['$p_{n}$', '$f(p_{n})$'])\n",
    "table.index += 1\n",
    "table"
   ]
  },
  {
   "cell_type": "markdown",
   "metadata": {},
   "source": [
    "## 4. $f(x) = x^5 - 4.5x^4 + 4.55x^3 + 2.675x^2 -3.3x-1.3375$"
   ]
  },
  {
   "cell_type": "code",
   "execution_count": 18,
   "metadata": {},
   "outputs": [
    {
     "data": {
      "image/png": "[encoded data removed]",
      "text/plain": [
       "<Figure size 432x288 with 1 Axes>"
      ]
     },
     "metadata": {},
     "output_type": "display_data"
    },
    {
     "data": {
      "text/plain": [
       "<sympy.plotting.plot.Plot at 0x7f5ae7221390>"
      ]
     },
     "execution_count": 18,
     "metadata": {},
     "output_type": "execute_result"
    }
   ],
   "source": [
    "f = x**5 - 4.5*x**4 + 4.55*x**3 + 2.675*x**2 - 3.3*x - 1.3375\n",
    "plot(f)"
   ]
  },
  {
   "cell_type": "markdown",
   "metadata": {},
   "source": [
    "### (a) Secant Method using $p_{0} = -0.5,p_{1}=-0.4975,N=20$ and $TOL=10^{-5}$"
   ]
  },
  {
   "cell_type": "code",
   "execution_count": 19,
   "metadata": {},
   "outputs": [
    {
     "name": "stdout",
     "output_type": "stream",
     "text": [
      "root is found at x = -0.58581401\n"
     ]
    },
    {
     "data": {
      "text/html": [
       "<div>\n",
       "<style scoped>\n",
       "    .dataframe tbody tr th:only-of-type {\n",
       "        vertical-align: middle;\n",
       "    }\n",
       "\n",
       "    .dataframe tbody tr th {\n",
       "        vertical-align: top;\n",
       "    }\n",
       "\n",
       "    .dataframe thead th {\n",
       "        text-align: right;\n",
       "    }\n",
       "</style>\n",
       "<table border=\"1\" class=\"dataframe\">\n",
       "  <thead>\n",
       "    <tr style=\"text-align: right;\">\n",
       "      <th></th>\n",
       "      <th>$p_{n}$</th>\n",
       "      <th>$f(p_{n})$</th>\n",
       "    </tr>\n",
       "  </thead>\n",
       "  <tbody>\n",
       "    <tr>\n",
       "      <th>2</th>\n",
       "      <td>2.8030791</td>\n",
       "      <td>5.8801494</td>\n",
       "    </tr>\n",
       "    <tr>\n",
       "      <th>3</th>\n",
       "      <td>-0.55455800</td>\n",
       "      <td>0.061165649</td>\n",
       "    </tr>\n",
       "    <tr>\n",
       "      <th>4</th>\n",
       "      <td>-0.58985146</td>\n",
       "      <td>-0.010195116</td>\n",
       "    </tr>\n",
       "    <tr>\n",
       "      <th>5</th>\n",
       "      <td>-0.58480918</td>\n",
       "      <td>0.0024529591</td>\n",
       "    </tr>\n",
       "    <tr>\n",
       "      <th>6</th>\n",
       "      <td>-0.58578707</td>\n",
       "      <td>6.6188269e-5</td>\n",
       "    </tr>\n",
       "    <tr>\n",
       "      <th>7</th>\n",
       "      <td>-0.58581419</td>\n",
       "      <td>-4.5023626e-7</td>\n",
       "    </tr>\n",
       "    <tr>\n",
       "      <th>8</th>\n",
       "      <td>-0.58581401</td>\n",
       "      <td>2.7939695e-10</td>\n",
       "    </tr>\n",
       "  </tbody>\n",
       "</table>\n",
       "</div>"
      ],
      "text/plain": [
       "       $p_{n}$     $f(p_{n})$\n",
       "2    2.8030791      5.8801494\n",
       "3  -0.55455800    0.061165649\n",
       "4  -0.58985146   -0.010195116\n",
       "5  -0.58480918   0.0024529591\n",
       "6  -0.58578707   6.6188269e-5\n",
       "7  -0.58581419  -4.5023626e-7\n",
       "8  -0.58581401  2.7939695e-10"
      ]
     },
     "execution_count": 19,
     "metadata": {},
     "output_type": "execute_result"
    }
   ],
   "source": [
    "root, data = secant(f, -0.5, -0.4975, tol=10**-5)\n",
    "table = pd.DataFrame(data, columns=['$p_{n}$', '$f(p_{n})$'])\n",
    "table.index += 2\n",
    "table"
   ]
  },
  {
   "cell_type": "markdown",
   "metadata": {},
   "source": [
    "### (b) Newton's Method using $p_{0}=-0.4975,N=20$ and $TOL=10^{-5}$"
   ]
  },
  {
   "cell_type": "code",
   "execution_count": 20,
   "metadata": {},
   "outputs": [
    {
     "name": "stdout",
     "output_type": "stream",
     "text": [
      "root is found at x = 2.4891164\n"
     ]
    },
    {
     "data": {
      "text/html": [
       "<div>\n",
       "<style scoped>\n",
       "    .dataframe tbody tr th:only-of-type {\n",
       "        vertical-align: middle;\n",
       "    }\n",
       "\n",
       "    .dataframe tbody tr th {\n",
       "        vertical-align: top;\n",
       "    }\n",
       "\n",
       "    .dataframe thead th {\n",
       "        text-align: right;\n",
       "    }\n",
       "</style>\n",
       "<table border=\"1\" class=\"dataframe\">\n",
       "  <thead>\n",
       "    <tr style=\"text-align: right;\">\n",
       "      <th></th>\n",
       "      <th>$p_{n}$</th>\n",
       "      <th>$f(p_{n})$</th>\n",
       "    </tr>\n",
       "  </thead>\n",
       "  <tbody>\n",
       "    <tr>\n",
       "      <th>1</th>\n",
       "      <td>2.9097745</td>\n",
       "      <td>9.8070279</td>\n",
       "    </tr>\n",
       "    <tr>\n",
       "      <th>2</th>\n",
       "      <td>2.6807210</td>\n",
       "      <td>2.7403269</td>\n",
       "    </tr>\n",
       "    <tr>\n",
       "      <th>3</th>\n",
       "      <td>2.5476161</td>\n",
       "      <td>0.60748870</td>\n",
       "    </tr>\n",
       "    <tr>\n",
       "      <th>4</th>\n",
       "      <td>2.4966420</td>\n",
       "      <td>0.068539981</td>\n",
       "    </tr>\n",
       "    <tr>\n",
       "      <th>5</th>\n",
       "      <td>2.4892622</td>\n",
       "      <td>0.0013026537</td>\n",
       "    </tr>\n",
       "    <tr>\n",
       "      <th>6</th>\n",
       "      <td>2.4891164</td>\n",
       "      <td>4.3679027e-7</td>\n",
       "    </tr>\n",
       "    <tr>\n",
       "      <th>7</th>\n",
       "      <td>2.4891164</td>\n",
       "      <td>-6.4261281e-8</td>\n",
       "    </tr>\n",
       "  </tbody>\n",
       "</table>\n",
       "</div>"
      ],
      "text/plain": [
       "     $p_{n}$     $f(p_{n})$\n",
       "1  2.9097745      9.8070279\n",
       "2  2.6807210      2.7403269\n",
       "3  2.5476161     0.60748870\n",
       "4  2.4966420    0.068539981\n",
       "5  2.4892622   0.0013026537\n",
       "6  2.4891164   4.3679027e-7\n",
       "7  2.4891164  -6.4261281e-8"
      ]
     },
     "execution_count": 20,
     "metadata": {},
     "output_type": "execute_result"
    }
   ],
   "source": [
    "root, data = newton(f, 0.4975, tol=10**-5)\n",
    "table = pd.DataFrame(data, columns=['$p_{n}$', '$f(p_{n})$'])\n",
    "table.index += 1\n",
    "table"
   ]
  },
  {
   "cell_type": "markdown",
   "metadata": {},
   "source": [
    "## 5. Compare the Secant Method and Newton's Method for finding a root of each function below.\n",
    "### (a) $F(x)=x^3-3x+1$, $p_{0}=2$"
   ]
  },
  {
   "cell_type": "code",
   "execution_count": 21,
   "metadata": {},
   "outputs": [
    {
     "data": {
      "image/png": "[encoded data removed]",
      "text/plain": [
       "<Figure size 432x288 with 1 Axes>"
      ]
     },
     "metadata": {},
     "output_type": "display_data"
    },
    {
     "data": {
      "text/plain": [
       "<sympy.plotting.plot.Plot at 0x7f5ae72d8a90>"
      ]
     },
     "execution_count": 21,
     "metadata": {},
     "output_type": "execute_result"
    }
   ],
   "source": [
    "f = x**3 - 3 * x + 1\n",
    "plot(f, ylim=(-20, 20), xlim=(-5, 5))"
   ]
  },
  {
   "cell_type": "markdown",
   "metadata": {},
   "source": [
    "#### Newton's Method"
   ]
  },
  {
   "cell_type": "code",
   "execution_count": 22,
   "metadata": {},
   "outputs": [
    {
     "name": "stdout",
     "output_type": "stream",
     "text": [
      "root is found at x = 1.5320890\n"
     ]
    },
    {
     "data": {
      "text/html": [
       "<div>\n",
       "<style scoped>\n",
       "    .dataframe tbody tr th:only-of-type {\n",
       "        vertical-align: middle;\n",
       "    }\n",
       "\n",
       "    .dataframe tbody tr th {\n",
       "        vertical-align: top;\n",
       "    }\n",
       "\n",
       "    .dataframe thead th {\n",
       "        text-align: right;\n",
       "    }\n",
       "</style>\n",
       "<table border=\"1\" class=\"dataframe\">\n",
       "  <thead>\n",
       "    <tr style=\"text-align: right;\">\n",
       "      <th></th>\n",
       "      <th>$p_{n}$</th>\n",
       "      <th>$f(p_{n})$</th>\n",
       "    </tr>\n",
       "  </thead>\n",
       "  <tbody>\n",
       "    <tr>\n",
       "      <th>1</th>\n",
       "      <td>1.6666667</td>\n",
       "      <td>0.62962963</td>\n",
       "    </tr>\n",
       "    <tr>\n",
       "      <th>2</th>\n",
       "      <td>1.5486111</td>\n",
       "      <td>0.068040214</td>\n",
       "    </tr>\n",
       "    <tr>\n",
       "      <th>3</th>\n",
       "      <td>1.5323902</td>\n",
       "      <td>0.0012181401</td>\n",
       "    </tr>\n",
       "    <tr>\n",
       "      <th>4</th>\n",
       "      <td>1.5320890</td>\n",
       "      <td>4.1723251e-7</td>\n",
       "    </tr>\n",
       "  </tbody>\n",
       "</table>\n",
       "</div>"
      ],
      "text/plain": [
       "     $p_{n}$    $f(p_{n})$\n",
       "1  1.6666667    0.62962963\n",
       "2  1.5486111   0.068040214\n",
       "3  1.5323902  0.0012181401\n",
       "4  1.5320890  4.1723251e-7"
      ]
     },
     "execution_count": 22,
     "metadata": {},
     "output_type": "execute_result"
    }
   ],
   "source": [
    "root, data = newton(f, 2)\n",
    "table = pd.DataFrame(data, columns=['$p_{n}$', '$f(p_{n})$'])\n",
    "table.index += 1\n",
    "table"
   ]
  },
  {
   "cell_type": "markdown",
   "metadata": {},
   "source": [
    "#### Secant Method"
   ]
  },
  {
   "cell_type": "code",
   "execution_count": 23,
   "metadata": {},
   "outputs": [
    {
     "name": "stdout",
     "output_type": "stream",
     "text": [
      "root is found at x = 1.5320909\n"
     ]
    },
    {
     "data": {
      "text/html": [
       "<div>\n",
       "<style scoped>\n",
       "    .dataframe tbody tr th:only-of-type {\n",
       "        vertical-align: middle;\n",
       "    }\n",
       "\n",
       "    .dataframe tbody tr th {\n",
       "        vertical-align: top;\n",
       "    }\n",
       "\n",
       "    .dataframe thead th {\n",
       "        text-align: right;\n",
       "    }\n",
       "</style>\n",
       "<table border=\"1\" class=\"dataframe\">\n",
       "  <thead>\n",
       "    <tr style=\"text-align: right;\">\n",
       "      <th></th>\n",
       "      <th>$p_{n}$</th>\n",
       "      <th>$f(p_{n})$</th>\n",
       "    </tr>\n",
       "  </thead>\n",
       "  <tbody>\n",
       "    <tr>\n",
       "      <th>2</th>\n",
       "      <td>1.5781250</td>\n",
       "      <td>0.19591141</td>\n",
       "    </tr>\n",
       "    <tr>\n",
       "      <th>3</th>\n",
       "      <td>1.5381305</td>\n",
       "      <td>0.024587721</td>\n",
       "    </tr>\n",
       "    <tr>\n",
       "      <th>4</th>\n",
       "      <td>1.5323907</td>\n",
       "      <td>0.0012203082</td>\n",
       "    </tr>\n",
       "    <tr>\n",
       "      <th>5</th>\n",
       "      <td>1.5320909</td>\n",
       "      <td>8.3297491e-6</td>\n",
       "    </tr>\n",
       "  </tbody>\n",
       "</table>\n",
       "</div>"
      ],
      "text/plain": [
       "     $p_{n}$    $f(p_{n})$\n",
       "2  1.5781250    0.19591141\n",
       "3  1.5381305   0.024587721\n",
       "4  1.5323907  0.0012203082\n",
       "5  1.5320909  8.3297491e-6"
      ]
     },
     "execution_count": 23,
     "metadata": {},
     "output_type": "execute_result"
    }
   ],
   "source": [
    "root, data = secant(f, 2, data[0][0])\n",
    "table = pd.DataFrame(data, columns=['$p_{n}$', '$f(p_{n})$'])\n",
    "table.index += 2\n",
    "table"
   ]
  },
  {
   "cell_type": "markdown",
   "metadata": {},
   "source": [
    "### (b) $F(x)=x^3-2sinx$, $p_{0}=0.5$"
   ]
  },
  {
   "cell_type": "code",
   "execution_count": 24,
   "metadata": {},
   "outputs": [
    {
     "data": {
      "image/png": "[encoded data removed]",
      "text/plain": [
       "<Figure size 432x288 with 1 Axes>"
      ]
     },
     "metadata": {},
     "output_type": "display_data"
    },
    {
     "data": {
      "text/plain": [
       "<sympy.plotting.plot.Plot at 0x7f5ae7178940>"
      ]
     },
     "execution_count": 24,
     "metadata": {},
     "output_type": "execute_result"
    }
   ],
   "source": [
    "f = x**3 - 2 * sin(x)\n",
    "plot(f, ylim=(-10, 10), xlim=(-5, 5))"
   ]
  },
  {
   "cell_type": "markdown",
   "metadata": {},
   "source": [
    "#### Newton's Method"
   ]
  },
  {
   "cell_type": "code",
   "execution_count": 25,
   "metadata": {},
   "outputs": [
    {
     "name": "stdout",
     "output_type": "stream",
     "text": [
      "root is found at x = 0.000000000036379788\n"
     ]
    },
    {
     "data": {
      "text/html": [
       "<div>\n",
       "<style scoped>\n",
       "    .dataframe tbody tr th:only-of-type {\n",
       "        vertical-align: middle;\n",
       "    }\n",
       "\n",
       "    .dataframe tbody tr th {\n",
       "        vertical-align: top;\n",
       "    }\n",
       "\n",
       "    .dataframe thead th {\n",
       "        text-align: right;\n",
       "    }\n",
       "</style>\n",
       "<table border=\"1\" class=\"dataframe\">\n",
       "  <thead>\n",
       "    <tr style=\"text-align: right;\">\n",
       "      <th></th>\n",
       "      <th>$p_{n}$</th>\n",
       "      <th>$f(p_{n})$</th>\n",
       "    </tr>\n",
       "  </thead>\n",
       "  <tbody>\n",
       "    <tr>\n",
       "      <th>1</th>\n",
       "      <td>-0.32956626</td>\n",
       "      <td>0.61146985</td>\n",
       "    </tr>\n",
       "    <tr>\n",
       "      <th>2</th>\n",
       "      <td>0.060769224</td>\n",
       "      <td>-0.12123924</td>\n",
       "    </tr>\n",
       "    <tr>\n",
       "      <th>3</th>\n",
       "      <td>-0.00030141784</td>\n",
       "      <td>0.00060283564</td>\n",
       "    </tr>\n",
       "    <tr>\n",
       "      <th>4</th>\n",
       "      <td>3.6379788e-11</td>\n",
       "      <td>-7.2759576e-11</td>\n",
       "    </tr>\n",
       "  </tbody>\n",
       "</table>\n",
       "</div>"
      ],
      "text/plain": [
       "          $p_{n}$      $f(p_{n})$\n",
       "1     -0.32956626      0.61146985\n",
       "2     0.060769224     -0.12123924\n",
       "3  -0.00030141784   0.00060283564\n",
       "4   3.6379788e-11  -7.2759576e-11"
      ]
     },
     "execution_count": 25,
     "metadata": {},
     "output_type": "execute_result"
    }
   ],
   "source": [
    "root, data = newton(f, 0.5)\n",
    "table = pd.DataFrame(data, columns=['$p_{n}$', '$f(p_{n})$'])\n",
    "table.index += 1\n",
    "table"
   ]
  },
  {
   "cell_type": "markdown",
   "metadata": {},
   "source": [
    "#### Secant Method"
   ]
  },
  {
   "cell_type": "code",
   "execution_count": 26,
   "metadata": {},
   "outputs": [
    {
     "name": "stdout",
     "output_type": "stream",
     "text": [
      "root is found at x = 0.00000000000036770587\n"
     ]
    },
    {
     "data": {
      "text/html": [
       "<div>\n",
       "<style scoped>\n",
       "    .dataframe tbody tr th:only-of-type {\n",
       "        vertical-align: middle;\n",
       "    }\n",
       "\n",
       "    .dataframe tbody tr th {\n",
       "        vertical-align: top;\n",
       "    }\n",
       "\n",
       "    .dataframe thead th {\n",
       "        text-align: right;\n",
       "    }\n",
       "</style>\n",
       "<table border=\"1\" class=\"dataframe\">\n",
       "  <thead>\n",
       "    <tr style=\"text-align: right;\">\n",
       "      <th></th>\n",
       "      <th>$p_{n}$</th>\n",
       "      <th>$f(p_{n})$</th>\n",
       "    </tr>\n",
       "  </thead>\n",
       "  <tbody>\n",
       "    <tr>\n",
       "      <th>2</th>\n",
       "      <td>-0.58530703</td>\n",
       "      <td>0.90439365</td>\n",
       "    </tr>\n",
       "    <tr>\n",
       "      <th>3</th>\n",
       "      <td>0.20428508</td>\n",
       "      <td>-0.39720902</td>\n",
       "    </tr>\n",
       "    <tr>\n",
       "      <th>4</th>\n",
       "      <td>-0.036674093</td>\n",
       "      <td>0.073282420</td>\n",
       "    </tr>\n",
       "    <tr>\n",
       "      <th>5</th>\n",
       "      <td>0.00085702864</td>\n",
       "      <td>-0.0017140565</td>\n",
       "    </tr>\n",
       "    <tr>\n",
       "      <th>6</th>\n",
       "      <td>-7.5114986e-7</td>\n",
       "      <td>1.5022997e-6</td>\n",
       "    </tr>\n",
       "    <tr>\n",
       "      <th>7</th>\n",
       "      <td>3.6770587e-13</td>\n",
       "      <td>-7.3541173e-13</td>\n",
       "    </tr>\n",
       "  </tbody>\n",
       "</table>\n",
       "</div>"
      ],
      "text/plain": [
       "         $p_{n}$      $f(p_{n})$\n",
       "2    -0.58530703      0.90439365\n",
       "3     0.20428508     -0.39720902\n",
       "4   -0.036674093     0.073282420\n",
       "5  0.00085702864   -0.0017140565\n",
       "6  -7.5114986e-7    1.5022997e-6\n",
       "7  3.6770587e-13  -7.3541173e-13"
      ]
     },
     "execution_count": 26,
     "metadata": {},
     "output_type": "execute_result"
    }
   ],
   "source": [
    "root, data = secant(f, 2, data[0][0])\n",
    "table = pd.DataFrame(data, columns=['$p_{n}$', '$f(p_{n})$'])\n",
    "table.index += 2\n",
    "table"
   ]
  },
  {
   "cell_type": "markdown",
   "metadata": {},
   "source": [
    "## 6. $f(x)=x^5-9x^4-x^3+17x^2-8x-8$"
   ]
  },
  {
   "cell_type": "code",
   "execution_count": 27,
   "metadata": {},
   "outputs": [
    {
     "data": {
      "image/png": "[encoded data removed]",
      "text/plain": [
       "<Figure size 432x288 with 1 Axes>"
      ]
     },
     "metadata": {},
     "output_type": "display_data"
    },
    {
     "data": {
      "text/plain": [
       "<sympy.plotting.plot.Plot at 0x7f5ae70f2b00>"
      ]
     },
     "execution_count": 27,
     "metadata": {},
     "output_type": "execute_result"
    }
   ],
   "source": [
    "f = x**5-9*x**4-x**3+17*x**2-8*x-8\n",
    "plot(f, ylim=(-100, 30))"
   ]
  },
  {
   "cell_type": "markdown",
   "metadata": {},
   "source": [
    "### Newton's Method using $p_{0}=0$"
   ]
  },
  {
   "cell_type": "code",
   "execution_count": 28,
   "metadata": {},
   "outputs": [
    {
     "name": "stdout",
     "output_type": "stream",
     "text": [
      "Reach the max iterations: 20, stop calculating.\n",
      "root is found at x = 1.0000000\n"
     ]
    },
    {
     "data": {
      "text/html": [
       "<div>\n",
       "<style scoped>\n",
       "    .dataframe tbody tr th:only-of-type {\n",
       "        vertical-align: middle;\n",
       "    }\n",
       "\n",
       "    .dataframe tbody tr th {\n",
       "        vertical-align: top;\n",
       "    }\n",
       "\n",
       "    .dataframe thead th {\n",
       "        text-align: right;\n",
       "    }\n",
       "</style>\n",
       "<table border=\"1\" class=\"dataframe\">\n",
       "  <thead>\n",
       "    <tr style=\"text-align: right;\">\n",
       "      <th></th>\n",
       "      <th>$p_{n}$</th>\n",
       "      <th>$f(p_{n})$</th>\n",
       "    </tr>\n",
       "  </thead>\n",
       "  <tbody>\n",
       "    <tr>\n",
       "      <th>1</th>\n",
       "      <td>-1.0000000</td>\n",
       "      <td>8.0000000</td>\n",
       "    </tr>\n",
       "    <tr>\n",
       "      <th>2</th>\n",
       "      <td>1.0000000</td>\n",
       "      <td>-8.0000000</td>\n",
       "    </tr>\n",
       "    <tr>\n",
       "      <th>3</th>\n",
       "      <td>0</td>\n",
       "      <td>-8.0000000</td>\n",
       "    </tr>\n",
       "    <tr>\n",
       "      <th>4</th>\n",
       "      <td>-1.0000000</td>\n",
       "      <td>8.0000000</td>\n",
       "    </tr>\n",
       "    <tr>\n",
       "      <th>5</th>\n",
       "      <td>1.0000000</td>\n",
       "      <td>-8.0000000</td>\n",
       "    </tr>\n",
       "    <tr>\n",
       "      <th>6</th>\n",
       "      <td>0</td>\n",
       "      <td>-8.0000000</td>\n",
       "    </tr>\n",
       "    <tr>\n",
       "      <th>7</th>\n",
       "      <td>-1.0000000</td>\n",
       "      <td>8.0000000</td>\n",
       "    </tr>\n",
       "    <tr>\n",
       "      <th>8</th>\n",
       "      <td>1.0000000</td>\n",
       "      <td>-8.0000000</td>\n",
       "    </tr>\n",
       "    <tr>\n",
       "      <th>9</th>\n",
       "      <td>0</td>\n",
       "      <td>-8.0000000</td>\n",
       "    </tr>\n",
       "    <tr>\n",
       "      <th>10</th>\n",
       "      <td>-1.0000000</td>\n",
       "      <td>8.0000000</td>\n",
       "    </tr>\n",
       "    <tr>\n",
       "      <th>11</th>\n",
       "      <td>1.0000000</td>\n",
       "      <td>-8.0000000</td>\n",
       "    </tr>\n",
       "    <tr>\n",
       "      <th>12</th>\n",
       "      <td>0</td>\n",
       "      <td>-8.0000000</td>\n",
       "    </tr>\n",
       "    <tr>\n",
       "      <th>13</th>\n",
       "      <td>-1.0000000</td>\n",
       "      <td>8.0000000</td>\n",
       "    </tr>\n",
       "    <tr>\n",
       "      <th>14</th>\n",
       "      <td>1.0000000</td>\n",
       "      <td>-8.0000000</td>\n",
       "    </tr>\n",
       "    <tr>\n",
       "      <th>15</th>\n",
       "      <td>0</td>\n",
       "      <td>-8.0000000</td>\n",
       "    </tr>\n",
       "    <tr>\n",
       "      <th>16</th>\n",
       "      <td>-1.0000000</td>\n",
       "      <td>8.0000000</td>\n",
       "    </tr>\n",
       "    <tr>\n",
       "      <th>17</th>\n",
       "      <td>1.0000000</td>\n",
       "      <td>-8.0000000</td>\n",
       "    </tr>\n",
       "    <tr>\n",
       "      <th>18</th>\n",
       "      <td>0</td>\n",
       "      <td>-8.0000000</td>\n",
       "    </tr>\n",
       "    <tr>\n",
       "      <th>19</th>\n",
       "      <td>-1.0000000</td>\n",
       "      <td>8.0000000</td>\n",
       "    </tr>\n",
       "    <tr>\n",
       "      <th>20</th>\n",
       "      <td>1.0000000</td>\n",
       "      <td>-8.0000000</td>\n",
       "    </tr>\n",
       "  </tbody>\n",
       "</table>\n",
       "</div>"
      ],
      "text/plain": [
       "       $p_{n}$  $f(p_{n})$\n",
       "1   -1.0000000   8.0000000\n",
       "2    1.0000000  -8.0000000\n",
       "3            0  -8.0000000\n",
       "4   -1.0000000   8.0000000\n",
       "5    1.0000000  -8.0000000\n",
       "6            0  -8.0000000\n",
       "7   -1.0000000   8.0000000\n",
       "8    1.0000000  -8.0000000\n",
       "9            0  -8.0000000\n",
       "10  -1.0000000   8.0000000\n",
       "11   1.0000000  -8.0000000\n",
       "12           0  -8.0000000\n",
       "13  -1.0000000   8.0000000\n",
       "14   1.0000000  -8.0000000\n",
       "15           0  -8.0000000\n",
       "16  -1.0000000   8.0000000\n",
       "17   1.0000000  -8.0000000\n",
       "18           0  -8.0000000\n",
       "19  -1.0000000   8.0000000\n",
       "20   1.0000000  -8.0000000"
      ]
     },
     "execution_count": 28,
     "metadata": {},
     "output_type": "execute_result"
    }
   ],
   "source": [
    "root, data = newton(f, 0)\n",
    "table = pd.DataFrame(data, columns=['$p_{n}$', '$f(p_{n})$'])\n",
    "table.index += 1\n",
    "table"
   ]
  }
 ],
 "metadata": {
  "kernelspec": {
   "display_name": "Python 3",
   "language": "python",
   "name": "python3"
  },
  "language_info": {
   "codemirror_mode": {
    "name": "ipython",
    "version": 3
   },
   "file_extension": ".py",
   "mimetype": "text/x-python",
   "name": "python",
   "nbconvert_exporter": "python",
   "pygments_lexer": "ipython3",
   "version": "3.6.4"
  }
 },
 "nbformat": 4,
 "nbformat_minor": 2
}
