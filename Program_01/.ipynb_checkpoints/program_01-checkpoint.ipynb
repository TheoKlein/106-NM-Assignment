{
 "cells": [
  {
   "cell_type": "code",
   "execution_count": null,
   "metadata": {},
   "outputs": [],
   "source": [
    "%matplotlib inline\n",
    "from IPython.display import display, Math\n",
    "from sympy import Symbol, Function, diff, sin, cos, N\n",
    "from sympy.solvers import solve\n",
    "from sympy.plotting import plot\n",
    "from mpmath import euler\n",
    "import pandas as pd\n",
    "\n",
    "# Some default values\n",
    "TOL = 0.0005\n",
    "MAX_ITER = 20\n",
    "MAX_PRECISION = 8\n",
    "\n",
    "def randomInitial(equation, num_range, sign, precision=MAX_PRECISION):\n",
    "    \"\"\"Generate initial value randomly.\n",
    "        \n",
    "    Args:\n",
    "        - equation: math equation\n",
    "        - num_range: the initial will between this range tuple\n",
    "        - sign:\n",
    "            - 0: generate positive number\n",
    "            - 1: generate negative number\n",
    "        - precision: round for floating number's precision\n",
    "        \n",
    "    Returns:\n",
    "        float: Random initial value.\n",
    "    \"\"\"\n",
    "    import random\n",
    "    while True:\n",
    "        n = random.uniform(num_range[0], num_range[1])\n",
    "        fx = equation.subs(x, n)\n",
    "        if sign == 0:\n",
    "            if fx > 0:\n",
    "                return N(n, precision)\n",
    "        elif sign == 1:\n",
    "            if fx < 0:\n",
    "                return N(n, precision)\n",
    "\n",
    "\n",
    "def bisection(equation, a, b, n=MAX_ITER, tol=TOL, precision=MAX_PRECISION, verbose=True):\n",
    "    \"\"\" Bisection Method\n",
    "    \n",
    "    Args:\n",
    "        - a: left endpoint\n",
    "        - b: right endpoint\n",
    "        - n: max iterations, default is 50\n",
    "        - tol: stop when the length of the search interval is less than tolerance,\n",
    "               default is 0.0005\n",
    "        - precision: round for floating number's precision, default is 8\n",
    "        - verbose: output some logs, default is True\n",
    "    \n",
    "    Returns:\n",
    "        float: Root of the equation.\n",
    "        list: Vaules during the Bisection Method.\n",
    "    \"\"\"\n",
    "    data = []\n",
    "    pn = 0\n",
    "    for step in range(n):\n",
    "        pn = a + (b - a) /2\n",
    "        fpn = N(equation.subs(x, pn), precision)\n",
    "        fan = N(equation.subs(x, a), precision)\n",
    "    \n",
    "        data.append([a, b, pn, fpn])\n",
    "        \n",
    "        if abs(fpn) < tol:\n",
    "            break\n",
    "        \n",
    "        if fpn * fan < 0:\n",
    "            b = pn\n",
    "        else:\n",
    "            a = pn\n",
    "            \n",
    "    if verbose:\n",
    "        print(\"root is found at x = {:f}\".format(pn))\n",
    "    return pn, data\n",
    "\n",
    "\n",
    "def falsePosition(equation, a, b, n=MAX_ITER, tol=TOL, precision=MAX_PRECISION, verbose=True):\n",
    "    \"\"\" False Position Method\n",
    "    \n",
    "    Args:\n",
    "        - a: left endpoint\n",
    "        - b: right endpoint\n",
    "        - n: max iterations, default is 50\n",
    "        - tol: stop when the length of the search interval is less than tolerance,\n",
    "               default is 0.0005\n",
    "        - precision: round for floating number's precision, default is 8\n",
    "        - verbose: output some logs, default is True\n",
    "    \n",
    "    Returns:\n",
    "        float: Root of the equation.\n",
    "        list: Vaules during the False Position Method.\n",
    "    \"\"\"\n",
    "    data = []\n",
    "    pn = 0\n",
    "    \n",
    "    for step in range(n):\n",
    "        fa = N(equation.subs(x, a), precision)\n",
    "        fb = N(equation.subs(x, b), precision)\n",
    "        pn = N((a - (fa * (b - a)) / (fb - fa)), precision)\n",
    "        fpn = N(equation.subs(x, pn), precision)\n",
    "        \n",
    "        data.append([a, b, pn, fpn])\n",
    "        \n",
    "        if abs(fpn) < tol:\n",
    "            break\n",
    "            \n",
    "        if fa * fpn < 0:\n",
    "            b = pn\n",
    "        else:\n",
    "            a = pn\n",
    "            \n",
    "    if verbose:\n",
    "        print(\"root is found at x = {:f}\".format(pn))\n",
    "    return pn, data\n",
    "\n",
    "\n",
    "def secant(equation, p0, p1, n=MAX_ITER, tol=TOL, precision=MAX_PRECISION, verbose=True):\n",
    "    \"\"\" Bisection Method\n",
    "    \n",
    "    Args:\n",
    "        - p0: left endpoint\n",
    "        - p1: right endpoint\n",
    "        - n: max iterations, default is 50\n",
    "        - tol: stop when the length of the search interval is less than tolerance,\n",
    "               default is 0.0005\n",
    "        - precision: round for floating number's precision, default is 8\n",
    "        - verbose: output some logs, default is True\n",
    "    \n",
    "    Returns:\n",
    "        float: Root of the equation.\n",
    "        list: Vaules during the Secant Method.\n",
    "    \"\"\"\n",
    "    data = []\n",
    "    pn = 0\n",
    "    \n",
    "    for step in range(n):\n",
    "        fp0 = N(equation.subs(x, p0), precision)\n",
    "        fp1 = N(equation.subs(x, p1), precision)\n",
    "        pn = N(p1 - (fp1 * (p1 - p0)) / (fp1 - fp0), precision)\n",
    "        fpn = N(equation.subs(x, pn), precision)\n",
    "        \n",
    "        data.append([pn, fpn])\n",
    "        \n",
    "        if abs(pn - p1) < tol:\n",
    "            break\n",
    "        \n",
    "        p0 = p1\n",
    "        p1 = pn\n",
    "        \n",
    "    if verbose:\n",
    "        print(\"root is found at x = {:f}\".format(pn))\n",
    "    return pn, data\n",
    "    \n",
    "\n",
    "def newton(equation, p0, n=MAX_ITER, tol=TOL, precision=MAX_PRECISION, verbose=True):\n",
    "    \"\"\" Newton's Method\n",
    "    \n",
    "    Args:\n",
    "        - p0: start point\n",
    "        - n: max iterations, default is 50\n",
    "        - tol: stop when the length of the search interval is less than tolerance,\n",
    "               default is 0.0005\n",
    "        - precision: round for floating number's precision, default is 8\n",
    "        - verbose: output some logs, default is True\n",
    "    \n",
    "    Returns:\n",
    "        float: Root of the equation.\n",
    "        list: Vaules during the Newton's Method.\n",
    "    \"\"\"\n",
    "    data = []\n",
    "    pn = 0\n",
    "    equation_prime = diff(equation, x)\n",
    "    \n",
    "    for step in range(n):\n",
    "        fp = N(equation.subs(x, p0), precision)\n",
    "        fpp = N(equation_prime.subs(x, p0), precision)\n",
    "        pn = N(p0 - (fp / fpp), precision)\n",
    "        fpn = N(equation.subs(x, pn), precision)\n",
    "        \n",
    "        data.append([pn, fpn])\n",
    "        \n",
    "        if abs(pn - p0) < tol:\n",
    "            break\n",
    "        \n",
    "        p0 = pn\n",
    "        \n",
    "        if step == n - 1 and verbose:\n",
    "            print('Reach the max iterations: {:d}, stop calculating.'.format(n))\n",
    "    if verbose:\n",
    "        print(\"root is found at x = {:f}\".format(pn))\n",
    "    return pn, data"
   ]
  },
  {
   "cell_type": "markdown",
   "metadata": {},
   "source": [
    "## 1. $f(x) = x^3 + 4x^2 - 10$ in the closed interval [1, 2]"
   ]
  },
  {
   "cell_type": "code",
   "execution_count": null,
   "metadata": {},
   "outputs": [],
   "source": [
    "x = Symbol('x')\n",
    "f = x**3 + 4 * x**2 - 10\n",
    "plot(f)"
   ]
  },
  {
   "cell_type": "markdown",
   "metadata": {},
   "source": [
    "### (a) Bisection Method"
   ]
  },
  {
   "cell_type": "code",
   "execution_count": null,
   "metadata": {},
   "outputs": [],
   "source": [
    "root, data = bisection(f, 1, 2)\n",
    "table = pd.DataFrame(data, columns=['an', 'bn', 'pn', 'f(pn)'])\n",
    "table.index += 1\n",
    "table"
   ]
  },
  {
   "cell_type": "markdown",
   "metadata": {},
   "source": [
    "### (b) False Position Method"
   ]
  },
  {
   "cell_type": "code",
   "execution_count": null,
   "metadata": {},
   "outputs": [],
   "source": [
    "root, data = falsePosition(f, 1, 2)\n",
    "table = pd.DataFrame(data, columns=['an', 'bn', 'pn', 'f(pn)'])\n",
    "table.index += 1\n",
    "table"
   ]
  },
  {
   "cell_type": "markdown",
   "metadata": {},
   "source": [
    "### (c) Secant Method"
   ]
  },
  {
   "cell_type": "code",
   "execution_count": null,
   "metadata": {},
   "outputs": [],
   "source": [
    "root, data = secant(f, 1, 2)\n",
    "table = pd.DataFrame(data, columns=['pn', 'f(pn)'])\n",
    "table.index += 2\n",
    "table"
   ]
  },
  {
   "cell_type": "markdown",
   "metadata": {},
   "source": [
    "### (d) Newton's Method"
   ]
  },
  {
   "cell_type": "code",
   "execution_count": null,
   "metadata": {},
   "outputs": [],
   "source": [
    "root, data = newton(f, 1)\n",
    "table = pd.DataFrame(data, columns=['pn', 'f(pn)'])\n",
    "table.index += 1\n",
    "table"
   ]
  },
  {
   "cell_type": "markdown",
   "metadata": {},
   "source": [
    "## 2. $f(x) = e^x - 2cosx$ in the closed interval [0, 2]"
   ]
  },
  {
   "cell_type": "code",
   "execution_count": null,
   "metadata": {},
   "outputs": [],
   "source": [
    "f = euler**x - 2 * cos(x)\n",
    "plot(f)"
   ]
  },
  {
   "cell_type": "markdown",
   "metadata": {},
   "source": [
    "### (a) Bisection Method"
   ]
  },
  {
   "cell_type": "code",
   "execution_count": null,
   "metadata": {},
   "outputs": [],
   "source": [
    "root, data = bisection(f, 0, 2)\n",
    "table = pd.DataFrame(data, columns=['an', 'bn', 'pn', 'f(pn)'])\n",
    "table.index += 1\n",
    "table"
   ]
  },
  {
   "cell_type": "markdown",
   "metadata": {},
   "source": [
    "### (b) False Position Method"
   ]
  },
  {
   "cell_type": "code",
   "execution_count": null,
   "metadata": {},
   "outputs": [],
   "source": [
    "root, data = falsePosition(f, 0, 2)\n",
    "table = pd.DataFrame(data, columns=['an', 'bn', 'pn', 'f(pn)'])\n",
    "table.index += 1\n",
    "table"
   ]
  },
  {
   "cell_type": "markdown",
   "metadata": {},
   "source": [
    "### (c) Secant Method"
   ]
  },
  {
   "cell_type": "code",
   "execution_count": null,
   "metadata": {},
   "outputs": [],
   "source": [
    "root, data = secant(f, 0, 2)\n",
    "table = pd.DataFrame(data, columns=['pn', 'f(pn)'])\n",
    "table.index += 2\n",
    "table"
   ]
  },
  {
   "cell_type": "markdown",
   "metadata": {},
   "source": [
    "### (d) Newton's Method"
   ]
  },
  {
   "cell_type": "code",
   "execution_count": null,
   "metadata": {},
   "outputs": [],
   "source": [
    "root, data = newton(f, 2)\n",
    "table = pd.DataFrame(data, columns=['pn', 'f(pn)'])\n",
    "table.index += 1\n",
    "table"
   ]
  },
  {
   "cell_type": "markdown",
   "metadata": {},
   "source": [
    "## 3. $f(x) = 4xcos(2x) - (x-2)^2$ has four roots in [0, 8]"
   ]
  },
  {
   "cell_type": "code",
   "execution_count": null,
   "metadata": {},
   "outputs": [],
   "source": [
    "f = 4 * cos(2 * x) - (x - 2)**2\n",
    "plot(f)"
   ]
  },
  {
   "cell_type": "markdown",
   "metadata": {},
   "source": [
    "### Generate initial value randomly"
   ]
  },
  {
   "cell_type": "code",
   "execution_count": null,
   "metadata": {},
   "outputs": [],
   "source": [
    "a = randomInitial(f, (0, 8), 0)\n",
    "b = randomInitial(f, (0, 8), 1)\n",
    "display(Math('a = {}'.format(a)))\n",
    "display(Math('b = {}'.format(b)))\n",
    "display(Math('f(a) = {} > 0'.format(f.subs(x, a))))\n",
    "display(Math('f(b) = {} < 0'.format(f.subs(x, b))))"
   ]
  },
  {
   "cell_type": "markdown",
   "metadata": {},
   "source": [
    "### (a) Bisection Method"
   ]
  },
  {
   "cell_type": "code",
   "execution_count": null,
   "metadata": {},
   "outputs": [],
   "source": [
    "root, data = bisection(f, a, b)\n",
    "table = pd.DataFrame(data, columns=['an', 'bn', 'pn', 'f(pn)'])\n",
    "table.index += 1\n",
    "table"
   ]
  },
  {
   "cell_type": "markdown",
   "metadata": {},
   "source": [
    "### (b) False Position Method"
   ]
  },
  {
   "cell_type": "code",
   "execution_count": null,
   "metadata": {},
   "outputs": [],
   "source": [
    "root, data = falsePosition(f, a, b)\n",
    "table = pd.DataFrame(data, columns=['an', 'bn', 'pn', 'f(pn)'])\n",
    "table.index += 1\n",
    "table"
   ]
  },
  {
   "cell_type": "markdown",
   "metadata": {},
   "source": [
    "### (c) Secant Method"
   ]
  },
  {
   "cell_type": "code",
   "execution_count": null,
   "metadata": {},
   "outputs": [],
   "source": [
    "root, data = secant(f, a, b)\n",
    "table = pd.DataFrame(data, columns=['pn', 'f(pn)'])\n",
    "table.index += 2\n",
    "table"
   ]
  },
  {
   "cell_type": "markdown",
   "metadata": {},
   "source": [
    "### (d) Newton's Method"
   ]
  },
  {
   "cell_type": "code",
   "execution_count": null,
   "metadata": {},
   "outputs": [],
   "source": [
    "root, data = newton(f, b)\n",
    "table = pd.DataFrame(data, columns=['pn', 'f(pn)'])\n",
    "table.index += 1\n",
    "table"
   ]
  },
  {
   "cell_type": "markdown",
   "metadata": {},
   "source": [
    "## 4. $f(x) = x^5 - 4.5x^4 + 4.55x^3 + 2.675x^2 -3.3x-1.3375$"
   ]
  },
  {
   "cell_type": "code",
   "execution_count": null,
   "metadata": {},
   "outputs": [],
   "source": [
    "f = x**5 - 4.5*x**4 + 4.55*x**3 + 2.675*x**2 - 3.3*x - 1.3375\n",
    "plot(f)"
   ]
  },
  {
   "cell_type": "markdown",
   "metadata": {},
   "source": [
    "### (a) Secant Method using $p0 = -0.5,p1=-0.4975,N=20$ and $TOL=10^{-5}$"
   ]
  },
  {
   "cell_type": "code",
   "execution_count": null,
   "metadata": {},
   "outputs": [],
   "source": [
    "root, data = secant(f, -0.5, -0.4975, tol=10**-5)\n",
    "table = pd.DataFrame(data, columns=['pn', 'f(pn)'])\n",
    "table.index += 2\n",
    "table"
   ]
  },
  {
   "cell_type": "markdown",
   "metadata": {},
   "source": [
    "### (b) Newton's Method using $p0=-0.4975,N=20$ and $TOL=10^{-5}$"
   ]
  },
  {
   "cell_type": "code",
   "execution_count": null,
   "metadata": {},
   "outputs": [],
   "source": [
    "root, data = newton(f, 0.4975, tol=10**-5)\n",
    "table = pd.DataFrame(data, columns=['pn', 'f(pn)'])\n",
    "table.index += 1\n",
    "table"
   ]
  },
  {
   "cell_type": "markdown",
   "metadata": {},
   "source": [
    "## 5. Compare the Secant Method and Newton's Method for finding a root of each function below.\n",
    "### (a) $F(x)=x^3-3x+1$, $p0=2$"
   ]
  },
  {
   "cell_type": "code",
   "execution_count": null,
   "metadata": {},
   "outputs": [],
   "source": [
    "f = x**3 - 3 * x + 1\n",
    "plot(f)"
   ]
  },
  {
   "cell_type": "markdown",
   "metadata": {},
   "source": [
    "#### Newton's Method"
   ]
  },
  {
   "cell_type": "code",
   "execution_count": null,
   "metadata": {},
   "outputs": [],
   "source": [
    "root, data = newton(f, 2)\n",
    "table = pd.DataFrame(data, columns=['pn', 'f(pn)'])\n",
    "table.index += 1\n",
    "table"
   ]
  },
  {
   "cell_type": "markdown",
   "metadata": {},
   "source": [
    "#### Secant Method"
   ]
  },
  {
   "cell_type": "code",
   "execution_count": null,
   "metadata": {},
   "outputs": [],
   "source": [
    "root, data = secant(f, 2, data[0][0])\n",
    "table = pd.DataFrame(data, columns=['pn', 'f(pn)'])\n",
    "table.index += 2\n",
    "table"
   ]
  },
  {
   "cell_type": "markdown",
   "metadata": {},
   "source": [
    "### (b) $F(x)=x^3-2sinx$, $p0=0.5$"
   ]
  },
  {
   "cell_type": "code",
   "execution_count": null,
   "metadata": {},
   "outputs": [],
   "source": [
    "f = x**3 - 2 * sin(x)\n",
    "plot(f)"
   ]
  },
  {
   "cell_type": "markdown",
   "metadata": {},
   "source": [
    "#### Newton's Method"
   ]
  },
  {
   "cell_type": "code",
   "execution_count": null,
   "metadata": {},
   "outputs": [],
   "source": [
    "root, data = newton(f, 0.5)\n",
    "table = pd.DataFrame(data, columns=['pn', 'f(pn)'])\n",
    "table.index += 1\n",
    "table"
   ]
  },
  {
   "cell_type": "markdown",
   "metadata": {},
   "source": [
    "#### Secant Method"
   ]
  },
  {
   "cell_type": "code",
   "execution_count": null,
   "metadata": {},
   "outputs": [],
   "source": [
    "root, data = secant(f, 2, data[0][0])\n",
    "table = pd.DataFrame(data, columns=['pn', 'f(pn)'])\n",
    "table.index += 2\n",
    "table"
   ]
  },
  {
   "cell_type": "markdown",
   "metadata": {},
   "source": [
    "## 6. $f(x)=x^5-9x^4-x^3+17x^2-8x-8$"
   ]
  },
  {
   "cell_type": "code",
   "execution_count": null,
   "metadata": {},
   "outputs": [],
   "source": [
    "f = x**5-9*x**4-x**3+17*x**2-8*x-8\n",
    "plot(f)"
   ]
  },
  {
   "cell_type": "markdown",
   "metadata": {},
   "source": [
    "### Newton's Method using $p0=0$"
   ]
  },
  {
   "cell_type": "code",
   "execution_count": null,
   "metadata": {},
   "outputs": [],
   "source": [
    "root, data = newton(f, 0)\n",
    "table = pd.DataFrame(data, columns=['pn', 'f(pn)'])\n",
    "table.index += 1\n",
    "table"
   ]
  }
 ],
 "metadata": {
  "kernelspec": {
   "display_name": "Python 3",
   "language": "python",
   "name": "python3"
  },
  "language_info": {
   "codemirror_mode": {
    "name": "ipython",
    "version": 3
   },
   "file_extension": ".py",
   "mimetype": "text/x-python",
   "name": "python",
   "nbconvert_exporter": "python",
   "pygments_lexer": "ipython3",
   "version": "3.6.5"
  }
 },
 "nbformat": 4,
 "nbformat_minor": 2
}
