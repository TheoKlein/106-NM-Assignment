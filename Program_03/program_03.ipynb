{
 "cells": [
  {
   "cell_type": "code",
   "execution_count": 1,
   "metadata": {},
   "outputs": [],
   "source": [
    "from sympy import Symbol, summation, pi, N, E\n",
    "from mpmath import log\n",
    "import sympy as sp\n",
    "import logging\n",
    "\n",
    "logging.basicConfig(format='%(asctime)s [%(levelname)s] %(message)s', level=logging.INFO)\n",
    "\n",
    "# define symbol for sympy\n",
    "X = Symbol('x')\n",
    "\n",
    "class QuadratureRule:\n",
    "    def __init__(self, f, minmax, error=1/pow(10, 6), debug=False):\n",
    "        if debug:\n",
    "            logging.getLogger().setLevel(logging.DEBUG)\n",
    "        else:\n",
    "            logging.getLogger().setLevel(logging.INFO)\n",
    "        self.function = f\n",
    "        self.integral = minmax\n",
    "        self.error = error\n",
    "        \n",
    "    \n",
    "    def midpoint(self):\n",
    "        m = 0\n",
    "        old_area = 0\n",
    "        while 1:\n",
    "            m += 1\n",
    "            n = m * 2 - 2\n",
    "            h = (self.integral[1] - self.integral[0]) / (n + 2)\n",
    "            \n",
    "            area = 0\n",
    "            for j in range(n // 2 + 1):\n",
    "                area += self.function.subs(X, self.integral[0] + (2 * j + 1) * h)\n",
    "            area = (2 * h) * area\n",
    "            error = abs(area - old_area)\n",
    "            logging.debug(\"m = {}\\tn = {}\".format(m, n))\n",
    "            logging.debug(\"result = {}\\terror = {}\\n\".format(N(area), N(error)))\n",
    "            \n",
    "            if error < self.error and m != 1:\n",
    "                print(\"m = {}\\nresult = {}\\terror = {}\".format(m, N(area), N(error)))\n",
    "                break\n",
    "            old_area = area\n",
    "    \n",
    "    \n",
    "    def trapezoidal(self):\n",
    "        m = 0\n",
    "        old_area = 1\n",
    "        while 1:\n",
    "            m += 1\n",
    "            n = m\n",
    "            h = (self.integral[1] - self.integral[0]) / n\n",
    "            \n",
    "            tmp = 0\n",
    "            for j in range(1, n):\n",
    "                tmp += self.function.subs(X, self.integral[0] + j * h)\n",
    "            area = (h / 2) * (self.function.subs(X, self.integral[0]) + self.function.subs(X, self.integral[1]) + 2 * tmp)\n",
    "            error = abs(area - old_area)\n",
    "            logging.debug(\"m = {}\\tn = {}\".format(m, n))\n",
    "            logging.debug(\"result = {}\\terror = {}\\n\".format(N(area), N(error)))\n",
    "                        \n",
    "            if error < self.error and m != 1:\n",
    "                print(\"m = {}\\nresult = {}\\terror = {}\".format(m, N(area), N(error)))\n",
    "                break\n",
    "            old_area = area\n",
    "    \n",
    "    \n",
    "    def simpson(self):\n",
    "        m = 0\n",
    "        old_area = 1\n",
    "        while 1:\n",
    "            m += 1\n",
    "            n = 2 * m\n",
    "            h = (self.integral[1] - self.integral[0]) / n\n",
    "            \n",
    "            tmp_1 = 0\n",
    "            tmp_2 = 0\n",
    "            for j in range(1, n // 2):\n",
    "                tmp_1 += self.function.subs(X, self.integral[0] + 2 * j * h)\n",
    "                \n",
    "            for j in range(1, n // 2 + 1):\n",
    "                tmp_2 += self.function.subs(X, self.integral[0] + (2 * j - 1) * h)\n",
    "                \n",
    "            area = (h / 3) * (self.function.subs(X, self.integral[0]) + 2 * tmp_1 + 4 * tmp_2 + self.function.subs(X, self.integral[1]))\n",
    "            error = abs(area - old_area)\n",
    "            logging.debug(\"m = {}\\tn = {}\".format(m, n))\n",
    "            logging.debug(\"result = {}\\terror = {}\\n\".format(N(area), N(error)))\n",
    "                        \n",
    "            if error < self.error and m != 1:\n",
    "                print(\"m = {}\\nresult = {}\\terror = {}\".format(m, N(area), N(error)))\n",
    "                break\n",
    "            old_area = area"
   ]
  },
  {
   "cell_type": "markdown",
   "metadata": {},
   "source": [
    "# Testing Cases\n",
    "## (a) $\\int_0^\\pi sin\\,x\\, \\mathrm{d}x$"
   ]
  },
  {
   "cell_type": "code",
   "execution_count": 2,
   "metadata": {},
   "outputs": [],
   "source": [
    "f = sp.sin(X)\n",
    "a = QuadratureRule(f, (0, N(pi)))"
   ]
  },
  {
   "cell_type": "markdown",
   "metadata": {},
   "source": [
    "### (I) Midpoint Rule"
   ]
  },
  {
   "cell_type": "code",
   "execution_count": 3,
   "metadata": {},
   "outputs": [
    {
     "name": "stdout",
     "output_type": "stream",
     "text": [
      "m = 119\n",
      "result = 2.00005808090903\terror = 9.88613906294233E-7\n"
     ]
    }
   ],
   "source": [
    "a.midpoint()"
   ]
  },
  {
   "cell_type": "markdown",
   "metadata": {},
   "source": [
    "### (II) Trapezoidal Rule"
   ]
  },
  {
   "cell_type": "code",
   "execution_count": 4,
   "metadata": {},
   "outputs": [
    {
     "name": "stdout",
     "output_type": "stream",
     "text": [
      "m = 150\n",
      "result = 1.99992689128476\terror = 9.84625369238046E-7\n"
     ]
    }
   ],
   "source": [
    "a.trapezoidal()"
   ]
  },
  {
   "cell_type": "markdown",
   "metadata": {},
   "source": [
    "### (III) Simpson's Rule"
   ]
  },
  {
   "cell_type": "code",
   "execution_count": 5,
   "metadata": {},
   "outputs": [
    {
     "name": "stdout",
     "output_type": "stream",
     "text": [
      "m = 13\n",
      "result = 2.00000237256946\terror = 8.96307695175125E-7\n"
     ]
    }
   ],
   "source": [
    "a.simpson()"
   ]
  },
  {
   "cell_type": "markdown",
   "metadata": {},
   "source": [
    "## (b) $\\int_0^1 e^x \\, \\mathrm{d}x$"
   ]
  },
  {
   "cell_type": "code",
   "execution_count": 6,
   "metadata": {},
   "outputs": [],
   "source": [
    "f = E**X\n",
    "b = QuadratureRule(f, (0, 1))"
   ]
  },
  {
   "cell_type": "markdown",
   "metadata": {},
   "source": [
    "### (I) Midpoint Rule"
   ]
  },
  {
   "cell_type": "code",
   "execution_count": 7,
   "metadata": {},
   "outputs": [
    {
     "name": "stdout",
     "output_type": "stream",
     "text": [
      "m = 53\n",
      "result = 1.71825634097852\terror = 9.89702880094256E-7\n"
     ]
    }
   ],
   "source": [
    "b.midpoint()"
   ]
  },
  {
   "cell_type": "markdown",
   "metadata": {},
   "source": [
    "### (II) Trapezoidal Rule"
   ]
  },
  {
   "cell_type": "code",
   "execution_count": 8,
   "metadata": {},
   "outputs": [
    {
     "name": "stdout",
     "output_type": "stream",
     "text": [
      "m = 67\n",
      "result = 1.71831372634738\terror = 9.73921698869715E-7\n"
     ]
    }
   ],
   "source": [
    "b.trapezoidal()"
   ]
  },
  {
   "cell_type": "markdown",
   "metadata": {},
   "source": [
    "### (III) Simpson's Rule"
   ]
  },
  {
   "cell_type": "code",
   "execution_count": 9,
   "metadata": {},
   "outputs": [
    {
     "name": "stdout",
     "output_type": "stream",
     "text": [
      "m = 6\n",
      "result = 1.71828228843802\terror = 4.93486803062270E-7\n"
     ]
    }
   ],
   "source": [
    "b.simpson()"
   ]
  },
  {
   "cell_type": "markdown",
   "metadata": {},
   "source": [
    "## (c) $\\int_0^1 arctan\\,x \\, \\mathrm{d}x$"
   ]
  },
  {
   "cell_type": "code",
   "execution_count": 10,
   "metadata": {},
   "outputs": [],
   "source": [
    "f = sp.atan(X)\n",
    "c = QuadratureRule(f, (0, 1))"
   ]
  },
  {
   "cell_type": "markdown",
   "metadata": {},
   "source": [
    "### (I) Midpoint Rule"
   ]
  },
  {
   "cell_type": "code",
   "execution_count": 11,
   "metadata": {},
   "outputs": [
    {
     "name": "stdout",
     "output_type": "stream",
     "text": [
      "m = 36\n",
      "result = 0.438840650029616\terror = 9.31915670521200E-7\n"
     ]
    }
   ],
   "source": [
    "c.midpoint()"
   ]
  },
  {
   "cell_type": "markdown",
   "metadata": {},
   "source": [
    "### (II) Trapezoidal Rule"
   ]
  },
  {
   "cell_type": "code",
   "execution_count": 12,
   "metadata": {},
   "outputs": [
    {
     "name": "stdout",
     "output_type": "stream",
     "text": [
      "m = 45\n",
      "result = 0.438803996138927\terror = 9.45986537753033E-7\n"
     ]
    }
   ],
   "source": [
    "c.trapezoidal()"
   ]
  },
  {
   "cell_type": "markdown",
   "metadata": {},
   "source": [
    "### (III) Simpson's Rule"
   ]
  },
  {
   "cell_type": "code",
   "execution_count": 13,
   "metadata": {},
   "outputs": [
    {
     "name": "stdout",
     "output_type": "stream",
     "text": [
      "m = 6\n",
      "result = 0.438825249007574\terror = 7.31355506817090E-7\n"
     ]
    }
   ],
   "source": [
    "c.simpson()"
   ]
  },
  {
   "cell_type": "markdown",
   "metadata": {},
   "source": [
    "## (d) $\\int_{-2}^{10} (x^2+2x+8)\\,\\mathrm{d}x$"
   ]
  },
  {
   "cell_type": "code",
   "execution_count": 14,
   "metadata": {},
   "outputs": [],
   "source": [
    "f = (X**2 + 2*X + 8)\n",
    "d = QuadratureRule(f, (-2, 10))"
   ]
  },
  {
   "cell_type": "markdown",
   "metadata": {},
   "source": [
    "### (I) Midpoint Rule"
   ]
  },
  {
   "cell_type": "code",
   "execution_count": 15,
   "metadata": {},
   "outputs": [
    {
     "name": "stdout",
     "output_type": "stream",
     "text": [
      "m = 661\n",
      "result = 527.999670420969\terror = 9.99481358121557E-7\n"
     ]
    }
   ],
   "source": [
    "d.midpoint()"
   ]
  },
  {
   "cell_type": "markdown",
   "metadata": {},
   "source": [
    "### (II) Trapezoidal Rule"
   ]
  },
  {
   "cell_type": "code",
   "execution_count": 16,
   "metadata": {},
   "outputs": [
    {
     "name": "stdout",
     "output_type": "stream",
     "text": [
      "m = 833\n",
      "result = 528.000415051975\terror = 9.98320956568932E-7\n"
     ]
    }
   ],
   "source": [
    "d.trapezoidal()"
   ]
  },
  {
   "cell_type": "markdown",
   "metadata": {},
   "source": [
    "### (III) Simpson's Rule"
   ]
  },
  {
   "cell_type": "code",
   "execution_count": 17,
   "metadata": {},
   "outputs": [
    {
     "name": "stdout",
     "output_type": "stream",
     "text": [
      "m = 2\n",
      "result = 528.000000000000\terror = 0\n"
     ]
    }
   ],
   "source": [
    "d.simpson()"
   ]
  },
  {
   "cell_type": "markdown",
   "metadata": {},
   "source": [
    "## (e) $\\int_0^2 \\ln(1+x^2)\\,\\mathrm{d}x$"
   ]
  },
  {
   "cell_type": "code",
   "execution_count": 18,
   "metadata": {},
   "outputs": [],
   "source": [
    "f = sp.log(1 + X**2)\n",
    "e = QuadratureRule(f, (0, 2))"
   ]
  },
  {
   "cell_type": "markdown",
   "metadata": {},
   "source": [
    "### (I) Midpoint Rule"
   ]
  },
  {
   "cell_type": "code",
   "execution_count": 19,
   "metadata": {},
   "outputs": [
    {
     "name": "stdout",
     "output_type": "stream",
     "text": [
      "m = 65\n",
      "result = 1.43314170234071\terror = 9.93893467526874E-7\n"
     ]
    }
   ],
   "source": [
    "e.midpoint()"
   ]
  },
  {
   "cell_type": "markdown",
   "metadata": {},
   "source": [
    "### (II) Trapezoidal Rule"
   ]
  },
  {
   "cell_type": "code",
   "execution_count": 20,
   "metadata": {},
   "outputs": [
    {
     "name": "stdout",
     "output_type": "stream",
     "text": [
      "m = 82\n",
      "result = 1.43321291935810\terror = 9.85275982597147E-7\n"
     ]
    }
   ],
   "source": [
    "e.trapezoidal()"
   ]
  },
  {
   "cell_type": "markdown",
   "metadata": {},
   "source": [
    "### (III) Simpson's Rule"
   ]
  },
  {
   "cell_type": "code",
   "execution_count": 21,
   "metadata": {},
   "outputs": [
    {
     "name": "stdout",
     "output_type": "stream",
     "text": [
      "m = 6\n",
      "result = 1.43317354359413\terror = 3.29662202165660E-7\n"
     ]
    }
   ],
   "source": [
    "e.simpson()"
   ]
  },
  {
   "cell_type": "markdown",
   "metadata": {},
   "source": [
    "## (f) $\\int_{-1}^1 \\dfrac{\\pi}{(1+x^2)^2}\\,\\mathrm{d}x$"
   ]
  },
  {
   "cell_type": "code",
   "execution_count": 22,
   "metadata": {},
   "outputs": [],
   "source": [
    "f = N(pi) / (1 + X**2)**2\n",
    "f = QuadratureRule(f, (-1, 1))"
   ]
  },
  {
   "cell_type": "markdown",
   "metadata": {},
   "source": [
    "### (I) Midpoint Rule"
   ]
  },
  {
   "cell_type": "code",
   "execution_count": 23,
   "metadata": {},
   "outputs": [
    {
     "name": "stdout",
     "output_type": "stream",
     "text": [
      "m = 103\n",
      "result = 4.03824677964507\terror = 9.72408488841836E-7\n"
     ]
    }
   ],
   "source": [
    "f.midpoint()"
   ]
  },
  {
   "cell_type": "markdown",
   "metadata": {},
   "source": [
    "### (II) Trapezoidal Rule"
   ]
  },
  {
   "cell_type": "code",
   "execution_count": 24,
   "metadata": {},
   "outputs": [
    {
     "name": "stdout",
     "output_type": "stream",
     "text": [
      "m = 129\n",
      "result = 4.03813449906027\terror = 9.87078879965964E-7\n"
     ]
    }
   ],
   "source": [
    "f.trapezoidal()"
   ]
  },
  {
   "cell_type": "markdown",
   "metadata": {},
   "source": [
    "### (III) Simpson's Rule"
   ]
  },
  {
   "cell_type": "code",
   "execution_count": 25,
   "metadata": {},
   "outputs": [
    {
     "name": "stdout",
     "output_type": "stream",
     "text": [
      "m = 13\n",
      "result = 4.03819556832208\terror = 7.07413826184222E-7\n"
     ]
    }
   ],
   "source": [
    "f.simpson()"
   ]
  },
  {
   "cell_type": "markdown",
   "metadata": {},
   "source": [
    "# Application\n",
    "Use the Composite Midpoint Rule, the Composite Trapezoidal Rule and the\n",
    "Composite Simpson’s Rule to do the following question:\n",
    "\n",
    "A car laps a race track in 84 seconds. The speed of the car at each 6-second interval\n",
    "is determined using a radar gun and is given from the beginning of the lap, in\n",
    "feet/second, by the entries in the following table:\n",
    "\n",
    "|Time|0|6|12|18|24|30|36|42|48|54|60|66|72|78|84|\n",
    "|----|-|-|--|--|--|--|--|--|--|--|--|--|--|--|\n",
    "|Speed|124|134|148|156|147|133|121|109|99|85|78|89|104|116|123|\n",
    "\n",
    "Question: How long is the track? "
   ]
  },
  {
   "cell_type": "code",
   "execution_count": 26,
   "metadata": {},
   "outputs": [
    {
     "name": "stdout",
     "output_type": "stream",
     "text": [
      "Midpoint Rule:\n",
      "track length = 11328\n",
      "\n",
      "Trapezoidal Rule:\n",
      "track length = 9855.0\n",
      "\n",
      "Simpson's Rule:\n",
      "track length = 9858.0\n",
      "\n"
     ]
    }
   ],
   "source": [
    "def midpoint(f_y, n, h, minmax, error_allow=1/pow(10, 6)):\n",
    "    area = 0\n",
    "    for i in range(n):\n",
    "        area = 0\n",
    "        for j in range(n // 2 + 1):\n",
    "            area += f_y[abs(minmax[0] + (2 * j + 1) * h) - h]\n",
    "        area = (2 * h) * area\n",
    "    return area\n",
    "\n",
    "\n",
    "def trapezoidal(f_y, n, h, minmax, error_allow=1/pow(10, 6)):\n",
    "    area = 0\n",
    "    for i in range(n):          \n",
    "        tmp = 0\n",
    "        for j in range(1, n):\n",
    "            tmp += f_y[abs(minmax[0] + j * h)]\n",
    "        area = (h / 2) * (f_y[minmax[0]] + f_y[minmax[1]] + 2 * tmp)\n",
    "    return area\n",
    "    \n",
    "    \n",
    "def simpson(f_y, n, h, minmax, error_allow=1/pow(10, 6)):\n",
    "    area = 0\n",
    "    for i in range(n):\n",
    "        tmp_1 = 0\n",
    "        tmp_2 = 0\n",
    "        for j in range(1, n // 2):\n",
    "            tmp_1 += f_y[minmax[0] + 2 * j * h]\n",
    "\n",
    "        for j in range(1, n // 2 + 1):\n",
    "            tmp_2 += f_y[minmax[0] + (2 * j - 1) * h]\n",
    "\n",
    "        area = (h / 3) * (f_y[minmax[0]] + 2 * tmp_1 + 4 * tmp_2 + f_y[minmax[1]])\n",
    "    return area\n",
    "\n",
    "f_y = { 0: 124, 6: 134, 12: 148, 18: 156, 24: 147, 30: 133, 36: 121, 42: 109,\n",
    "    48: 99, 54: 85, 60: 78, 66: 89, 72: 104, 78: 116, 84: 123 }\n",
    "n = 14\n",
    "h = 6\n",
    "minmax = (0, 84)\n",
    "\n",
    "print(\"Midpoint Rule:\\ntrack length = {}\\n\".format(midpoint(f_y, n, h, minmax)))\n",
    "print(\"Trapezoidal Rule:\\ntrack length = {}\\n\".format(trapezoidal(f_y, n, h, minmax)))\n",
    "print(\"Simpson's Rule:\\ntrack length = {}\\n\".format(simpson(f_y, n, h, minmax)))"
   ]
  },
  {
   "cell_type": "code",
   "execution_count": null,
   "metadata": {},
   "outputs": [],
   "source": []
  }
 ],
 "metadata": {
  "kernelspec": {
   "display_name": "Python 3",
   "language": "python",
   "name": "python3"
  },
  "language_info": {
   "codemirror_mode": {
    "name": "ipython",
    "version": 3
   },
   "file_extension": ".py",
   "mimetype": "text/x-python",
   "name": "python",
   "nbconvert_exporter": "python",
   "pygments_lexer": "ipython3",
   "version": "3.6.5"
  }
 },
 "nbformat": 4,
 "nbformat_minor": 2
}
